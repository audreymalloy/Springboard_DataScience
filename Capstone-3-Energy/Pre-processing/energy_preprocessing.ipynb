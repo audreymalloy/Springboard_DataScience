{
 "cells": [
  {
   "cell_type": "markdown",
   "id": "153b703e-32a6-4194-9720-c6fff9136ed6",
   "metadata": {},
   "source": [
    "## Capstone 3: Sustainable Energy Recommendation System  \n",
    "### \"Leveraging Neural Collaborative Filtering for Sustainable Energy Insights\"\n",
    "## Preprocessing   and   Training   Data   Development Objective: \n",
    "Goal: Create a cleaned development dataset you can use to complete the modeling step of your project.  \n",
    "Steps:   \n",
    "    ● Create   dummy   or   indicator   features   for   categorical   variables  \n",
    "    ● Standardize   the   magnitude   of   numeric   features   using   a   scaler  \n",
    "    ● Split   into   testing   and   training   datasets "
   ]
  },
  {
   "cell_type": "markdown",
   "id": "9500c53c-f123-4e67-82bd-e95b82f8b66e",
   "metadata": {},
   "source": [
    "### Neural Collaborative Filtering (NCF):\n",
    "\n",
    "NCF is an advanced deep-learning approach for recommendation systems. Unlike traditional methods like matrix factorization, NCF learns complex relationships using neural networks.\n",
    "\n",
    "    - Learns user-item interactions dynamically rather than assuming a linear relationship\n",
    "    - Uses embeddings to encode user/item features and predict preferences\n",
    "    - Scales better for large datasets compared to traditional collaborative filtering\n",
    "\n",
    "Requires an user-tem interactions structure...\n",
    "\n",
    "This data will protray: \n",
    "- Users -> **Countries**\n",
    "- Items -> Energy investments, policy impacts, or **renewable adoption rates**\n",
    "- Interactions -> Energy consumption, investment ratios or **adoption success** \n",
    "\n"
   ]
  },
  {
   "cell_type": "code",
   "execution_count": 9,
   "id": "76ac4e0f-53e2-43aa-bbdd-a71e5000e77c",
   "metadata": {},
   "outputs": [],
   "source": [
    "import pandas as pd\n",
    "from sklearn.preprocessing import StandardScaler\n",
    "from sklearn.model_selection import train_test_split\n",
    "import numpy as np\n",
    "import os\n",
    "import matplotlib.pyplot as plt\n",
    "import seaborn as sns\n",
    "from sklearn import __version__ as sklearn_version\n",
    "from sklearn.decomposition import PCA\n",
    "from sklearn.preprocessing import scale\n",
    "from sklearn.model_selection import train_test_split, cross_validate, GridSearchCV, learning_curve\n",
    "from sklearn.preprocessing import StandardScaler, MinMaxScaler\n",
    "from sklearn.dummy import DummyRegressor\n",
    "from sklearn.linear_model import LinearRegression\n",
    "from sklearn.ensemble import RandomForestRegressor\n",
    "from sklearn.metrics import r2_score, mean_squared_error, mean_absolute_error\n",
    "from sklearn.pipeline import make_pipeline\n",
    "from sklearn.impute import SimpleImputer\n",
    "from sklearn.feature_selection import SelectKBest, f_regression\n",
    "import datetime"
   ]
  },
  {
   "cell_type": "code",
   "execution_count": 80,
   "id": "32572550-ca56-4725-94d0-763bbe12d64f",
   "metadata": {},
   "outputs": [],
   "source": [
    "os.chdir('C:/Users/aamal/Desktop/Springboard/Springboard_DataScience/Capstone-3-Energy/data')\n",
    "file_path = 'C:/Users/aamal/Desktop/Springboard/Springboard_DataScience/Capstone-3-Energy/data/energy_data_eda.csv'\n",
    "df = pd.read_csv(file_path)"
   ]
  },
  {
   "cell_type": "code",
   "execution_count": 52,
   "id": "e0d245bd-356c-4a34-badf-c73e2b73640e",
   "metadata": {},
   "outputs": [
    {
     "data": {
      "text/html": [
       "<div>\n",
       "<style scoped>\n",
       "    .dataframe tbody tr th:only-of-type {\n",
       "        vertical-align: middle;\n",
       "    }\n",
       "\n",
       "    .dataframe tbody tr th {\n",
       "        vertical-align: top;\n",
       "    }\n",
       "\n",
       "    .dataframe thead th {\n",
       "        text-align: right;\n",
       "    }\n",
       "</style>\n",
       "<table border=\"1\" class=\"dataframe\">\n",
       "  <thead>\n",
       "    <tr style=\"text-align: right;\">\n",
       "      <th></th>\n",
       "      <th>Entity</th>\n",
       "      <th>Year</th>\n",
       "      <th>Electricity_Access</th>\n",
       "      <th>Clean_Cooking_Fuels</th>\n",
       "      <th>Renewable_Capacity</th>\n",
       "      <th>Financial_Flows</th>\n",
       "      <th>Renewable_Share</th>\n",
       "      <th>Fossil_Electricity</th>\n",
       "      <th>Nuclear_Electricity</th>\n",
       "      <th>Renewable_Electricity</th>\n",
       "      <th>...</th>\n",
       "      <th>Energy_Dependency</th>\n",
       "      <th>CO2_Intensity_Per_Capita</th>\n",
       "      <th>Renewables_to_Fossil</th>\n",
       "      <th>Energy_Efficiency</th>\n",
       "      <th>Renewable_Nuclear_Interaction</th>\n",
       "      <th>Energy_Cluster</th>\n",
       "      <th>Renewable_Adoption_Group</th>\n",
       "      <th>Investment_Energy_Ratio</th>\n",
       "      <th>Policy_Impact</th>\n",
       "      <th>Econ_Energy_Cluster</th>\n",
       "    </tr>\n",
       "  </thead>\n",
       "  <tbody>\n",
       "    <tr>\n",
       "      <th>0</th>\n",
       "      <td>0</td>\n",
       "      <td>2000</td>\n",
       "      <td>1.613591</td>\n",
       "      <td>6.2</td>\n",
       "      <td>9.22</td>\n",
       "      <td>20000.0</td>\n",
       "      <td>0.468451</td>\n",
       "      <td>0.16</td>\n",
       "      <td>0.0</td>\n",
       "      <td>0.31</td>\n",
       "      <td>...</td>\n",
       "      <td>9.369013e+03</td>\n",
       "      <td>0.000005</td>\n",
       "      <td>1.937488</td>\n",
       "      <td>2.300408</td>\n",
       "      <td>0.0</td>\n",
       "      <td>2</td>\n",
       "      <td>Low Renewable Adoption</td>\n",
       "      <td>1.734055e+07</td>\n",
       "      <td>Strong Investment</td>\n",
       "      <td>0</td>\n",
       "    </tr>\n",
       "    <tr>\n",
       "      <th>1</th>\n",
       "      <td>0</td>\n",
       "      <td>2001</td>\n",
       "      <td>4.074574</td>\n",
       "      <td>7.2</td>\n",
       "      <td>8.86</td>\n",
       "      <td>130000.0</td>\n",
       "      <td>0.474802</td>\n",
       "      <td>0.09</td>\n",
       "      <td>0.0</td>\n",
       "      <td>0.50</td>\n",
       "      <td>...</td>\n",
       "      <td>6.172428e+04</td>\n",
       "      <td>0.000005</td>\n",
       "      <td>5.555494</td>\n",
       "      <td>2.938436</td>\n",
       "      <td>0.0</td>\n",
       "      <td>2</td>\n",
       "      <td>Low Renewable Adoption</td>\n",
       "      <td>1.439406e+08</td>\n",
       "      <td>Strong Investment</td>\n",
       "      <td>0</td>\n",
       "    </tr>\n",
       "    <tr>\n",
       "      <th>2</th>\n",
       "      <td>0</td>\n",
       "      <td>2002</td>\n",
       "      <td>9.409158</td>\n",
       "      <td>8.2</td>\n",
       "      <td>8.47</td>\n",
       "      <td>3950000.0</td>\n",
       "      <td>0.393898</td>\n",
       "      <td>0.13</td>\n",
       "      <td>0.0</td>\n",
       "      <td>0.56</td>\n",
       "      <td>...</td>\n",
       "      <td>1.555899e+06</td>\n",
       "      <td>0.000007</td>\n",
       "      <td>4.307659</td>\n",
       "      <td>0.681160</td>\n",
       "      <td>0.0</td>\n",
       "      <td>2</td>\n",
       "      <td>Low Renewable Adoption</td>\n",
       "      <td>4.912800e+09</td>\n",
       "      <td>Strong Investment</td>\n",
       "      <td>0</td>\n",
       "    </tr>\n",
       "    <tr>\n",
       "      <th>3</th>\n",
       "      <td>0</td>\n",
       "      <td>2003</td>\n",
       "      <td>14.738506</td>\n",
       "      <td>9.5</td>\n",
       "      <td>8.09</td>\n",
       "      <td>25970000.0</td>\n",
       "      <td>0.381716</td>\n",
       "      <td>0.31</td>\n",
       "      <td>0.0</td>\n",
       "      <td>0.63</td>\n",
       "      <td>...</td>\n",
       "      <td>9.913163e+06</td>\n",
       "      <td>0.000008</td>\n",
       "      <td>2.032252</td>\n",
       "      <td>0.728731</td>\n",
       "      <td>0.0</td>\n",
       "      <td>2</td>\n",
       "      <td>Low Renewable Adoption</td>\n",
       "      <td>2.961963e+10</td>\n",
       "      <td>Strong Investment</td>\n",
       "      <td>0</td>\n",
       "    </tr>\n",
       "    <tr>\n",
       "      <th>4</th>\n",
       "      <td>0</td>\n",
       "      <td>2004</td>\n",
       "      <td>20.064968</td>\n",
       "      <td>10.9</td>\n",
       "      <td>7.75</td>\n",
       "      <td>0.0</td>\n",
       "      <td>0.460641</td>\n",
       "      <td>0.33</td>\n",
       "      <td>0.0</td>\n",
       "      <td>0.56</td>\n",
       "      <td>...</td>\n",
       "      <td>0.000000e+00</td>\n",
       "      <td>0.000007</td>\n",
       "      <td>1.696965</td>\n",
       "      <td>1.036219</td>\n",
       "      <td>0.0</td>\n",
       "      <td>2</td>\n",
       "      <td>Low Renewable Adoption</td>\n",
       "      <td>0.000000e+00</td>\n",
       "      <td>Low Investment</td>\n",
       "      <td>0</td>\n",
       "    </tr>\n",
       "  </tbody>\n",
       "</table>\n",
       "<p>5 rows × 31 columns</p>\n",
       "</div>"
      ],
      "text/plain": [
       "   Entity  Year  Electricity_Access  Clean_Cooking_Fuels  Renewable_Capacity  \\\n",
       "0       0  2000            1.613591                  6.2                9.22   \n",
       "1       0  2001            4.074574                  7.2                8.86   \n",
       "2       0  2002            9.409158                  8.2                8.47   \n",
       "3       0  2003           14.738506                  9.5                8.09   \n",
       "4       0  2004           20.064968                 10.9                7.75   \n",
       "\n",
       "   Financial_Flows  Renewable_Share  Fossil_Electricity  Nuclear_Electricity  \\\n",
       "0          20000.0         0.468451                0.16                  0.0   \n",
       "1         130000.0         0.474802                0.09                  0.0   \n",
       "2        3950000.0         0.393898                0.13                  0.0   \n",
       "3       25970000.0         0.381716                0.31                  0.0   \n",
       "4              0.0         0.460641                0.33                  0.0   \n",
       "\n",
       "   Renewable_Electricity  ...  Energy_Dependency  CO2_Intensity_Per_Capita  \\\n",
       "0                   0.31  ...       9.369013e+03                  0.000005   \n",
       "1                   0.50  ...       6.172428e+04                  0.000005   \n",
       "2                   0.56  ...       1.555899e+06                  0.000007   \n",
       "3                   0.63  ...       9.913163e+06                  0.000008   \n",
       "4                   0.56  ...       0.000000e+00                  0.000007   \n",
       "\n",
       "   Renewables_to_Fossil  Energy_Efficiency  Renewable_Nuclear_Interaction  \\\n",
       "0              1.937488           2.300408                            0.0   \n",
       "1              5.555494           2.938436                            0.0   \n",
       "2              4.307659           0.681160                            0.0   \n",
       "3              2.032252           0.728731                            0.0   \n",
       "4              1.696965           1.036219                            0.0   \n",
       "\n",
       "   Energy_Cluster  Renewable_Adoption_Group  Investment_Energy_Ratio  \\\n",
       "0               2    Low Renewable Adoption             1.734055e+07   \n",
       "1               2    Low Renewable Adoption             1.439406e+08   \n",
       "2               2    Low Renewable Adoption             4.912800e+09   \n",
       "3               2    Low Renewable Adoption             2.961963e+10   \n",
       "4               2    Low Renewable Adoption             0.000000e+00   \n",
       "\n",
       "       Policy_Impact  Econ_Energy_Cluster  \n",
       "0  Strong Investment                    0  \n",
       "1  Strong Investment                    0  \n",
       "2  Strong Investment                    0  \n",
       "3  Strong Investment                    0  \n",
       "4     Low Investment                    0  \n",
       "\n",
       "[5 rows x 31 columns]"
      ]
     },
     "execution_count": 52,
     "metadata": {},
     "output_type": "execute_result"
    }
   ],
   "source": [
    "df.head()"
   ]
  },
  {
   "cell_type": "markdown",
   "id": "73912dbc-e834-437b-9e24-f86d0ec428c1",
   "metadata": {},
   "source": [
    "**Dataset Structure Overview**:\n",
    "\n",
    "✔ Economic Metrics (`GDP_Growth`, `GDP_Per_Capita`, `Financial_Flows`, `Population_Density`)\n",
    "\n",
    "✔ Energy Infrastructure & Consumption (`Energy_Consumption`, `Energy_Efficiency`, `Electricity_Access`)\n",
    "\n",
    "✔ Renewable vs Fossil Energy Metrics (`Renewable_Share`, `Fossil_Electricity`, `Renewable_Electricity`, `Renewables_to_Fossil`)\n",
    "\n",
    "✔ CO₂ & Sustainability Indicators (`CO2_Emissions`, `CO2_Intensity_Per_Capita`, `Renewables_Percentage`)\n",
    "\n",
    "✔ Geospatial Attributes (`Latitude`, `Longitude`, `Land_Area`)\n",
    "\n",
    "✔ Clustering & Policy Metrics (`Energy_Cluster`, `Econ_Energy_Cluster`, `Policy_Impact`, `Renewable_Adoption_Group`, `Policy_Impact_Strong Investment`)\n"
   ]
  },
  {
   "cell_type": "markdown",
   "id": "62f25031-344e-4cbc-bdc5-bbb2a7e400fe",
   "metadata": {},
   "source": [
    "#### **Clustering Ideas for NCF:**\n",
    "\n",
    "**1.  Energy Transition Clusters**\n",
    "- Group countries based on their transition from fossil fuels to renewables\n",
    "- Consider features like `Fossil_Electricity`, `Renewable_Share`, `Renewables_to_Fossil`\n",
    "- Helps analyze which nations are leading vs lagging in clean energy adoption\n",
    "\n",
    "  \n",
    "**2.  Economic Development & Energy Consumption Clusters**\n",
    "- Classify countries based on `GDP_Per_Capita` and `Energy_Consumption`\n",
    "- Identify whether wealthier nations use energy more efficiently or excessively\n",
    "- Helps understand economic-energy dependencies\n",
    "  \n",
    "**3.  Policy-Driven Investment Clusters**\n",
    "- Use `Financial_Flows` and `Investment_Energy_Ratio`\n",
    "- Group regions based on strong vs weak policy investments in clean energy\n",
    "- Helps governments benchmark best practices for renewable funding\n",
    "  \n",
    "**4. CO₂ Emissions & Sustainability Clusters** \n",
    "- Analyze `CO2_Emissions`, `CO2_Intensity_Per_Capita`, `Renewables_Percentage`\n",
    "- Identify high-emission vs decarbonizing economies\n",
    "- Useful for climate policy evaluation\n",
    "\n"
   ]
  },
  {
   "cell_type": "code",
   "execution_count": 54,
   "id": "6bcf830f-5a52-4dbf-bf08-671ee2591d74",
   "metadata": {},
   "outputs": [
    {
     "data": {
      "text/plain": [
       "Entity                           0\n",
       "Year                             0\n",
       "Electricity_Access               0\n",
       "Clean_Cooking_Fuels              0\n",
       "Renewable_Capacity               0\n",
       "Financial_Flows                  0\n",
       "Renewable_Share                  0\n",
       "Fossil_Electricity               0\n",
       "Nuclear_Electricity              0\n",
       "Renewable_Electricity            0\n",
       "Low_Carbon_Electricity           0\n",
       "Energy_Consumption               0\n",
       "Energy_Intensity                 0\n",
       "CO2_Emissions                    0\n",
       "Renewables_Percentage            0\n",
       "GDP_Growth                       0\n",
       "GDP_Per_Capita                   0\n",
       "Population_Density               0\n",
       "Land_Area                        0\n",
       "Latitude                         0\n",
       "Longitude                        0\n",
       "Energy_Dependency                0\n",
       "CO2_Intensity_Per_Capita         0\n",
       "Renewables_to_Fossil             0\n",
       "Energy_Efficiency                0\n",
       "Renewable_Nuclear_Interaction    0\n",
       "Energy_Cluster                   0\n",
       "Renewable_Adoption_Group         0\n",
       "Investment_Energy_Ratio          0\n",
       "Policy_Impact                    0\n",
       "Econ_Energy_Cluster              0\n",
       "dtype: int64"
      ]
     },
     "execution_count": 54,
     "metadata": {},
     "output_type": "execute_result"
    }
   ],
   "source": [
    "df.isnull().sum()"
   ]
  },
  {
   "cell_type": "code",
   "execution_count": 56,
   "id": "b78bb380-91fc-44e9-a3dc-00c2277557f4",
   "metadata": {},
   "outputs": [
    {
     "data": {
      "text/plain": [
       "Entity                             int64\n",
       "Year                               int64\n",
       "Electricity_Access               float64\n",
       "Clean_Cooking_Fuels              float64\n",
       "Renewable_Capacity               float64\n",
       "Financial_Flows                  float64\n",
       "Renewable_Share                  float64\n",
       "Fossil_Electricity               float64\n",
       "Nuclear_Electricity              float64\n",
       "Renewable_Electricity            float64\n",
       "Low_Carbon_Electricity           float64\n",
       "Energy_Consumption               float64\n",
       "Energy_Intensity                 float64\n",
       "CO2_Emissions                    float64\n",
       "Renewables_Percentage            float64\n",
       "GDP_Growth                       float64\n",
       "GDP_Per_Capita                   float64\n",
       "Population_Density               float64\n",
       "Land_Area                        float64\n",
       "Latitude                         float64\n",
       "Longitude                        float64\n",
       "Energy_Dependency                float64\n",
       "CO2_Intensity_Per_Capita         float64\n",
       "Renewables_to_Fossil             float64\n",
       "Energy_Efficiency                float64\n",
       "Renewable_Nuclear_Interaction    float64\n",
       "Energy_Cluster                     int64\n",
       "Renewable_Adoption_Group          object\n",
       "Investment_Energy_Ratio          float64\n",
       "Policy_Impact                     object\n",
       "Econ_Energy_Cluster                int64\n",
       "dtype: object"
      ]
     },
     "execution_count": 56,
     "metadata": {},
     "output_type": "execute_result"
    }
   ],
   "source": [
    "df.dtypes"
   ]
  },
  {
   "cell_type": "markdown",
   "id": "2a6d3e38-3123-4d49-a385-10ce8529e44f",
   "metadata": {},
   "source": [
    "### Objective 1: Create dummy or indicator features for categorical variables"
   ]
  },
  {
   "cell_type": "code",
   "execution_count": 68,
   "id": "32a7a4dd-0299-4fc5-9524-d98a3bf320de",
   "metadata": {},
   "outputs": [
    {
     "name": "stdout",
     "output_type": "stream",
     "text": [
      "Policy_Impact Unique Values: ['Strong Investment' 'Low Investment']\n",
      "Renewable_Adoption_Group Unique Values: ['Low Renewable Adoption']\n"
     ]
    }
   ],
   "source": [
    "for col in [\"Policy_Impact\", \"Renewable_Adoption_Group\"]:\n",
    "    print(f\"{col} Unique Values:\", df[col].unique())"
   ]
  },
  {
   "cell_type": "code",
   "execution_count": 82,
   "id": "63d4ecae-e60a-418f-933a-0932bd225ae4",
   "metadata": {},
   "outputs": [],
   "source": [
    "#Drop Renewable_Adoption_Group since it’s redundant\n",
    "\n",
    "df.drop(columns=[\"Renewable_Adoption_Group\"], inplace=True) "
   ]
  },
  {
   "cell_type": "code",
   "execution_count": 84,
   "id": "36acea5b-006c-486a-a6fd-68e4afeccb91",
   "metadata": {},
   "outputs": [],
   "source": [
    "from sklearn.preprocessing import LabelEncoder\n",
    "\n",
    "# Convert categorical features into numerical format\n",
    "encoder = LabelEncoder()\n",
    "df[\"Policy_Impact\"] = encoder.fit_transform(df[\"Policy_Impact\"])"
   ]
  },
  {
   "cell_type": "markdown",
   "id": "99bfd210-5051-43fd-a6d5-53081bd4d69c",
   "metadata": {},
   "source": [
    "### Objective 2: Standardize "
   ]
  },
  {
   "cell_type": "code",
   "execution_count": 86,
   "id": "e6d24fa1-c97e-4252-9d68-831ce44f0f85",
   "metadata": {},
   "outputs": [
    {
     "data": {
      "image/png": "[encoded data removed]",
      "text/plain": [
       "<Figure size 1200x600 with 5 Axes>"
      ]
     },
     "metadata": {},
     "output_type": "display_data"
    }
   ],
   "source": [
    "\n",
    "# Plot histograms of key numeric features\n",
    "num_features = [\"Energy_Consumption\", \"Financial_Flows\", \"CO2_Emissions\", \"GDP_Per_Capita\", \"Energy_Efficiency\"]\n",
    "\n",
    "plt.figure(figsize=(12, 6))\n",
    "for i, feature in enumerate(num_features):\n",
    "    plt.subplot(2, 3, i+1)\n",
    "    sns.histplot(df[feature], kde=True)\n",
    "    plt.title(f\"Distribution of {feature}\")\n",
    "plt.tight_layout()\n",
    "plt.show()"
   ]
  },
  {
   "cell_type": "code",
   "execution_count": 88,
   "id": "70d193cc-dc96-4bd9-8d23-a9351450e156",
   "metadata": {},
   "outputs": [
    {
     "data": {
      "text/html": [
       "<div>\n",
       "<style scoped>\n",
       "    .dataframe tbody tr th:only-of-type {\n",
       "        vertical-align: middle;\n",
       "    }\n",
       "\n",
       "    .dataframe tbody tr th {\n",
       "        vertical-align: top;\n",
       "    }\n",
       "\n",
       "    .dataframe thead th {\n",
       "        text-align: right;\n",
       "    }\n",
       "</style>\n",
       "<table border=\"1\" class=\"dataframe\">\n",
       "  <thead>\n",
       "    <tr style=\"text-align: right;\">\n",
       "      <th></th>\n",
       "      <th>Energy_Consumption</th>\n",
       "      <th>Financial_Flows</th>\n",
       "      <th>CO2_Emissions</th>\n",
       "      <th>GDP_Per_Capita</th>\n",
       "      <th>Energy_Efficiency</th>\n",
       "    </tr>\n",
       "  </thead>\n",
       "  <tbody>\n",
       "    <tr>\n",
       "      <th>count</th>\n",
       "      <td>3363.000000</td>\n",
       "      <td>3.363000e+03</td>\n",
       "      <td>3363.000000</td>\n",
       "      <td>3363.000000</td>\n",
       "      <td>3363.000000</td>\n",
       "    </tr>\n",
       "    <tr>\n",
       "      <th>mean</th>\n",
       "      <td>0.089107</td>\n",
       "      <td>4.212583e+07</td>\n",
       "      <td>0.032138</td>\n",
       "      <td>0.087316</td>\n",
       "      <td>1.117999</td>\n",
       "    </tr>\n",
       "    <tr>\n",
       "      <th>std</th>\n",
       "      <td>0.123808</td>\n",
       "      <td>2.069441e+08</td>\n",
       "      <td>0.082526</td>\n",
       "      <td>0.119501</td>\n",
       "      <td>0.866115</td>\n",
       "    </tr>\n",
       "    <tr>\n",
       "      <th>min</th>\n",
       "      <td>0.000000</td>\n",
       "      <td>0.000000e+00</td>\n",
       "      <td>0.000000</td>\n",
       "      <td>0.000013</td>\n",
       "      <td>0.006015</td>\n",
       "    </tr>\n",
       "    <tr>\n",
       "      <th>25%</th>\n",
       "      <td>0.011121</td>\n",
       "      <td>0.000000e+00</td>\n",
       "      <td>0.000558</td>\n",
       "      <td>0.009401</td>\n",
       "      <td>0.592981</td>\n",
       "    </tr>\n",
       "    <tr>\n",
       "      <th>50%</th>\n",
       "      <td>0.044440</td>\n",
       "      <td>0.000000e+00</td>\n",
       "      <td>0.003399</td>\n",
       "      <td>0.034000</td>\n",
       "      <td>0.977274</td>\n",
       "    </tr>\n",
       "    <tr>\n",
       "      <th>75%</th>\n",
       "      <td>0.114584</td>\n",
       "      <td>2.880000e+06</td>\n",
       "      <td>0.022931</td>\n",
       "      <td>0.109750</td>\n",
       "      <td>1.448758</td>\n",
       "    </tr>\n",
       "    <tr>\n",
       "      <th>max</th>\n",
       "      <td>1.000000</td>\n",
       "      <td>5.202310e+09</td>\n",
       "      <td>1.000000</td>\n",
       "      <td>0.570076</td>\n",
       "      <td>14.993109</td>\n",
       "    </tr>\n",
       "  </tbody>\n",
       "</table>\n",
       "</div>"
      ],
      "text/plain": [
       "       Energy_Consumption  Financial_Flows  CO2_Emissions  GDP_Per_Capita  \\\n",
       "count         3363.000000     3.363000e+03    3363.000000     3363.000000   \n",
       "mean             0.089107     4.212583e+07       0.032138        0.087316   \n",
       "std              0.123808     2.069441e+08       0.082526        0.119501   \n",
       "min              0.000000     0.000000e+00       0.000000        0.000013   \n",
       "25%              0.011121     0.000000e+00       0.000558        0.009401   \n",
       "50%              0.044440     0.000000e+00       0.003399        0.034000   \n",
       "75%              0.114584     2.880000e+06       0.022931        0.109750   \n",
       "max              1.000000     5.202310e+09       1.000000        0.570076   \n",
       "\n",
       "       Energy_Efficiency  \n",
       "count        3363.000000  \n",
       "mean            1.117999  \n",
       "std             0.866115  \n",
       "min             0.006015  \n",
       "25%             0.592981  \n",
       "50%             0.977274  \n",
       "75%             1.448758  \n",
       "max            14.993109  "
      ]
     },
     "execution_count": 88,
     "metadata": {},
     "output_type": "execute_result"
    }
   ],
   "source": [
    "df[num_features].describe()  # Check mean, min, max, standard deviation"
   ]
  },
  {
   "cell_type": "markdown",
   "id": "0d66ed11-6302-42ec-8fa9-6e6dcd9d4678",
   "metadata": {},
   "source": [
    "✔ Financial_Flows → Extremely large range (0 to $5.2 billion), scaling is critical to prevent dominance over smaller features.\n",
    "\n",
    "✔ CO2_Emissions & Energy_Consumption → Wide spread with min = 0 and max = 1, likely needs standardization to balance effect.\n",
    "\n",
    "✔ GDP_Per_Capita → Small values (0.000013 to 0.57), may not require standardization since numbers are naturally constrained.\n",
    "\n",
    "✔ Energy_Efficiency → Large variation (0.006 to 14.99), scaling is beneficial to stabilize the impact in ML models.\n"
   ]
  },
  {
   "cell_type": "markdown",
   "id": "a975d6ce-3b6b-4f16-8a02-47b276506950",
   "metadata": {},
   "source": [
    "1.  Apply Multiple Scaling Method"
   ]
  },
  {
   "cell_type": "code",
   "execution_count": 92,
   "id": "ff3c63e9-cab7-4555-8296-af74bb723bea",
   "metadata": {},
   "outputs": [],
   "source": [
    "from sklearn.preprocessing import StandardScaler, MinMaxScaler, RobustScaler\n",
    "\n",
    "# Select numerical features\n",
    "num_features = [\"Energy_Consumption\", \"Financial_Flows\", \"CO2_Emissions\", \"GDP_Per_Capita\", \"Energy_Efficiency\"]\n",
    "\n",
    "# StandardScaler (Centering & Unit Variance)\n",
    "standard_scaler = StandardScaler()\n",
    "df_standard = df.copy()\n",
    "df_standard[num_features] = standard_scaler.fit_transform(df_standard[num_features])\n",
    "\n",
    "# MinMaxScaler (Range Scaling 0-1)\n",
    "minmax_scaler = MinMaxScaler()\n",
    "df_minmax = df.copy()\n",
    "df_minmax[num_features] = minmax_scaler.fit_transform(df_minmax[num_features])\n",
    "\n",
    "# RobustScaler (Handles Outliers)\n",
    "robust_scaler = RobustScaler()\n",
    "df_robust = df.copy()\n",
    "df_robust[num_features] = robust_scaler.fit_transform(df_robust[num_features])"
   ]
  },
  {
   "cell_type": "markdown",
   "id": "a45c0377-5264-4e31-ab04-f5602f5c4121",
   "metadata": {},
   "source": [
    "2. Compare Effect"
   ]
  },
  {
   "cell_type": "code",
   "execution_count": 94,
   "id": "58fd8262-2a9c-41c2-b66d-1ad35aa62a09",
   "metadata": {},
   "outputs": [
    {
     "data": {
      "image/png": "[encoded data removed]",
      "text/plain": [
       "<Figure size 1500x500 with 3 Axes>"
      ]
     },
     "metadata": {},
     "output_type": "display_data"
    }
   ],
   "source": [
    "fig, axes = plt.subplots(1, 3, figsize=(15, 5))\n",
    "\n",
    "# Compare Energy_Consumption distributions\n",
    "sns.histplot(df_standard[\"Energy_Consumption\"], ax=axes[0], kde=True, color=\"blue\").set_title(\"StandardScaler\")\n",
    "sns.histplot(df_minmax[\"Energy_Consumption\"], ax=axes[1], kde=True, color=\"green\").set_title(\"MinMaxScaler\")\n",
    "sns.histplot(df_robust[\"Energy_Consumption\"], ax=axes[2], kde=True, color=\"red\").set_title(\"RobustScaler\")\n",
    "\n",
    "plt.show()"
   ]
  },
  {
   "cell_type": "markdown",
   "id": "80c162aa-09d5-4451-8406-a15124c06217",
   "metadata": {},
   "source": [
    "3. Compare Scaled Values"
   ]
  },
  {
   "cell_type": "code",
   "execution_count": 96,
   "id": "31725cf1-9bdc-4f29-9b54-80f19377daf4",
   "metadata": {},
   "outputs": [
    {
     "name": "stdout",
     "output_type": "stream",
     "text": [
      "   Energy_Consumption  StandardScaler_Energy_Consumption  \\\n",
      "0            0.001152                          -0.710521   \n",
      "1            0.000902                          -0.712542   \n",
      "2            0.000803                          -0.713343   \n",
      "3            0.000876                          -0.712755   \n",
      "4            0.000778                          -0.713547   \n",
      "\n",
      "   MinMaxScaler_Energy_Consumption  RobustScaler_Energy_Consumption  \n",
      "0                         0.001152                        -0.418391  \n",
      "1                         0.000902                        -0.420809  \n",
      "2                         0.000803                        -0.421767  \n",
      "3                         0.000876                        -0.421064  \n",
      "4                         0.000778                        -0.422011  \n"
     ]
    }
   ],
   "source": [
    "scaled_comparison = df.copy()\n",
    "scaled_comparison[\"StandardScaler_Energy_Consumption\"] = df_standard[\"Energy_Consumption\"]\n",
    "scaled_comparison[\"MinMaxScaler_Energy_Consumption\"] = df_minmax[\"Energy_Consumption\"]\n",
    "scaled_comparison[\"RobustScaler_Energy_Consumption\"] = df_robust[\"Energy_Consumption\"]\n",
    "\n",
    "print(scaled_comparison[[\"Energy_Consumption\",\n",
    "                         \"StandardScaler_Energy_Consumption\",\n",
    "                         \"MinMaxScaler_Energy_Consumption\",\n",
    "                         \"RobustScaler_Energy_Consumption\"]].head())"
   ]
  },
  {
   "cell_type": "code",
   "execution_count": 98,
   "id": "76c6dfec-b929-4f7e-aafd-62b20e182c70",
   "metadata": {},
   "outputs": [
    {
     "name": "stdout",
     "output_type": "stream",
     "text": [
      "Energy_Consumption     2.887258\n",
      "Financial_Flows       12.291020\n",
      "CO2_Emissions          5.704420\n",
      "GDP_Per_Capita         1.844633\n",
      "Energy_Efficiency      5.359484\n",
      "dtype: float64\n"
     ]
    }
   ],
   "source": [
    "print(df[num_features].skew())  # High skew suggests MinMax or RobustScaler"
   ]
  },
  {
   "cell_type": "code",
   "execution_count": 100,
   "id": "5f45f9da-daca-4375-b27a-e62d9931f98b",
   "metadata": {},
   "outputs": [
    {
     "ename": "ValueError",
     "evalue": "The feature names should match those that were passed during fit.\nFeature names unseen at fit time:\n- CO2_Intensity_Per_Capita\n- Clean_Cooking_Fuels\n- Electricity_Access\n- Energy_Dependency\n- Energy_Intensity\n- ...\n",
     "output_type": "error",
     "traceback": [
      "\u001b[1;31m---------------------------------------------------------------------------\u001b[0m",
      "\u001b[1;31mValueError\u001b[0m                                Traceback (most recent call last)",
      "Cell \u001b[1;32mIn[100], line 2\u001b[0m\n\u001b[0;32m      1\u001b[0m \u001b[38;5;66;03m# Example with StandardScaler\u001b[39;00m\n\u001b[1;32m----> 2\u001b[0m X_train_scaled \u001b[38;5;241m=\u001b[39m standard_scaler\u001b[38;5;241m.\u001b[39mtransform(X_train)\n\u001b[0;32m      3\u001b[0m X_test_scaled \u001b[38;5;241m=\u001b[39m standard_scaler\u001b[38;5;241m.\u001b[39mtransform(X_test)\n",
      "File \u001b[1;32mC:\\DataScience\\Lib\\site-packages\\sklearn\\utils\\_set_output.py:313\u001b[0m, in \u001b[0;36m_wrap_method_output.<locals>.wrapped\u001b[1;34m(self, X, *args, **kwargs)\u001b[0m\n\u001b[0;32m    311\u001b[0m \u001b[38;5;129m@wraps\u001b[39m(f)\n\u001b[0;32m    312\u001b[0m \u001b[38;5;28;01mdef\u001b[39;00m \u001b[38;5;21mwrapped\u001b[39m(\u001b[38;5;28mself\u001b[39m, X, \u001b[38;5;241m*\u001b[39margs, \u001b[38;5;241m*\u001b[39m\u001b[38;5;241m*\u001b[39mkwargs):\n\u001b[1;32m--> 313\u001b[0m     data_to_wrap \u001b[38;5;241m=\u001b[39m f(\u001b[38;5;28mself\u001b[39m, X, \u001b[38;5;241m*\u001b[39margs, \u001b[38;5;241m*\u001b[39m\u001b[38;5;241m*\u001b[39mkwargs)\n\u001b[0;32m    314\u001b[0m     \u001b[38;5;28;01mif\u001b[39;00m \u001b[38;5;28misinstance\u001b[39m(data_to_wrap, \u001b[38;5;28mtuple\u001b[39m):\n\u001b[0;32m    315\u001b[0m         \u001b[38;5;66;03m# only wrap the first output for cross decomposition\u001b[39;00m\n\u001b[0;32m    316\u001b[0m         return_tuple \u001b[38;5;241m=\u001b[39m (\n\u001b[0;32m    317\u001b[0m             _wrap_data_with_container(method, data_to_wrap[\u001b[38;5;241m0\u001b[39m], X, \u001b[38;5;28mself\u001b[39m),\n\u001b[0;32m    318\u001b[0m             \u001b[38;5;241m*\u001b[39mdata_to_wrap[\u001b[38;5;241m1\u001b[39m:],\n\u001b[0;32m    319\u001b[0m         )\n",
      "File \u001b[1;32mC:\\DataScience\\Lib\\site-packages\\sklearn\\preprocessing\\_data.py:1045\u001b[0m, in \u001b[0;36mStandardScaler.transform\u001b[1;34m(self, X, copy)\u001b[0m\n\u001b[0;32m   1042\u001b[0m check_is_fitted(\u001b[38;5;28mself\u001b[39m)\n\u001b[0;32m   1044\u001b[0m copy \u001b[38;5;241m=\u001b[39m copy \u001b[38;5;28;01mif\u001b[39;00m copy \u001b[38;5;129;01mis\u001b[39;00m \u001b[38;5;129;01mnot\u001b[39;00m \u001b[38;5;28;01mNone\u001b[39;00m \u001b[38;5;28;01melse\u001b[39;00m \u001b[38;5;28mself\u001b[39m\u001b[38;5;241m.\u001b[39mcopy\n\u001b[1;32m-> 1045\u001b[0m X \u001b[38;5;241m=\u001b[39m \u001b[38;5;28mself\u001b[39m\u001b[38;5;241m.\u001b[39m_validate_data(\n\u001b[0;32m   1046\u001b[0m     X,\n\u001b[0;32m   1047\u001b[0m     reset\u001b[38;5;241m=\u001b[39m\u001b[38;5;28;01mFalse\u001b[39;00m,\n\u001b[0;32m   1048\u001b[0m     accept_sparse\u001b[38;5;241m=\u001b[39m\u001b[38;5;124m\"\u001b[39m\u001b[38;5;124mcsr\u001b[39m\u001b[38;5;124m\"\u001b[39m,\n\u001b[0;32m   1049\u001b[0m     copy\u001b[38;5;241m=\u001b[39mcopy,\n\u001b[0;32m   1050\u001b[0m     dtype\u001b[38;5;241m=\u001b[39mFLOAT_DTYPES,\n\u001b[0;32m   1051\u001b[0m     force_writeable\u001b[38;5;241m=\u001b[39m\u001b[38;5;28;01mTrue\u001b[39;00m,\n\u001b[0;32m   1052\u001b[0m     force_all_finite\u001b[38;5;241m=\u001b[39m\u001b[38;5;124m\"\u001b[39m\u001b[38;5;124mallow-nan\u001b[39m\u001b[38;5;124m\"\u001b[39m,\n\u001b[0;32m   1053\u001b[0m )\n\u001b[0;32m   1055\u001b[0m \u001b[38;5;28;01mif\u001b[39;00m sparse\u001b[38;5;241m.\u001b[39missparse(X):\n\u001b[0;32m   1056\u001b[0m     \u001b[38;5;28;01mif\u001b[39;00m \u001b[38;5;28mself\u001b[39m\u001b[38;5;241m.\u001b[39mwith_mean:\n",
      "File \u001b[1;32mC:\\DataScience\\Lib\\site-packages\\sklearn\\base.py:608\u001b[0m, in \u001b[0;36mBaseEstimator._validate_data\u001b[1;34m(self, X, y, reset, validate_separately, cast_to_ndarray, **check_params)\u001b[0m\n\u001b[0;32m    537\u001b[0m \u001b[38;5;28;01mdef\u001b[39;00m \u001b[38;5;21m_validate_data\u001b[39m(\n\u001b[0;32m    538\u001b[0m     \u001b[38;5;28mself\u001b[39m,\n\u001b[0;32m    539\u001b[0m     X\u001b[38;5;241m=\u001b[39m\u001b[38;5;124m\"\u001b[39m\u001b[38;5;124mno_validation\u001b[39m\u001b[38;5;124m\"\u001b[39m,\n\u001b[1;32m   (...)\u001b[0m\n\u001b[0;32m    544\u001b[0m     \u001b[38;5;241m*\u001b[39m\u001b[38;5;241m*\u001b[39mcheck_params,\n\u001b[0;32m    545\u001b[0m ):\n\u001b[0;32m    546\u001b[0m \u001b[38;5;250m    \u001b[39m\u001b[38;5;124;03m\"\"\"Validate input data and set or check the `n_features_in_` attribute.\u001b[39;00m\n\u001b[0;32m    547\u001b[0m \n\u001b[0;32m    548\u001b[0m \u001b[38;5;124;03m    Parameters\u001b[39;00m\n\u001b[1;32m   (...)\u001b[0m\n\u001b[0;32m    606\u001b[0m \u001b[38;5;124;03m        validated.\u001b[39;00m\n\u001b[0;32m    607\u001b[0m \u001b[38;5;124;03m    \"\"\"\u001b[39;00m\n\u001b[1;32m--> 608\u001b[0m     \u001b[38;5;28mself\u001b[39m\u001b[38;5;241m.\u001b[39m_check_feature_names(X, reset\u001b[38;5;241m=\u001b[39mreset)\n\u001b[0;32m    610\u001b[0m     \u001b[38;5;28;01mif\u001b[39;00m y \u001b[38;5;129;01mis\u001b[39;00m \u001b[38;5;28;01mNone\u001b[39;00m \u001b[38;5;129;01mand\u001b[39;00m \u001b[38;5;28mself\u001b[39m\u001b[38;5;241m.\u001b[39m_get_tags()[\u001b[38;5;124m\"\u001b[39m\u001b[38;5;124mrequires_y\u001b[39m\u001b[38;5;124m\"\u001b[39m]:\n\u001b[0;32m    611\u001b[0m         \u001b[38;5;28;01mraise\u001b[39;00m \u001b[38;5;167;01mValueError\u001b[39;00m(\n\u001b[0;32m    612\u001b[0m             \u001b[38;5;124mf\u001b[39m\u001b[38;5;124m\"\u001b[39m\u001b[38;5;124mThis \u001b[39m\u001b[38;5;132;01m{\u001b[39;00m\u001b[38;5;28mself\u001b[39m\u001b[38;5;241m.\u001b[39m\u001b[38;5;18m__class__\u001b[39m\u001b[38;5;241m.\u001b[39m\u001b[38;5;18m__name__\u001b[39m\u001b[38;5;132;01m}\u001b[39;00m\u001b[38;5;124m estimator \u001b[39m\u001b[38;5;124m\"\u001b[39m\n\u001b[0;32m    613\u001b[0m             \u001b[38;5;124m\"\u001b[39m\u001b[38;5;124mrequires y to be passed, but the target y is None.\u001b[39m\u001b[38;5;124m\"\u001b[39m\n\u001b[0;32m    614\u001b[0m         )\n",
      "File \u001b[1;32mC:\\DataScience\\Lib\\site-packages\\sklearn\\base.py:535\u001b[0m, in \u001b[0;36mBaseEstimator._check_feature_names\u001b[1;34m(self, X, reset)\u001b[0m\n\u001b[0;32m    530\u001b[0m \u001b[38;5;28;01mif\u001b[39;00m \u001b[38;5;129;01mnot\u001b[39;00m missing_names \u001b[38;5;129;01mand\u001b[39;00m \u001b[38;5;129;01mnot\u001b[39;00m unexpected_names:\n\u001b[0;32m    531\u001b[0m     message \u001b[38;5;241m+\u001b[39m\u001b[38;5;241m=\u001b[39m (\n\u001b[0;32m    532\u001b[0m         \u001b[38;5;124m\"\u001b[39m\u001b[38;5;124mFeature names must be in the same order as they were in fit.\u001b[39m\u001b[38;5;130;01m\\n\u001b[39;00m\u001b[38;5;124m\"\u001b[39m\n\u001b[0;32m    533\u001b[0m     )\n\u001b[1;32m--> 535\u001b[0m \u001b[38;5;28;01mraise\u001b[39;00m \u001b[38;5;167;01mValueError\u001b[39;00m(message)\n",
      "\u001b[1;31mValueError\u001b[0m: The feature names should match those that were passed during fit.\nFeature names unseen at fit time:\n- CO2_Intensity_Per_Capita\n- Clean_Cooking_Fuels\n- Electricity_Access\n- Energy_Dependency\n- Energy_Intensity\n- ...\n"
     ]
    }
   ],
   "source": [
    "# Example with StandardScaler\n",
    "X_train_scaled = standard_scaler.transform(X_train)\n",
    "X_test_scaled = standard_scaler.transform(X_test)"
   ]
  },
  {
   "cell_type": "code",
   "execution_count": 74,
   "id": "a0868250-367f-4910-9fda-f43484fc1978",
   "metadata": {},
   "outputs": [],
   "source": [
    "scaler = StandardScaler()\n",
    "num_features = [\"GDP_Per_Capita\", \"CO2_Emissions\", \"Energy_Consumption\", \"Renewables_Percentage\"]\n",
    "df[num_features] = scaler.fit_transform(df[num_features])"
   ]
  },
  {
   "cell_type": "markdown",
   "id": "899fd124-b949-4c68-bc66-228f610e3206",
   "metadata": {},
   "source": [
    "### Objective 3:  Split into testing and training datasets"
   ]
  },
  {
   "cell_type": "code",
   "execution_count": 76,
   "id": "5e28e6c1-1bf9-44fc-8458-6b870e967350",
   "metadata": {},
   "outputs": [],
   "source": [
    "from sklearn.model_selection import train_test_split\n",
    "\n",
    "X = df.drop(columns=[\"Econ_Energy_Cluster\", \"Energy_Cluster\"])  \n",
    "y = df[\"Energy_Cluster\"]  \n",
    "\n",
    "X_train, X_test, y_train, y_test = train_test_split(X, y, test_size=0.2, random_state=42)"
   ]
  },
  {
   "cell_type": "code",
   "execution_count": 102,
   "id": "d8b0936c-9826-477c-b114-103d5baec324",
   "metadata": {},
   "outputs": [
    {
     "name": "stdout",
     "output_type": "stream",
     "text": [
      "Data saved successfully to 'C:/Users/aamal/Desktop/Springboard/Springboard_DataScience/Capstone-3-Energy/data\\energy_data_process.csv'\n"
     ]
    }
   ],
   "source": [
    "datapath = 'C:/Users/aamal/Desktop/Springboard/Springboard_DataScience/Capstone-3-Energy/data'\n",
    "energy_data_process = 'energy_data_process.csv'\n",
    "filepath= os.path.join(datapath, energy_data_process)\n",
    "\n",
    "df.to_csv(filepath, index= False)\n",
    "print(f\"Data saved successfully to '{filepath}'\")"
   ]
  }
 ],
 "metadata": {
  "kernelspec": {
   "display_name": "Python 3 (ipykernel)",
   "language": "python",
   "name": "python3"
  },
  "language_info": {
   "codemirror_mode": {
    "name": "ipython",
    "version": 3
   },
   "file_extension": ".py",
   "mimetype": "text/x-python",
   "name": "python",
   "nbconvert_exporter": "python",
   "pygments_lexer": "ipython3",
   "version": "3.12.7"
  }
 },
 "nbformat": 4,
 "nbformat_minor": 5
}
