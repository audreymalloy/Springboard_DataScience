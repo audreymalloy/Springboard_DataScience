{
 "cells": [
  {
   "cell_type": "markdown",
   "id": "d1b4cd00-eaa0-4be7-bb02-c58b5df77c2f",
   "metadata": {},
   "source": [
    "# Take Home User Assignment\n"
   ]
  },
  {
   "cell_type": "code",
   "execution_count": 6,
   "id": "d2713393-6a31-4a87-91e8-5a6635c3825c",
   "metadata": {},
   "outputs": [],
   "source": [
    "import pandas as pd\n",
    "import numpy as np\n",
    "from datetime import datetime, timedelta\n",
    "import matplotlib.pyplot as plt\n",
    "import seaborn as sns\n",
    "from sklearn.model_selection import train_test_split\n",
    "from sklearn.ensemble import RandomForestClassifier\n",
    "from sklearn.metrics import accuracy_score, confusion_matrix, classification_report\n"
   ]
  },
  {
   "cell_type": "code",
   "execution_count": 41,
   "id": "1b663b0d-a3b5-44c6-82dd-1ac257e2c595",
   "metadata": {},
   "outputs": [
    {
     "name": "stdout",
     "output_type": "stream",
     "text": [
      "   object_id        creation_time               name  \\\n",
      "0          1  2014-04-22 03:53:30     Clausen August   \n",
      "1          2  2013-11-15 03:45:04      Poole Matthew   \n",
      "2          3  2013-03-19 23:14:52  Bottrill Mitchell   \n",
      "3          4  2013-05-21 08:09:28    Clausen Nicklas   \n",
      "4          5  2013-01-17 10:14:20          Raw Grace   \n",
      "\n",
      "                        email creation_source  last_session_creation_time  \\\n",
      "0    AugustCClausen@yahoo.com    GUEST_INVITE                1.398139e+09   \n",
      "1      MatthewPoole@gustr.com      ORG_INVITE                1.396238e+09   \n",
      "2  MitchellBottrill@gustr.com      ORG_INVITE                1.363735e+09   \n",
      "3   NicklasSClausen@yahoo.com    GUEST_INVITE                1.369210e+09   \n",
      "4          GraceRaw@yahoo.com    GUEST_INVITE                1.358850e+09   \n",
      "\n",
      "   opted_in_to_mailing_list  enabled_for_marketing_drip  org_id  \\\n",
      "0                         1                           0      11   \n",
      "1                         0                           0       1   \n",
      "2                         0                           0      94   \n",
      "3                         0                           0       1   \n",
      "4                         0                           0     193   \n",
      "\n",
      "   invited_by_user_id  \n",
      "0             10803.0  \n",
      "1               316.0  \n",
      "2              1525.0  \n",
      "3              5151.0  \n",
      "4              5240.0  \n"
     ]
    }
   ],
   "source": [
    "#data provided\n",
    "users_df = pd.read_csv(\"takehome_users.csv\", encoding=\"utf-8\", encoding_errors=\"ignore\")\n",
    "print(users_df.head())"
   ]
  },
  {
   "cell_type": "code",
   "execution_count": 43,
   "id": "84593f82-b09b-4036-934e-7e7005cfa9fc",
   "metadata": {},
   "outputs": [
    {
     "name": "stdout",
     "output_type": "stream",
     "text": [
      "            time_stamp  user_id  visited\n",
      "0  2014-04-22 03:53:30        1        1\n",
      "1  2013-11-15 03:45:04        2        1\n",
      "2  2013-11-29 03:45:04        2        1\n",
      "3  2013-12-09 03:45:04        2        1\n",
      "4  2013-12-25 03:45:04        2        1\n"
     ]
    }
   ],
   "source": [
    "engagement_df = pd.read_csv(\"takehome_user_engagement.csv\")\n",
    "print(engagement_df.head())"
   ]
  },
  {
   "cell_type": "code",
   "execution_count": 45,
   "id": "15538a66-6d70-4769-8168-fffd0c04ebf5",
   "metadata": {},
   "outputs": [
    {
     "name": "stdout",
     "output_type": "stream",
     "text": [
      "0    2014-04-22 03:53:30\n",
      "1    2013-11-15 03:45:04\n",
      "2    2013-11-29 03:45:04\n",
      "3    2013-12-09 03:45:04\n",
      "4    2013-12-25 03:45:04\n",
      "Name: time_stamp, dtype: object\n",
      "object\n"
     ]
    }
   ],
   "source": [
    "print(engagement_df['time_stamp'].head())\n",
    "print(engagement_df['time_stamp'].dtype)\n"
   ]
  },
  {
   "cell_type": "code",
   "execution_count": null,
   "id": "aa69c9de-6c2b-42ed-a639-b1bb4c4a12e5",
   "metadata": {},
   "outputs": [],
   "source": [
    "\n"
   ]
  },
  {
   "cell_type": "markdown",
   "id": "fd5c09b7-36cf-4d4a-96b5-789afa755e49",
   "metadata": {},
   "source": [
    "#### Merge Dataframes"
   ]
  },
  {
   "cell_type": "code",
   "execution_count": 47,
   "id": "e78c5971-27fd-4ca7-8170-b9bb4cc39a1e",
   "metadata": {},
   "outputs": [
    {
     "name": "stdout",
     "output_type": "stream",
     "text": [
      "   object_id       creation_time            name                     email  \\\n",
      "0          1 2014-04-22 03:53:30  Clausen August  AugustCClausen@yahoo.com   \n",
      "1          2 2013-11-15 03:45:04   Poole Matthew    MatthewPoole@gustr.com   \n",
      "2          2 2013-11-15 03:45:04   Poole Matthew    MatthewPoole@gustr.com   \n",
      "3          2 2013-11-15 03:45:04   Poole Matthew    MatthewPoole@gustr.com   \n",
      "4          2 2013-11-15 03:45:04   Poole Matthew    MatthewPoole@gustr.com   \n",
      "\n",
      "  creation_source  last_session_creation_time  opted_in_to_mailing_list  \\\n",
      "0    GUEST_INVITE                1.398139e+09                         1   \n",
      "1      ORG_INVITE                1.396238e+09                         0   \n",
      "2      ORG_INVITE                1.396238e+09                         0   \n",
      "3      ORG_INVITE                1.396238e+09                         0   \n",
      "4      ORG_INVITE                1.396238e+09                         0   \n",
      "\n",
      "   enabled_for_marketing_drip  org_id  invited_by_user_id          time_stamp  \\\n",
      "0                           0      11             10803.0 2014-04-22 03:53:30   \n",
      "1                           0       1               316.0 2013-11-15 03:45:04   \n",
      "2                           0       1               316.0 2013-11-29 03:45:04   \n",
      "3                           0       1               316.0 2013-12-09 03:45:04   \n",
      "4                           0       1               316.0 2013-12-25 03:45:04   \n",
      "\n",
      "   user_id  visited  \n",
      "0        1        1  \n",
      "1        2        1  \n",
      "2        2        1  \n",
      "3        2        1  \n",
      "4        2        1  \n"
     ]
    }
   ],
   "source": [
    "# Merge users_df and engagement_df on user_id and object_id\n",
    "merged_df = pd.merge(users_df, engagement_df, left_on='object_id', right_on='user_id', how='inner')\n",
    "\n",
    "# Convert time fields to datetime for easier manipulation\n",
    "merged_df['time_stamp'] = pd.to_datetime(merged_df['time_stamp'])\n",
    "merged_df['creation_time'] = pd.to_datetime(merged_df['creation_time'])\n",
    "\n",
    "print(merged_df.head())"
   ]
  },
  {
   "cell_type": "markdown",
   "id": "33aa7a56-3d0e-480c-8273-c91e985b813e",
   "metadata": {},
   "source": [
    "#### Group Data by Week "
   ]
  },
  {
   "cell_type": "code",
   "execution_count": 49,
   "id": "101f15ba-ae1e-4600-84c7-0c3907d93ef8",
   "metadata": {},
   "outputs": [
    {
     "name": "stdout",
     "output_type": "stream",
     "text": [
      "   user_id week_start  login_days\n",
      "0        1 2014-04-15           1\n",
      "1        2 2013-11-08           1\n",
      "2        2 2013-11-22           1\n",
      "3        2 2013-12-02           1\n",
      "4        2 2013-12-18           1\n"
     ]
    }
   ],
   "source": [
    "merged_df['login_date'] = merged_df['time_stamp'].dt.date\n",
    "\n",
    "#login counts per day\n",
    "daily_logins = merged_df.groupby(['user_id', 'login_date']).size().reset_index(name='visit_count')\n",
    "\n",
    "# Define seven-day windows and count logins within each window\n",
    "daily_logins['week_start'] = pd.to_datetime(daily_logins['login_date']) - pd.to_timedelta(7, unit='d')\n",
    "\n",
    "# Aggregate weekly login data per user\n",
    "weekly_logins = daily_logins.groupby(['user_id', 'week_start']).agg(\n",
    "    login_days=('login_date', 'nunique')\n",
    ").reset_index()\n",
    "\n",
    "print(weekly_logins.head())"
   ]
  },
  {
   "cell_type": "markdown",
   "id": "e9ffe554-6d1e-4522-9c05-cb765b66a82a",
   "metadata": {},
   "source": [
    "#### Define Adopted User\n",
    "Create a flag for adopted users based on engagement criteria: logged in on 3 separate days in at least one 7-day period."
   ]
  },
  {
   "cell_type": "code",
   "execution_count": 51,
   "id": "1527eee6-7efa-4ce5-882e-49732077f93f",
   "metadata": {},
   "outputs": [
    {
     "name": "stdout",
     "output_type": "stream",
     "text": [
      "   object_id        creation_time               name  \\\n",
      "0          1  2014-04-22 03:53:30     Clausen August   \n",
      "1          2  2013-11-15 03:45:04      Poole Matthew   \n",
      "2          3  2013-03-19 23:14:52  Bottrill Mitchell   \n",
      "3          4  2013-05-21 08:09:28    Clausen Nicklas   \n",
      "4          5  2013-01-17 10:14:20          Raw Grace   \n",
      "\n",
      "                        email creation_source  last_session_creation_time  \\\n",
      "0    AugustCClausen@yahoo.com    GUEST_INVITE                1.398139e+09   \n",
      "1      MatthewPoole@gustr.com      ORG_INVITE                1.396238e+09   \n",
      "2  MitchellBottrill@gustr.com      ORG_INVITE                1.363735e+09   \n",
      "3   NicklasSClausen@yahoo.com    GUEST_INVITE                1.369210e+09   \n",
      "4          GraceRaw@yahoo.com    GUEST_INVITE                1.358850e+09   \n",
      "\n",
      "   opted_in_to_mailing_list  enabled_for_marketing_drip  org_id  \\\n",
      "0                         1                           0      11   \n",
      "1                         0                           0       1   \n",
      "2                         0                           0      94   \n",
      "3                         0                           0       1   \n",
      "4                         0                           0     193   \n",
      "\n",
      "   invited_by_user_id  user_id  adopted  \n",
      "0             10803.0      1.0    False  \n",
      "1               316.0      2.0    False  \n",
      "2              1525.0      3.0    False  \n",
      "3              5151.0      4.0    False  \n",
      "4              5240.0      5.0    False  \n"
     ]
    },
    {
     "name": "stderr",
     "output_type": "stream",
     "text": [
      "C:\\Users\\aamal\\AppData\\Local\\Temp\\ipykernel_13676\\172588807.py:12: FutureWarning: Downcasting object dtype arrays on .fillna, .ffill, .bfill is deprecated and will change in a future version. Call result.infer_objects(copy=False) instead. To opt-in to the future behavior, set `pd.set_option('future.no_silent_downcasting', True)`\n",
      "  users_df['adopted'] = users_df['adopted'].fillna(False)\n"
     ]
    }
   ],
   "source": [
    "# Define adopted users based on login days\n",
    "weekly_logins['adopted'] = weekly_logins['login_days'] >= 3\n",
    "\n",
    "# Summarize adoption status for each user\n",
    "user_adoption = weekly_logins.groupby('user_id')['adopted'].max().reset_index()\n",
    "\n",
    "# Merge adoption status back into the original users dataframe\n",
    "users_df = pd.merge(users_df, user_adoption, left_on='object_id', right_on='user_id', how='left', suffixes=('_user', '_adopt'))\n",
    "\n",
    "users_df = users_df.drop(columns=['user_id_adopt'], errors='ignore')\n",
    "\n",
    "users_df['adopted'] = users_df['adopted'].fillna(False)\n",
    "\n",
    "print(users_df.head())"
   ]
  },
  {
   "cell_type": "code",
   "execution_count": 55,
   "id": "82788de0-760d-43c1-bc8c-812fbd764d4e",
   "metadata": {},
   "outputs": [
    {
     "name": "stdout",
     "output_type": "stream",
     "text": [
      "   object_id  adopted\n",
      "0          1    False\n",
      "1          2    False\n",
      "2          3    False\n",
      "3          4    False\n",
      "4          5    False\n"
     ]
    }
   ],
   "source": [
    "print(users_df[['object_id', 'adopted']].head())\n"
   ]
  },
  {
   "cell_type": "markdown",
   "id": "4a35f68a-7ed7-436f-a7f9-b49195969594",
   "metadata": {},
   "source": [
    "#### Exploratory Data Analysis (EDA)\n",
    "Perform visual and statistical analysis to identify predictive features:"
   ]
  },
  {
   "cell_type": "code",
   "execution_count": null,
   "id": "7b6024ca-223c-42c4-ab52-c7dc9b35a476",
   "metadata": {},
   "outputs": [],
   "source": [
    "# Plot adoption rates by creation source\n",
    "sns.barplot(x='creation_source', y='adopted_user_flag', data=users_df)\n",
    "plt.title(\"Adoption Rates by Creation Source\")\n",
    "plt.show()\n",
    "\n",
    "# Correlation heatmap\n",
    "corr = users_df.corr()\n",
    "sns.heatmap(corr, annot=True, cmap=\"coolwarm\")\n",
    "plt.title(\"Feature Correlations\")\n",
    "plt.show()\n"
   ]
  },
  {
   "cell_type": "markdown",
   "id": "9f1e5ee1-ee08-4e3b-8a1e-8ad91c6051f8",
   "metadata": {},
   "source": [
    "#### Feature Engineering\n"
   ]
  },
  {
   "cell_type": "code",
   "execution_count": null,
   "id": "358a322d-b5e1-4286-bd1e-f04157f55cf7",
   "metadata": {},
   "outputs": [],
   "source": [
    "# Select features and target\n",
    "features = ['creation_source', 'opted_in_to_mailing_list', 'enabled_for_marketing_drip', 'org_id']\n",
    "users_df['org_id'] = users_df['org_id'].fillna(-1)  # Handle missing org_id\n",
    "X = pd.get_dummies(users_df[features])  # One-hot encoding for categorical variables\n",
    "y = users_df['adopted_user_flag']\n",
    "\n",
    "# Split into train and test datasets\n",
    "X_train, X_test, y_train, y_test = train_test_split(X, y, test_size=0.2, random_state=42)\n"
   ]
  },
  {
   "cell_type": "markdown",
   "id": "d96bb5ca-df37-4b30-b094-91ae925ad935",
   "metadata": {},
   "source": [
    "#### Predictive Modeling\n"
   ]
  },
  {
   "cell_type": "code",
   "execution_count": null,
   "id": "4f7bc9cd-1d48-4c32-96cc-23e20780eab2",
   "metadata": {},
   "outputs": [],
   "source": [
    "# Train Random Forest model\n",
    "model = RandomForestClassifier(random_state=42)\n",
    "model.fit(X_train, y_train)\n",
    "\n",
    "# Make predictions\n",
    "y_pred = model.predict(X_test)\n",
    "\n",
    "# Evaluate the model\n",
    "print(\"Accuracy Score:\", accuracy_score(y_test, y_pred))\n",
    "print(\"Confusion Matrix:\\n\", confusion_matrix(y_test, y_pred))\n",
    "print(\"Classification Report:\\n\", classification_report(y_test, y_pred))\n"
   ]
  },
  {
   "cell_type": "markdown",
   "id": "4a3ed68d-6b77-44d2-b05f-ee78755ddbf3",
   "metadata": {},
   "source": [
    "#### Visualize Feature Importance"
   ]
  },
  {
   "cell_type": "code",
   "execution_count": null,
   "id": "e33da702-cf22-4cb7-8652-348e4f0bbfb9",
   "metadata": {},
   "outputs": [],
   "source": [
    "importance = model.feature_importances_\n",
    "feature_names = X.columns\n",
    "sns.barplot(x=importance, y=feature_names)\n",
    "plt.title(\"Feature Importance\")\n",
    "plt.show()"
   ]
  },
  {
   "cell_type": "markdown",
   "id": "5af2fa05-aefb-4fa5-97c5-9a9a86812d4b",
   "metadata": {},
   "source": [
    "### Insights and Recommendations\n",
    "Summarize the findings:\n",
    "\n",
    "Adoption Trends: Users signing up via Google Authentication are more likely to adopt.\n",
    "\n",
    "Engagement: Marketing drip emails and organization affiliation correlate with higher adoption rates."
   ]
  }
 ],
 "metadata": {
  "kernelspec": {
   "display_name": "Python 3 (ipykernel)",
   "language": "python",
   "name": "python3"
  },
  "language_info": {
   "codemirror_mode": {
    "name": "ipython",
    "version": 3
   },
   "file_extension": ".py",
   "mimetype": "text/x-python",
   "name": "python",
   "nbconvert_exporter": "python",
   "pygments_lexer": "ipython3",
   "version": "3.12.7"
  }
 },
 "nbformat": 4,
 "nbformat_minor": 5
}
