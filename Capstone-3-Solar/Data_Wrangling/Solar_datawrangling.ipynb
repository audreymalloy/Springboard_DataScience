{
 "cells": [
  {
   "cell_type": "markdown",
   "id": "89569b46-51b3-4c04-8fc4-dc7bcfac299e",
   "metadata": {},
   "source": [
    "# Capstone 3: Forecasting Solar Power Using LTSM   \n",
    "### \"Exploring ML Techniques for Solar Predictions\"\n",
    "Audrey Malloy\n",
    "\n",
    "Date Updated: April 22nd, 2025\n",
    "\n",
    "**Project Goal:** Be able to identify the most effective short-term solar power forecasting model using time series forecasting and deep learning techniques such as LTSM and XGBoost. \n",
    "\n",
    "### Objectives for Data Wrangling\n",
    "#### 1. Handle Missing Data  \n",
    "#### 2. Data Cleaning & Transformation\n",
    "#### 3. Feature Engineering  "
   ]
  },
  {
   "cell_type": "code",
   "execution_count": 3,
   "id": "e86d1d92-f5ea-40af-9134-3835a5267ba9",
   "metadata": {},
   "outputs": [],
   "source": [
    "import numpy as np\n",
    "import pandas as pd\n",
    "import matplotlib.pyplot as plt\n",
    "import seaborn as sns\n",
    "import os"
   ]
  },
  {
   "cell_type": "code",
   "execution_count": 71,
   "id": "78b1fb85-c3c3-449b-aea5-d4cac9f51b79",
   "metadata": {},
   "outputs": [],
   "source": [
    "os.chdir('C:/Users/aamal/Desktop/Springboard/Springboard_DataScience/Capstone-3-Solar/Data')\n",
    "plant_1_weather = pd.read_csv('Plant_1_Weather_Sensor_Data.csv')\n",
    "plant_1_generation = pd.read_csv('Plant_1_Generation_Data.csv')\n",
    "plant_2_weather = pd.read_csv('Plant_2_Weather_Sensor_Data.csv')\n",
    "plant_2_generation = pd.read_csv('Plant_2_Generation_Data.csv')\n"
   ]
  },
  {
   "cell_type": "code",
   "execution_count": 73,
   "id": "a6b49f87-c888-41d5-8b8b-a5f76e2c1f26",
   "metadata": {},
   "outputs": [
    {
     "name": "stdout",
     "output_type": "stream",
     "text": [
      "             DATE_TIME  PLANT_ID       SOURCE_KEY  AMBIENT_TEMPERATURE  \\\n",
      "0  2020-05-15 00:00:00   4135001  HmiyD2TTLFNqkNe            25.184316   \n",
      "1  2020-05-15 00:15:00   4135001  HmiyD2TTLFNqkNe            25.084589   \n",
      "2  2020-05-15 00:30:00   4135001  HmiyD2TTLFNqkNe            24.935753   \n",
      "3  2020-05-15 00:45:00   4135001  HmiyD2TTLFNqkNe            24.846130   \n",
      "4  2020-05-15 01:00:00   4135001  HmiyD2TTLFNqkNe            24.621525   \n",
      "\n",
      "   MODULE_TEMPERATURE  IRRADIATION  \n",
      "0           22.857507          0.0  \n",
      "1           22.761668          0.0  \n",
      "2           22.592306          0.0  \n",
      "3           22.360852          0.0  \n",
      "4           22.165423          0.0  \n",
      "------------------------------------------------------------\n",
      "          DATE_TIME  PLANT_ID       SOURCE_KEY  DC_POWER  AC_POWER  \\\n",
      "0  15-05-2020 00:00   4135001  1BY6WEcLGh8j5v7       0.0       0.0   \n",
      "1  15-05-2020 00:00   4135001  1IF53ai7Xc0U56Y       0.0       0.0   \n",
      "2  15-05-2020 00:00   4135001  3PZuoBAID5Wc2HD       0.0       0.0   \n",
      "3  15-05-2020 00:00   4135001  7JYdWkrLSPkdwr4       0.0       0.0   \n",
      "4  15-05-2020 00:00   4135001  McdE0feGgRqW7Ca       0.0       0.0   \n",
      "\n",
      "   DAILY_YIELD  TOTAL_YIELD  \n",
      "0          0.0    6259559.0  \n",
      "1          0.0    6183645.0  \n",
      "2          0.0    6987759.0  \n",
      "3          0.0    7602960.0  \n",
      "4          0.0    7158964.0  \n"
     ]
    }
   ],
   "source": [
    "print(plant_1_weather.head())\n",
    "print(\"------------------------------------------------------------\")\n",
    "print(plant_1_generation.head())"
   ]
  },
  {
   "cell_type": "code",
   "execution_count": 21,
   "id": "486eb576-4a53-4a0b-8e06-0165d378d536",
   "metadata": {},
   "outputs": [
    {
     "name": "stdout",
     "output_type": "stream",
     "text": [
      "             DATE_TIME  PLANT_ID       SOURCE_KEY  AMBIENT_TEMPERATURE  \\\n",
      "0  2020-05-15 00:00:00   4136001  iq8k7ZNt4Mwm3w0            27.004764   \n",
      "1  2020-05-15 00:15:00   4136001  iq8k7ZNt4Mwm3w0            26.880811   \n",
      "2  2020-05-15 00:30:00   4136001  iq8k7ZNt4Mwm3w0            26.682055   \n",
      "3  2020-05-15 00:45:00   4136001  iq8k7ZNt4Mwm3w0            26.500589   \n",
      "4  2020-05-15 01:00:00   4136001  iq8k7ZNt4Mwm3w0            26.596148   \n",
      "\n",
      "   MODULE_TEMPERATURE  IRRADIATION  \n",
      "0           25.060789          0.0  \n",
      "1           24.421869          0.0  \n",
      "2           24.427290          0.0  \n",
      "3           24.420678          0.0  \n",
      "4           25.088210          0.0  \n",
      "------------------------------------------------------------\n",
      "             DATE_TIME  PLANT_ID       SOURCE_KEY  DC_POWER  AC_POWER  \\\n",
      "0  2020-05-15 00:00:00   4136001  4UPUqMRk7TRMgml       0.0       0.0   \n",
      "1  2020-05-15 00:00:00   4136001  81aHJ1q11NBPMrL       0.0       0.0   \n",
      "2  2020-05-15 00:00:00   4136001  9kRcWv60rDACzjR       0.0       0.0   \n",
      "3  2020-05-15 00:00:00   4136001  Et9kgGMDl729KT4       0.0       0.0   \n",
      "4  2020-05-15 00:00:00   4136001  IQ2d7wF4YD8zU1Q       0.0       0.0   \n",
      "\n",
      "   DAILY_YIELD   TOTAL_YIELD  \n",
      "0  9425.000000  2.429011e+06  \n",
      "1     0.000000  1.215279e+09  \n",
      "2  3075.333333  2.247720e+09  \n",
      "3   269.933333  1.704250e+06  \n",
      "4  3177.000000  1.994153e+07  \n"
     ]
    }
   ],
   "source": [
    "print(plant_2_weather.head())\n",
    "print(\"------------------------------------------------------------\")\n",
    "print(plant_2_generation.head())"
   ]
  },
  {
   "cell_type": "code",
   "execution_count": null,
   "id": "e3363489-5e15-4753-aa45-05c0178d0191",
   "metadata": {},
   "outputs": [],
   "source": [
    "#Checking for missing data"
   ]
  },
  {
   "cell_type": "code",
   "execution_count": 75,
   "id": "a4934e06-90e5-4ff2-b773-d2ab2cf4b45e",
   "metadata": {},
   "outputs": [
    {
     "name": "stdout",
     "output_type": "stream",
     "text": [
      "\n",
      "Missing values in Plant 1 Weather:\n",
      "DATE_TIME              0\n",
      "PLANT_ID               0\n",
      "SOURCE_KEY             0\n",
      "AMBIENT_TEMPERATURE    0\n",
      "MODULE_TEMPERATURE     0\n",
      "IRRADIATION            0\n",
      "dtype: int64\n",
      "\n",
      "Missing values in Plant 2 Weather:\n",
      "DATE_TIME              0\n",
      "PLANT_ID               0\n",
      "SOURCE_KEY             0\n",
      "AMBIENT_TEMPERATURE    0\n",
      "MODULE_TEMPERATURE     0\n",
      "IRRADIATION            0\n",
      "dtype: int64\n",
      "\n",
      "Missing values in Plant 1 Generation:\n",
      "DATE_TIME      0\n",
      "PLANT_ID       0\n",
      "SOURCE_KEY     0\n",
      "DC_POWER       0\n",
      "AC_POWER       0\n",
      "DAILY_YIELD    0\n",
      "TOTAL_YIELD    0\n",
      "dtype: int64\n",
      "\n",
      "Missing values in Plant 2 Generation:\n",
      "DATE_TIME      0\n",
      "PLANT_ID       0\n",
      "SOURCE_KEY     0\n",
      "DC_POWER       0\n",
      "AC_POWER       0\n",
      "DAILY_YIELD    0\n",
      "TOTAL_YIELD    0\n",
      "dtype: int64\n"
     ]
    }
   ],
   "source": [
    "datasets = {\n",
    "    \"Plant 1 Weather\": plant_1_weather,\n",
    "    \"Plant 2 Weather\": plant_2_weather,\n",
    "    \"Plant 1 Generation\": plant_1_generation,\n",
    "    \"Plant 2 Generation\": plant_2_generation\n",
    "}\n",
    "\n",
    "for name, df in datasets.items():\n",
    "    print(f\"\\nMissing values in {name}:\")\n",
    "    print(df.isnull().sum())\n"
   ]
  },
  {
   "cell_type": "code",
   "execution_count": 77,
   "id": "a914a694-8de0-419d-b418-36c74d6c7d15",
   "metadata": {},
   "outputs": [
    {
     "name": "stdout",
     "output_type": "stream",
     "text": [
      "DATE_TIME               object\n",
      "PLANT_ID                 int64\n",
      "SOURCE_KEY              object\n",
      "AMBIENT_TEMPERATURE    float64\n",
      "MODULE_TEMPERATURE     float64\n",
      "IRRADIATION            float64\n",
      "dtype: object\n"
     ]
    }
   ],
   "source": [
    "print(plant_1_weather.dtypes)"
   ]
  },
  {
   "cell_type": "code",
   "execution_count": 83,
   "id": "8c8861fe-bcdb-47ff-a778-9d033dc064a4",
   "metadata": {},
   "outputs": [
    {
     "data": {
      "text/html": [
       "<div>\n",
       "<style scoped>\n",
       "    .dataframe tbody tr th:only-of-type {\n",
       "        vertical-align: middle;\n",
       "    }\n",
       "\n",
       "    .dataframe tbody tr th {\n",
       "        vertical-align: top;\n",
       "    }\n",
       "\n",
       "    .dataframe thead th {\n",
       "        text-align: right;\n",
       "    }\n",
       "</style>\n",
       "<table border=\"1\" class=\"dataframe\">\n",
       "  <thead>\n",
       "    <tr style=\"text-align: right;\">\n",
       "      <th></th>\n",
       "      <th>DATE_TIME</th>\n",
       "      <th>PLANT_ID</th>\n",
       "      <th>SOURCE_KEY</th>\n",
       "      <th>AMBIENT_TEMPERATURE</th>\n",
       "      <th>MODULE_TEMPERATURE</th>\n",
       "      <th>IRRADIATION</th>\n",
       "    </tr>\n",
       "  </thead>\n",
       "  <tbody>\n",
       "    <tr>\n",
       "      <th>0</th>\n",
       "      <td>2020-05-15 00:00:00</td>\n",
       "      <td>4135001</td>\n",
       "      <td>HmiyD2TTLFNqkNe</td>\n",
       "      <td>25.184316</td>\n",
       "      <td>22.857507</td>\n",
       "      <td>0.0</td>\n",
       "    </tr>\n",
       "    <tr>\n",
       "      <th>1</th>\n",
       "      <td>2020-05-15 00:15:00</td>\n",
       "      <td>4135001</td>\n",
       "      <td>HmiyD2TTLFNqkNe</td>\n",
       "      <td>25.084589</td>\n",
       "      <td>22.761668</td>\n",
       "      <td>0.0</td>\n",
       "    </tr>\n",
       "    <tr>\n",
       "      <th>2</th>\n",
       "      <td>2020-05-15 00:30:00</td>\n",
       "      <td>4135001</td>\n",
       "      <td>HmiyD2TTLFNqkNe</td>\n",
       "      <td>24.935753</td>\n",
       "      <td>22.592306</td>\n",
       "      <td>0.0</td>\n",
       "    </tr>\n",
       "    <tr>\n",
       "      <th>3</th>\n",
       "      <td>2020-05-15 00:45:00</td>\n",
       "      <td>4135001</td>\n",
       "      <td>HmiyD2TTLFNqkNe</td>\n",
       "      <td>24.846130</td>\n",
       "      <td>22.360852</td>\n",
       "      <td>0.0</td>\n",
       "    </tr>\n",
       "    <tr>\n",
       "      <th>4</th>\n",
       "      <td>2020-05-15 01:00:00</td>\n",
       "      <td>4135001</td>\n",
       "      <td>HmiyD2TTLFNqkNe</td>\n",
       "      <td>24.621525</td>\n",
       "      <td>22.165423</td>\n",
       "      <td>0.0</td>\n",
       "    </tr>\n",
       "  </tbody>\n",
       "</table>\n",
       "</div>"
      ],
      "text/plain": [
       "            DATE_TIME  PLANT_ID       SOURCE_KEY  AMBIENT_TEMPERATURE  \\\n",
       "0 2020-05-15 00:00:00   4135001  HmiyD2TTLFNqkNe            25.184316   \n",
       "1 2020-05-15 00:15:00   4135001  HmiyD2TTLFNqkNe            25.084589   \n",
       "2 2020-05-15 00:30:00   4135001  HmiyD2TTLFNqkNe            24.935753   \n",
       "3 2020-05-15 00:45:00   4135001  HmiyD2TTLFNqkNe            24.846130   \n",
       "4 2020-05-15 01:00:00   4135001  HmiyD2TTLFNqkNe            24.621525   \n",
       "\n",
       "   MODULE_TEMPERATURE  IRRADIATION  \n",
       "0           22.857507          0.0  \n",
       "1           22.761668          0.0  \n",
       "2           22.592306          0.0  \n",
       "3           22.360852          0.0  \n",
       "4           22.165423          0.0  "
      ]
     },
     "execution_count": 83,
     "metadata": {},
     "output_type": "execute_result"
    }
   ],
   "source": [
    "plant_1_weather.head()"
   ]
  },
  {
   "cell_type": "code",
   "execution_count": null,
   "id": "44b50d58-6eb5-4060-88a1-e66d1d3f2b8f",
   "metadata": {},
   "outputs": [],
   "source": [
    "#Converting DATE_TIME to datetime "
   ]
  },
  {
   "cell_type": "code",
   "execution_count": 87,
   "id": "f39eeedd-03f0-4bdc-840b-d3aa47b85734",
   "metadata": {},
   "outputs": [],
   "source": [
    "for df in [plant_1_weather, plant_2_weather, plant_1_generation, plant_2_generation]:\n",
    "    df['DATE_TIME'] = pd.to_datetime(df['DATE_TIME'], format='%Y-%m-%d %H:%M:%S', errors='coerce')"
   ]
  },
  {
   "cell_type": "code",
   "execution_count": 89,
   "id": "3c3fe249-24d6-4f30-b8ce-ba89963f8323",
   "metadata": {},
   "outputs": [
    {
     "data": {
      "text/plain": [
       "0"
      ]
     },
     "execution_count": 89,
     "metadata": {},
     "output_type": "execute_result"
    }
   ],
   "source": [
    "df.duplicated().sum()"
   ]
  },
  {
   "cell_type": "code",
   "execution_count": 91,
   "id": "8c627d3a-902d-4527-a50e-0649b4c43a6b",
   "metadata": {},
   "outputs": [
    {
     "data": {
      "text/plain": [
       "DATE_TIME      datetime64[ns]\n",
       "PLANT_ID                int64\n",
       "SOURCE_KEY             object\n",
       "DC_POWER              float64\n",
       "AC_POWER              float64\n",
       "DAILY_YIELD           float64\n",
       "TOTAL_YIELD           float64\n",
       "dtype: object"
      ]
     },
     "execution_count": 91,
     "metadata": {},
     "output_type": "execute_result"
    }
   ],
   "source": [
    "df.dtypes"
   ]
  },
  {
   "cell_type": "code",
   "execution_count": null,
   "id": "28c7cdd2-1cf8-456a-bb14-56cee3fd6ef1",
   "metadata": {},
   "outputs": [],
   "source": [
    "#Feature Engineering "
   ]
  },
  {
   "cell_type": "code",
   "execution_count": 93,
   "id": "8cba1592-ab98-4bed-8ee6-624c812c2998",
   "metadata": {},
   "outputs": [],
   "source": [
    "for df in [plant_1_generation, plant_2_generation, plant_1_weather, plant_2_weather]:\n",
    "    df['Hour'] = df['DATE_TIME'].dt.hour\n",
    "    df['Day'] = df['DATE_TIME'].dt.day\n",
    "    df['Month'] = df['DATE_TIME'].dt.month\n",
    "    df['Year'] = df['DATE_TIME'].dt.year\n"
   ]
  },
  {
   "cell_type": "code",
   "execution_count": 95,
   "id": "3274d14f-2450-4657-a702-df2cccbfcec2",
   "metadata": {},
   "outputs": [
    {
     "data": {
      "text/plain": [
       "<bound method DataFrame.info of                DATE_TIME  PLANT_ID       SOURCE_KEY  AMBIENT_TEMPERATURE  \\\n",
       "0    2020-05-15 00:00:00   4136001  iq8k7ZNt4Mwm3w0            27.004764   \n",
       "1    2020-05-15 00:15:00   4136001  iq8k7ZNt4Mwm3w0            26.880811   \n",
       "2    2020-05-15 00:30:00   4136001  iq8k7ZNt4Mwm3w0            26.682055   \n",
       "3    2020-05-15 00:45:00   4136001  iq8k7ZNt4Mwm3w0            26.500589   \n",
       "4    2020-05-15 01:00:00   4136001  iq8k7ZNt4Mwm3w0            26.596148   \n",
       "...                  ...       ...              ...                  ...   \n",
       "3254 2020-06-17 22:45:00   4136001  iq8k7ZNt4Mwm3w0            23.511703   \n",
       "3255 2020-06-17 23:00:00   4136001  iq8k7ZNt4Mwm3w0            23.482282   \n",
       "3256 2020-06-17 23:15:00   4136001  iq8k7ZNt4Mwm3w0            23.354743   \n",
       "3257 2020-06-17 23:30:00   4136001  iq8k7ZNt4Mwm3w0            23.291048   \n",
       "3258 2020-06-17 23:45:00   4136001  iq8k7ZNt4Mwm3w0            23.202871   \n",
       "\n",
       "      MODULE_TEMPERATURE  IRRADIATION  Hour  Day  Month  Year  \n",
       "0              25.060789          0.0     0   15      5  2020  \n",
       "1              24.421869          0.0     0   15      5  2020  \n",
       "2              24.427290          0.0     0   15      5  2020  \n",
       "3              24.420678          0.0     0   15      5  2020  \n",
       "4              25.088210          0.0     1   15      5  2020  \n",
       "...                  ...          ...   ...  ...    ...   ...  \n",
       "3254           22.856201          0.0    22   17      6  2020  \n",
       "3255           22.744190          0.0    23   17      6  2020  \n",
       "3256           22.492245          0.0    23   17      6  2020  \n",
       "3257           22.373909          0.0    23   17      6  2020  \n",
       "3258           22.535908          0.0    23   17      6  2020  \n",
       "\n",
       "[3259 rows x 10 columns]>"
      ]
     },
     "execution_count": 95,
     "metadata": {},
     "output_type": "execute_result"
    }
   ],
   "source": [
    "df.info"
   ]
  },
  {
   "cell_type": "code",
   "execution_count": 97,
   "id": "61b12dd1-4ebc-40b5-a102-6b21f60fb115",
   "metadata": {},
   "outputs": [
    {
     "name": "stdout",
     "output_type": "stream",
     "text": [
      "Plant 1 Generation data saved successfully to 'C:/Users/aamal/Desktop/Springboard/Springboard_DataScience/Capstone-3-Solar/Data\\plant_1_generation_cleaned.csv'\n",
      "Plant 2 Generation data saved successfully to 'C:/Users/aamal/Desktop/Springboard/Springboard_DataScience/Capstone-3-Solar/Data\\plant_2_generation_cleaned.csv'\n",
      "Plant 1 Weather data saved successfully to 'C:/Users/aamal/Desktop/Springboard/Springboard_DataScience/Capstone-3-Solar/Data\\plant_1_weather_cleaned.csv'\n",
      "Plant 2 Weather data saved successfully to 'C:/Users/aamal/Desktop/Springboard/Springboard_DataScience/Capstone-3-Solar/Data\\plant_2_weather_cleaned.csv'\n"
     ]
    }
   ],
   "source": [
    "datapath = 'C:/Users/aamal/Desktop/Springboard/Springboard_DataScience/Capstone-3-Solar/Data'\n",
    "\n",
    "plant_1_generation_file = 'plant_1_generation_cleaned.csv'\n",
    "plant_2_generation_file = 'plant_2_generation_cleaned.csv'\n",
    "plant_1_weather_file = 'plant_1_weather_cleaned.csv'\n",
    "plant_2_weather_file = 'plant_2_weather_cleaned.csv'\n",
    "\n",
    "# Save Plant 1 Generation data\n",
    "plant_1_generation_path = os.path.join(datapath, plant_1_generation_file)\n",
    "plant_1_generation.to_csv(plant_1_generation_path, index=False)\n",
    "print(f\"Plant 1 Generation data saved successfully to '{plant_1_generation_path}'\")\n",
    "\n",
    "# Save Plant 2 Generation data\n",
    "plant_2_generation_path = os.path.join(datapath, plant_2_generation_file)\n",
    "plant_2_generation.to_csv(plant_2_generation_path, index=False)\n",
    "print(f\"Plant 2 Generation data saved successfully to '{plant_2_generation_path}'\")\n",
    "\n",
    "# Save Plant 1 Weather data\n",
    "plant_1_weather_path = os.path.join(datapath, plant_1_weather_file)\n",
    "plant_1_weather.to_csv(plant_1_weather_path, index=False)\n",
    "print(f\"Plant 1 Weather data saved successfully to '{plant_1_weather_path}'\")\n",
    "\n",
    "# Save Plant 2 Weather data\n",
    "plant_2_weather_path = os.path.join(datapath, plant_2_weather_file)\n",
    "plant_2_weather.to_csv(plant_2_weather_path, index=False)\n",
    "print(f\"Plant 2 Weather data saved successfully to '{plant_2_weather_path}'\")"
   ]
  }
 ],
 "metadata": {
  "kernelspec": {
   "display_name": "Python 3 (ipykernel)",
   "language": "python",
   "name": "python3"
  },
  "language_info": {
   "codemirror_mode": {
    "name": "ipython",
    "version": 3
   },
   "file_extension": ".py",
   "mimetype": "text/x-python",
   "name": "python",
   "nbconvert_exporter": "python",
   "pygments_lexer": "ipython3",
   "version": "3.12.7"
  }
 },
 "nbformat": 4,
 "nbformat_minor": 5
}
