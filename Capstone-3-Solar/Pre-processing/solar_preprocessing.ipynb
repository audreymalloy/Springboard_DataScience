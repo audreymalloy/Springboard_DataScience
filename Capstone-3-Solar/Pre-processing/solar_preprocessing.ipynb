{
 "cells": [
  {
   "cell_type": "markdown",
   "id": "18a02c58-f99a-4da9-9b10-1ca08d23c253",
   "metadata": {},
   "source": [
    "# Capstone 3: Forecasting Solar Power Using LTSM  \n",
    "### _\"Exploring ML Techniques for Solar Predictions\"_\n",
    "## Preprocessing   and   Training   Data   Development Objective: \n",
    "Goal: Create a cleaned development dataset you can use to complete the modeling step of your project.  \n",
    "Steps:   \n",
    "    ● Create   dummy   or   indicator   features   for   categorical   variables  \n",
    "    ● Standardize   the   magnitude   of   numeric   features   using   a   scaler  \n",
    "    ● Split   into   testing   and   training   datasets "
   ]
  },
  {
   "cell_type": "code",
   "execution_count": 1,
   "id": "8b9e39f3-be1d-4aab-ae5a-cc75ac5edb07",
   "metadata": {},
   "outputs": [],
   "source": [
    "import pandas as pd\n",
    "from sklearn.preprocessing import StandardScaler\n",
    "from sklearn.model_selection import train_test_split\n",
    "import numpy as np\n",
    "import os\n",
    "import matplotlib.pyplot as plt\n",
    "import seaborn as sns\n",
    "from sklearn import __version__ as sklearn_version\n",
    "from sklearn.decomposition import PCA\n",
    "from sklearn.preprocessing import scale\n",
    "from sklearn.model_selection import train_test_split, cross_validate, GridSearchCV, learning_curve\n",
    "from sklearn.preprocessing import StandardScaler, MinMaxScaler\n",
    "from sklearn.dummy import DummyRegressor\n",
    "from sklearn.linear_model import LinearRegression\n",
    "from sklearn.ensemble import RandomForestRegressor\n",
    "from sklearn.metrics import r2_score, mean_squared_error, mean_absolute_error\n",
    "from sklearn.pipeline import make_pipeline\n",
    "from sklearn.impute import SimpleImputer\n",
    "from sklearn.feature_selection import SelectKBest, f_regression\n",
    "import datetime"
   ]
  },
  {
   "cell_type": "code",
   "execution_count": 14,
   "id": "7547da4a-6819-41ae-b5fc-93a93fa5b5bc",
   "metadata": {},
   "outputs": [],
   "source": [
    "os.chdir('C:/Users/aamal/Desktop/Springboard/Springboard_DataScience/Capstone-3-Solar/Data')\n",
    "\n",
    "df = pd.read_csv('solar_cleaned.csv')"
   ]
  },
  {
   "cell_type": "code",
   "execution_count": 6,
   "id": "423c6a58-c09d-4226-8a4d-40f21ffff917",
   "metadata": {},
   "outputs": [
    {
     "data": {
      "text/plain": [
       "DATE_TIME               object\n",
       "PLANT_ID                 int64\n",
       "AMBIENT_TEMPERATURE    float64\n",
       "MODULE_TEMPERATURE     float64\n",
       "IRRADIATION            float64\n",
       "SOURCE_KEY              object\n",
       "DC_POWER               float64\n",
       "AC_POWER               float64\n",
       "DAILY_YIELD            float64\n",
       "TOTAL_YIELD            float64\n",
       "Inverter_Efficiency    float64\n",
       "Cumulative_Yield       float64\n",
       "Normalized_Yield       float64\n",
       "Plant_Efficiency       float64\n",
       "DATE                    object\n",
       "TIME                    object\n",
       "HOUR                     int64\n",
       "dtype: object"
      ]
     },
     "execution_count": 6,
     "metadata": {},
     "output_type": "execute_result"
    }
   ],
   "source": [
    "df.dtypes"
   ]
  },
  {
   "cell_type": "code",
   "execution_count": 16,
   "id": "ed3d5d63-6414-432a-a902-c66199cc7392",
   "metadata": {},
   "outputs": [],
   "source": [
    "df['DATE_TIME'] = pd.to_datetime(df['DATE_TIME'], format='%Y-%m-%d %H:%M:%S', errors='coerce')"
   ]
  },
  {
   "cell_type": "markdown",
   "id": "fa78f0c6-020c-43f6-8c9c-0141d0240b99",
   "metadata": {},
   "source": [
    "## Create indicators features for categorical variables"
   ]
  },
  {
   "cell_type": "code",
   "execution_count": 24,
   "id": "ac149c4b-2992-436c-9713-6f29ce9b0651",
   "metadata": {},
   "outputs": [],
   "source": [
    "# Encode SOURCE_KEY as categorical\n",
    "df['SOURCE_KEY'] = df['SOURCE_KEY'].astype('category')\n",
    "df['SOURCE_KEY_CODE'] = df['SOURCE_KEY'].cat.codes  # Create numeric codes\n",
    "\n"
   ]
  },
  {
   "cell_type": "code",
   "execution_count": 26,
   "id": "6148755f-43ae-4ce9-9e06-f47457500cfa",
   "metadata": {},
   "outputs": [],
   "source": [
    "source_key_map = dict(enumerate(df['SOURCE_KEY'].cat.categories))"
   ]
  },
  {
   "cell_type": "code",
   "execution_count": 28,
   "id": "0c3a25ee-4418-45c1-884d-0a7e768ff1f1",
   "metadata": {},
   "outputs": [],
   "source": [
    "import json\n",
    "\n",
    "with open('source_key_mapping.json', 'w') as f:\n",
    "    json.dump(source_key_map, f)\n",
    "\n",
    "#save the mapping for reference"
   ]
  },
  {
   "cell_type": "code",
   "execution_count": 30,
   "id": "96346b2f-79d3-4e89-83db-81a3e09819f5",
   "metadata": {},
   "outputs": [
    {
     "name": "stdout",
     "output_type": "stream",
     "text": [
      "{0: '1BY6WEcLGh8j5v7', 1: '1IF53ai7Xc0U56Y', 2: '3PZuoBAID5Wc2HD', 3: '4UPUqMRk7TRMgml', 4: '7JYdWkrLSPkdwr4', 5: '81aHJ1q11NBPMrL', 6: '9kRcWv60rDACzjR', 7: 'Et9kgGMDl729KT4', 8: 'IQ2d7wF4YD8zU1Q', 9: 'LYwnQax7tkwH5Cb', 10: 'LlT2YUhhzqhg5Sw', 11: 'McdE0feGgRqW7Ca', 12: 'Mx2yZCDsyf6DPfv', 13: 'NgDl19wMapZy17u', 14: 'PeE6FRyGXUgsRhN', 15: 'Qf4GUc1pJu5T6c6', 16: 'Quc1TzYxW2pYoWX', 17: 'V94E5Ben1TlhnDV', 18: 'VHMLBKoKgIrUVDU', 19: 'WRmjgnKYAwPKWDb', 20: 'WcxssY2VbP4hApt', 21: 'YxYtjZvoooNbGkE', 22: 'ZnxXDlPa8U1GXgE', 23: 'ZoEaEvLYb1n2sOq', 24: 'adLQvlD726eNBSB', 25: 'bvBOhCH3iADSZry', 26: 'iCRJl6heRkivqQ3', 27: 'ih0vzX44oOqAx2f', 28: 'mqwcsP2rE7J0TFp', 29: 'oZ35aAeoifZaQzV', 30: 'oZZkBaNadn6DNKz', 31: 'pkci93gMrogZuBj', 32: 'q49J1IKaHRwDQnt', 33: 'rGa61gmuvPhdLxV', 34: 'rrq4fwE8jgrTyWY', 35: 'sjndEbLyjtCKgGv', 36: 'uHbuxQJl8lW7ozc', 37: 'vOuJvMaM2sgwLmb', 38: 'wCURE6d3bPkepu2', 39: 'xMbIugepa2P7lBB', 40: 'xoJJ8DcxJEcupym', 41: 'z9Y9gH1T5YWrNuG', 42: 'zBIq5rxdHJRwDNY', 43: 'zVJPv84UY57bAof'}\n"
     ]
    }
   ],
   "source": [
    "print(source_key_map)"
   ]
  },
  {
   "cell_type": "markdown",
   "id": "3ca4487d-facf-4e5e-8f28-3b515cfb9ee5",
   "metadata": {},
   "source": [
    "## Standardize the magnitude of numeric features using a scaler "
   ]
  },
  {
   "cell_type": "code",
   "execution_count": 33,
   "id": "c8cad532-30c0-45d8-be10-da739dde4168",
   "metadata": {},
   "outputs": [],
   "source": [
    "scaler = MinMaxScaler()\n",
    "numerical_cols = ['AMBIENT_TEMPERATURE', 'MODULE_TEMPERATURE', 'IRRADIATION', \n",
    "                   'DC_POWER', 'AC_POWER', 'Inverter_Efficiency', 'Cumulative_Yield', \n",
    "                    'Normalized_Yield', 'Plant_Efficiency']\n",
    "df[numerical_cols] = scaler.fit_transform(df[numerical_cols])"
   ]
  },
  {
   "cell_type": "code",
   "execution_count": 35,
   "id": "9f45f08a-013b-4ce2-aaa4-2f2db991288f",
   "metadata": {},
   "outputs": [],
   "source": [
    "#Handle Skewness: Apply logarithmic transformations for features like DC_POWER and AC_POWER to reduce the impact of skewed distributions.\n",
    "df['LOG_DC_POWER'] = np.log1p(df['DC_POWER'])  # Avoid log(0) errors\n",
    "df['LOG_AC_POWER'] = np.log1p(df['AC_POWER'])"
   ]
  },
  {
   "cell_type": "code",
   "execution_count": 49,
   "id": "63dffeb4-284a-4504-a29e-ec3a4c4ccd6e",
   "metadata": {},
   "outputs": [],
   "source": [
    "df['Lag_1_DC_POWER'] = df['DC_POWER'].shift(1)  # Previous 15 minutes\n",
    "df['Lag_4_DC_POWER'] = df['DC_POWER'].shift(4)  # 1 hour ago\n",
    "\n",
    "df['Lag_1_AC_POWER'] = df['AC_POWER'].shift(1)\n",
    "df['Lag_4_AC_POWER'] = df['AC_POWER'].shift(4)"
   ]
  },
  {
   "cell_type": "code",
   "execution_count": 57,
   "id": "6523c678-646e-48b1-a7fd-75db9ef0be55",
   "metadata": {},
   "outputs": [
    {
     "data": {
      "text/plain": [
       "DATE_TIME              0\n",
       "PLANT_ID               0\n",
       "AMBIENT_TEMPERATURE    0\n",
       "MODULE_TEMPERATURE     0\n",
       "IRRADIATION            0\n",
       "SOURCE_KEY             0\n",
       "DC_POWER               0\n",
       "AC_POWER               0\n",
       "DAILY_YIELD            0\n",
       "TOTAL_YIELD            0\n",
       "Inverter_Efficiency    0\n",
       "Cumulative_Yield       0\n",
       "Normalized_Yield       0\n",
       "Plant_Efficiency       0\n",
       "DATE                   0\n",
       "TIME                   0\n",
       "HOUR                   0\n",
       "SOURCE_KEY_CODE        0\n",
       "LOG_DC_POWER           0\n",
       "LOG_AC_POWER           0\n",
       "Lag_1_DC_POWER         1\n",
       "Lag_4_DC_POWER         4\n",
       "Lag_1_AC_POWER         1\n",
       "Lag_4_AC_POWER         4\n",
       "dtype: int64"
      ]
     },
     "execution_count": 57,
     "metadata": {},
     "output_type": "execute_result"
    }
   ],
   "source": [
    "df.isnull().sum()"
   ]
  },
  {
   "cell_type": "markdown",
   "id": "97e054a5-0274-4767-a637-945addeaf364",
   "metadata": {},
   "source": [
    "Drop missing values since they are direct result of lagging. Also important to drop since time-series models rely on complete sequences for analysis. "
   ]
  },
  {
   "cell_type": "code",
   "execution_count": 60,
   "id": "3a413a49-1fbd-4ee4-b58d-bc395f3eacbb",
   "metadata": {},
   "outputs": [],
   "source": [
    "df.dropna(subset=['Lag_1_DC_POWER', 'Lag_4_DC_POWER', 'Lag_1_AC_POWER', 'Lag_4_AC_POWER'], inplace=True)"
   ]
  },
  {
   "cell_type": "markdown",
   "id": "0958d517-a1ea-489e-8212-edea31e2f639",
   "metadata": {},
   "source": [
    "## Split   into   testing   and   training   datasets "
   ]
  },
  {
   "cell_type": "code",
   "execution_count": 66,
   "id": "78a6d704-cf8f-4856-bf8b-9a078c623eb9",
   "metadata": {},
   "outputs": [],
   "source": [
    "df.sort_values(by='DATE_TIME', inplace=True)"
   ]
  },
  {
   "cell_type": "code",
   "execution_count": 68,
   "id": "9de95014-f158-4b15-80dc-a6fb60cdbfdd",
   "metadata": {},
   "outputs": [],
   "source": [
    "train_size = int(len(df) * 0.8)\n",
    "train, test = df.iloc[:train_size], df.iloc[train_size:]"
   ]
  },
  {
   "cell_type": "code",
   "execution_count": 70,
   "id": "c33fe777-7b1b-4d4f-8a0d-a5dfcce9485a",
   "metadata": {},
   "outputs": [
    {
     "name": "stdout",
     "output_type": "stream",
     "text": [
      "Training data:\n",
      "(109174, 24)\n",
      "Testing data:\n",
      "(27294, 24)\n"
     ]
    }
   ],
   "source": [
    "df.sort_index(inplace=True)\n",
    "\n",
    "# 80% training, 20% testing\n",
    "train_size = int(len(df) * 0.8)\n",
    "\n",
    "# Split into train and test sets\n",
    "train = df.iloc[:train_size]\n",
    "test = df.iloc[train_size:]\n",
    "\n",
    "# Inspect the split\n",
    "print(\"Training data:\")\n",
    "print(train.shape)\n",
    "print(\"Testing data:\")\n",
    "print(test.shape)"
   ]
  },
  {
   "cell_type": "markdown",
   "id": "800dfe33-e6d8-4d31-8557-9ec0cc702e73",
   "metadata": {},
   "source": [
    "### Save data"
   ]
  },
  {
   "cell_type": "code",
   "execution_count": 72,
   "id": "d25d696b-2224-4e82-b30a-998057d3345c",
   "metadata": {},
   "outputs": [
    {
     "name": "stdout",
     "output_type": "stream",
     "text": [
      "Data saved successfully to 'C:/Users/aamal/Desktop/Springboard/Springboard_DataScience/Capstone-3-Solar/data\\solar_preprocess.csv'\n",
      "Training and testing datasets saved successfully!\n"
     ]
    }
   ],
   "source": [
    "datapath = 'C:/Users/aamal/Desktop/Springboard/Springboard_DataScience/Capstone-3-Solar/data'\n",
    "solar_process = 'solar_preprocess.csv'\n",
    "filepath= os.path.join(datapath, solar_process)\n",
    "\n",
    "df.to_csv(filepath, index= False)\n",
    "print(f\"Data saved successfully to '{filepath}'\")\n",
    "\n",
    "# Save training data\n",
    "train.to_csv('train_data.csv', index=False)\n",
    "\n",
    "# Save testing data\n",
    "test.to_csv('test_data.csv', index=False)\n",
    "\n",
    "print(\"Training and testing datasets saved successfully!\")"
   ]
  }
 ],
 "metadata": {
  "kernelspec": {
   "display_name": "Python 3 (ipykernel)",
   "language": "python",
   "name": "python3"
  },
  "language_info": {
   "codemirror_mode": {
    "name": "ipython",
    "version": 3
   },
   "file_extension": ".py",
   "mimetype": "text/x-python",
   "name": "python",
   "nbconvert_exporter": "python",
   "pygments_lexer": "ipython3",
   "version": "3.12.7"
  }
 },
 "nbformat": 4,
 "nbformat_minor": 5
}
