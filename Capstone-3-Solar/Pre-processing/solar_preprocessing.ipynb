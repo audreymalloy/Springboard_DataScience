{
 "cells": [
  {
   "cell_type": "code",
   "execution_count": null,
   "id": "7c03d2b9-c4bd-4f7d-82cc-09bb8a473892",
   "metadata": {},
   "outputs": [],
   "source": []
  },
  {
   "cell_type": "code",
   "execution_count": null,
   "id": "11d2872a-f2ce-49b6-86fc-2cdb368f9d73",
   "metadata": {},
   "outputs": [],
   "source": [
    "#MERGE DATASETS"
   ]
  },
  {
   "cell_type": "code",
   "execution_count": null,
   "id": "cd66ad5b-0847-46b5-8811-f2cdc10807f7",
   "metadata": {},
   "outputs": [],
   "source": [
    "#Transformations needed for models (PLANT 1)\n",
    "#1. Normalize or Scale Data: Use MinMaxScaler or StandardScaler to ensure all features are on the same scale for consistent model inputs, especially if you're merging datasets from multiple plants. \n",
    "from sklearn.preprocessing import MinMaxScaler\n",
    "scaler = MinMaxScaler()\n",
    "df[['DC_POWER', 'AC_POWER', 'DAILY_YIELD', 'TOTAL_YIELD']] = scaler.fit_transform(df[['DC_POWER', 'AC_POWER', 'DAILY_YIELD', 'TOTAL_YIELD']])"
   ]
  },
  {
   "cell_type": "code",
   "execution_count": null,
   "id": "9f45f08a-013b-4ce2-aaa4-2f2db991288f",
   "metadata": {},
   "outputs": [],
   "source": [
    "#2. Handle Skewness: Apply logarithmic transformations for features like DC_POWER and AC_POWER to reduce the impact of skewed distributions.\n",
    "import numpy as np\n",
    "df['LOG_DC_POWER'] = np.log1p(df['DC_POWER'])  # Avoid log(0) errors\n",
    "df['LOG_AC_POWER'] = np.log1p(df['AC_POWER'])"
   ]
  },
  {
   "cell_type": "code",
   "execution_count": null,
   "id": "ac149c4b-2992-436c-9713-6f29ce9b0651",
   "metadata": {},
   "outputs": [],
   "source": [
    "#3. Outlier Detection: For DAILY_YIELD and TOTAL_YIELD, identify and handle outliers. You could cap extreme values or remove rows beyond specific quantiles\n",
    "# Cap values\n",
    "q_low = df['DAILY_YIELD'].quantile(0.01)\n",
    "q_high = df['DAILY_YIELD'].quantile(0.99)\n",
    "df['DAILY_YIELD'] = np.clip(df['DAILY_YIELD'], q_low, q_high)"
   ]
  },
  {
   "cell_type": "code",
   "execution_count": null,
   "id": "ca072430-e3b9-43c6-a422-ac48813bb115",
   "metadata": {},
   "outputs": [],
   "source": [
    "# PLANT 1 WEATHER \n",
    "\n",
    "df['LOG_IRRADIATION'] = np.log1p(df['IRRADIATION'])  # log1p to handle zeros\n"
   ]
  },
  {
   "cell_type": "code",
   "execution_count": null,
   "id": "9817ad6c-4ee1-4506-9137-8d683d59f5a3",
   "metadata": {},
   "outputs": [],
   "source": [
    "#PLANT 1 WEAHTER \n",
    "from sklearn.preprocessing import MinMaxScaler\n",
    "scaler = MinMaxScaler()\n",
    "weather_features = ['AMBIENT_TEMPERATURE', 'MODULE_TEMPERATURE', 'IRRADIATION']\n",
    "df[weather_features] = scaler.fit_transform(df[weather_features])"
   ]
  },
  {
   "cell_type": "code",
   "execution_count": null,
   "id": "63dffeb4-284a-4504-a29e-ec3a4c4ccd6e",
   "metadata": {},
   "outputs": [],
   "source": []
  }
 ],
 "metadata": {
  "kernelspec": {
   "display_name": "Python 3 (ipykernel)",
   "language": "python",
   "name": "python3"
  },
  "language_info": {
   "codemirror_mode": {
    "name": "ipython",
    "version": 3
   },
   "file_extension": ".py",
   "mimetype": "text/x-python",
   "name": "python",
   "nbconvert_exporter": "python",
   "pygments_lexer": "ipython3",
   "version": "3.12.7"
  }
 },
 "nbformat": 4,
 "nbformat_minor": 5
}
