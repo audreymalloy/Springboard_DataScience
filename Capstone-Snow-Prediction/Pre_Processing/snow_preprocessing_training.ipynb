{
 "cells": [
  {
   "cell_type": "markdown",
   "id": "6b015f1d-4f06-4520-b9ba-f117b95ecb16",
   "metadata": {},
   "source": [
    "Capstone Snow Depth Project: Pre-processing and training data"
   ]
  },
  {
   "cell_type": "code",
   "execution_count": 6,
   "id": "d68c20ca-90ba-422a-a335-a626a460806c",
   "metadata": {},
   "outputs": [],
   "source": [
    "import pandas as pd\n",
    "from sklearn.preprocessing import StandardScaler\n",
    "from sklearn.model_selection import train_test_split\n",
    "import numpy as np\n",
    "import os\n",
    "import matplotlib.pyplot as plt\n",
    "import seaborn as sns\n",
    "from sklearn import __version__ as sklearn_version\n",
    "from sklearn.decomposition import PCA\n",
    "from sklearn.preprocessing import scale\n",
    "from sklearn.model_selection import train_test_split, cross_validate, GridSearchCV, learning_curve\n",
    "from sklearn.preprocessing import StandardScaler, MinMaxScaler\n",
    "from sklearn.dummy import DummyRegressor\n",
    "from sklearn.linear_model import LinearRegression\n",
    "from sklearn.ensemble import RandomForestRegressor\n",
    "from sklearn.metrics import r2_score, mean_squared_error, mean_absolute_error\n",
    "from sklearn.pipeline import make_pipeline\n",
    "from sklearn.impute import SimpleImputer\n",
    "from sklearn.feature_selection import SelectKBest, f_regression\n",
    "import datetime\n"
   ]
  },
  {
   "cell_type": "markdown",
   "id": "381f22a8-e6c2-4d5a-a893-c20ddbe8b016",
   "metadata": {},
   "source": [
    "Preprocessing and Training Data Development\n",
    "    Overview\n",
    "The goal of this notebook is to prepare a clean dataset for model fitting by:\n",
    "- Creating dummy/indicator features for categorical variables.\n",
    "- Standardizing the magnitude of numeric features.\n",
    "- Splitting the dataset into training and testing sets.\n",
    "- Saving the preprocessed dataset for further use.\n"
   ]
  },
  {
   "cell_type": "code",
   "execution_count": 8,
   "id": "e79f73cc-62be-4ae8-8244-2a0a7562f06a",
   "metadata": {},
   "outputs": [],
   "source": [
    "#Data\n",
    "os.chdir('C:/Users/aamal/Desktop/Springboard/Springboard_DataScience/Capstone-Snow-Prediction/Data')\n",
    "file_path = 'C:/Users/aamal/Desktop/Springboard/Springboard_DataScience/Capstone-Snow-Prediction/Data/snow_data_cleaned.csv'\n",
    "snow_data = pd.read_csv(file_path)"
   ]
  },
  {
   "cell_type": "code",
   "execution_count": 10,
   "id": "0fac3adc-291f-4097-bcd4-8f38cfc4508c",
   "metadata": {},
   "outputs": [
    {
     "data": {
      "text/html": [
       "<div>\n",
       "<style scoped>\n",
       "    .dataframe tbody tr th:only-of-type {\n",
       "        vertical-align: middle;\n",
       "    }\n",
       "\n",
       "    .dataframe tbody tr th {\n",
       "        vertical-align: top;\n",
       "    }\n",
       "\n",
       "    .dataframe thead th {\n",
       "        text-align: right;\n",
       "    }\n",
       "</style>\n",
       "<table border=\"1\" class=\"dataframe\">\n",
       "  <thead>\n",
       "    <tr style=\"text-align: right;\">\n",
       "      <th></th>\n",
       "      <th>date</th>\n",
       "      <th>station_name</th>\n",
       "      <th>elevation</th>\n",
       "      <th>latitude</th>\n",
       "      <th>longitude</th>\n",
       "      <th>snowdepth</th>\n",
       "      <th>precip_accumulation</th>\n",
       "      <th>precip_increment</th>\n",
       "      <th>airtemp_avg</th>\n",
       "      <th>airtemp_max</th>\n",
       "      <th>...</th>\n",
       "      <th>7d_airtemp_max</th>\n",
       "      <th>7d_precip_max</th>\n",
       "      <th>7d_snowdepth_max</th>\n",
       "      <th>7d_soiltemp_max</th>\n",
       "      <th>30d_airtemp_max</th>\n",
       "      <th>30d_precip_max</th>\n",
       "      <th>30d_snowdepth_max</th>\n",
       "      <th>30d_soiltemp_max</th>\n",
       "      <th>month</th>\n",
       "      <th>year</th>\n",
       "    </tr>\n",
       "  </thead>\n",
       "  <tbody>\n",
       "    <tr>\n",
       "      <th>0</th>\n",
       "      <td>2015-01-01</td>\n",
       "      <td>Brighton</td>\n",
       "      <td>8790</td>\n",
       "      <td>40.59936</td>\n",
       "      <td>-111.58167</td>\n",
       "      <td>34.0</td>\n",
       "      <td>9.2</td>\n",
       "      <td>0.0</td>\n",
       "      <td>17.8</td>\n",
       "      <td>28.2</td>\n",
       "      <td>...</td>\n",
       "      <td>34.2</td>\n",
       "      <td>9.3</td>\n",
       "      <td>34.0</td>\n",
       "      <td>34.0</td>\n",
       "      <td>42.3</td>\n",
       "      <td>11.2</td>\n",
       "      <td>46.0</td>\n",
       "      <td>34.0</td>\n",
       "      <td>1</td>\n",
       "      <td>2015</td>\n",
       "    </tr>\n",
       "    <tr>\n",
       "      <th>1</th>\n",
       "      <td>2015-01-02</td>\n",
       "      <td>Brighton</td>\n",
       "      <td>8790</td>\n",
       "      <td>40.59936</td>\n",
       "      <td>-111.58167</td>\n",
       "      <td>33.0</td>\n",
       "      <td>9.2</td>\n",
       "      <td>0.0</td>\n",
       "      <td>19.6</td>\n",
       "      <td>31.8</td>\n",
       "      <td>...</td>\n",
       "      <td>34.2</td>\n",
       "      <td>9.3</td>\n",
       "      <td>34.0</td>\n",
       "      <td>34.0</td>\n",
       "      <td>42.3</td>\n",
       "      <td>11.2</td>\n",
       "      <td>46.0</td>\n",
       "      <td>34.0</td>\n",
       "      <td>1</td>\n",
       "      <td>2015</td>\n",
       "    </tr>\n",
       "    <tr>\n",
       "      <th>2</th>\n",
       "      <td>2015-01-03</td>\n",
       "      <td>Brighton</td>\n",
       "      <td>8790</td>\n",
       "      <td>40.59936</td>\n",
       "      <td>-111.58167</td>\n",
       "      <td>32.0</td>\n",
       "      <td>9.2</td>\n",
       "      <td>0.0</td>\n",
       "      <td>19.4</td>\n",
       "      <td>25.5</td>\n",
       "      <td>...</td>\n",
       "      <td>34.2</td>\n",
       "      <td>9.3</td>\n",
       "      <td>34.0</td>\n",
       "      <td>34.0</td>\n",
       "      <td>42.3</td>\n",
       "      <td>11.2</td>\n",
       "      <td>46.0</td>\n",
       "      <td>34.0</td>\n",
       "      <td>1</td>\n",
       "      <td>2015</td>\n",
       "    </tr>\n",
       "    <tr>\n",
       "      <th>3</th>\n",
       "      <td>2015-01-04</td>\n",
       "      <td>Brighton</td>\n",
       "      <td>8790</td>\n",
       "      <td>40.59936</td>\n",
       "      <td>-111.58167</td>\n",
       "      <td>31.0</td>\n",
       "      <td>9.2</td>\n",
       "      <td>0.1</td>\n",
       "      <td>26.1</td>\n",
       "      <td>34.9</td>\n",
       "      <td>...</td>\n",
       "      <td>34.2</td>\n",
       "      <td>9.3</td>\n",
       "      <td>34.0</td>\n",
       "      <td>34.0</td>\n",
       "      <td>42.3</td>\n",
       "      <td>11.2</td>\n",
       "      <td>46.0</td>\n",
       "      <td>34.0</td>\n",
       "      <td>1</td>\n",
       "      <td>2015</td>\n",
       "    </tr>\n",
       "    <tr>\n",
       "      <th>4</th>\n",
       "      <td>2015-01-05</td>\n",
       "      <td>Brighton</td>\n",
       "      <td>8790</td>\n",
       "      <td>40.59936</td>\n",
       "      <td>-111.58167</td>\n",
       "      <td>31.0</td>\n",
       "      <td>9.3</td>\n",
       "      <td>0.0</td>\n",
       "      <td>34.3</td>\n",
       "      <td>39.0</td>\n",
       "      <td>...</td>\n",
       "      <td>34.2</td>\n",
       "      <td>9.3</td>\n",
       "      <td>34.0</td>\n",
       "      <td>34.0</td>\n",
       "      <td>42.3</td>\n",
       "      <td>11.2</td>\n",
       "      <td>46.0</td>\n",
       "      <td>34.0</td>\n",
       "      <td>1</td>\n",
       "      <td>2015</td>\n",
       "    </tr>\n",
       "  </tbody>\n",
       "</table>\n",
       "<p>5 rows × 77 columns</p>\n",
       "</div>"
      ],
      "text/plain": [
       "         date station_name  elevation  latitude  longitude  snowdepth  \\\n",
       "0  2015-01-01     Brighton       8790  40.59936 -111.58167       34.0   \n",
       "1  2015-01-02     Brighton       8790  40.59936 -111.58167       33.0   \n",
       "2  2015-01-03     Brighton       8790  40.59936 -111.58167       32.0   \n",
       "3  2015-01-04     Brighton       8790  40.59936 -111.58167       31.0   \n",
       "4  2015-01-05     Brighton       8790  40.59936 -111.58167       31.0   \n",
       "\n",
       "   precip_accumulation  precip_increment  airtemp_avg  airtemp_max  ...  \\\n",
       "0                  9.2               0.0         17.8         28.2  ...   \n",
       "1                  9.2               0.0         19.6         31.8  ...   \n",
       "2                  9.2               0.0         19.4         25.5  ...   \n",
       "3                  9.2               0.1         26.1         34.9  ...   \n",
       "4                  9.3               0.0         34.3         39.0  ...   \n",
       "\n",
       "   7d_airtemp_max  7d_precip_max  7d_snowdepth_max  7d_soiltemp_max  \\\n",
       "0            34.2            9.3              34.0             34.0   \n",
       "1            34.2            9.3              34.0             34.0   \n",
       "2            34.2            9.3              34.0             34.0   \n",
       "3            34.2            9.3              34.0             34.0   \n",
       "4            34.2            9.3              34.0             34.0   \n",
       "\n",
       "   30d_airtemp_max  30d_precip_max  30d_snowdepth_max  30d_soiltemp_max  \\\n",
       "0             42.3            11.2               46.0              34.0   \n",
       "1             42.3            11.2               46.0              34.0   \n",
       "2             42.3            11.2               46.0              34.0   \n",
       "3             42.3            11.2               46.0              34.0   \n",
       "4             42.3            11.2               46.0              34.0   \n",
       "\n",
       "   month  year  \n",
       "0      1  2015  \n",
       "1      1  2015  \n",
       "2      1  2015  \n",
       "3      1  2015  \n",
       "4      1  2015  \n",
       "\n",
       "[5 rows x 77 columns]"
      ]
     },
     "execution_count": 10,
     "metadata": {},
     "output_type": "execute_result"
    }
   ],
   "source": [
    "\n",
    "snow_data.head()"
   ]
  },
  {
   "cell_type": "code",
   "execution_count": 22,
   "id": "2f3b8409-00ee-4903-a697-2078014ab521",
   "metadata": {},
   "outputs": [],
   "source": [
    "winter_months = [11, 12, 1, 2, 3, 4, 5]\n",
    "winter_data = snow_data[snow_data['month'].isin(winter_months)]"
   ]
  },
  {
   "cell_type": "code",
   "execution_count": 24,
   "id": "427ca91a-170a-4ebc-8a1b-76cd0b9d9217",
   "metadata": {},
   "outputs": [
    {
     "name": "stdout",
     "output_type": "stream",
     "text": [
      "       elevation  latitude  longitude  snowdepth  precip_accumulation  \\\n",
      "0           8790  40.59936 -111.58167       34.0                  9.2   \n",
      "1           8790  40.59936 -111.58167       33.0                  9.2   \n",
      "2           8790  40.59936 -111.58167       32.0                  9.2   \n",
      "3           8790  40.59936 -111.58167       31.0                  9.2   \n",
      "4           8790  40.59936 -111.58167       31.0                  9.3   \n",
      "...          ...       ...        ...        ...                  ...   \n",
      "12424       8490  41.37428 -111.76673       34.0                  8.2   \n",
      "12425       8490  41.37428 -111.76673       40.0                  9.4   \n",
      "12426       8490  41.37428 -111.76673       39.0                  9.8   \n",
      "12427       8490  41.37428 -111.76673       38.0                  9.8   \n",
      "12428       8490  41.37428 -111.76673       37.0                  9.8   \n",
      "\n",
      "       precip_increment  airtemp_avg  airtemp_max  airtemp_min  airtemp_obs  \\\n",
      "0                   0.0         17.8         28.2         11.3         14.7   \n",
      "1                   0.0         19.6         31.8         13.6         16.5   \n",
      "2                   0.0         19.4         25.5         12.9         21.0   \n",
      "3                   0.1         26.1         34.9         13.3         13.8   \n",
      "4                   0.0         34.3         39.0         30.2         30.9   \n",
      "...                 ...          ...          ...          ...          ...   \n",
      "12424               1.2         28.4         33.1         26.1         26.1   \n",
      "12425               0.4         31.1         34.7         24.1         32.9   \n",
      "12426               0.0         17.2         24.1         10.9         24.1   \n",
      "12427               0.0         13.3         19.9         10.6         11.1   \n",
      "12428               0.7         20.7         27.1         13.1         13.3   \n",
      "\n",
      "       ...  date_2024-12-28  date_2024-12-29  date_2024-12-30  \\\n",
      "0      ...            False            False            False   \n",
      "1      ...            False            False            False   \n",
      "2      ...            False            False            False   \n",
      "3      ...            False            False            False   \n",
      "4      ...            False            False            False   \n",
      "...    ...              ...              ...              ...   \n",
      "12424  ...             True            False            False   \n",
      "12425  ...            False             True            False   \n",
      "12426  ...            False            False             True   \n",
      "12427  ...            False            False            False   \n",
      "12428  ...            False            False            False   \n",
      "\n",
      "       date_2024-12-31  date_2025-01-01  station_name_Brighton  \\\n",
      "0                False            False                   True   \n",
      "1                False            False                   True   \n",
      "2                False            False                   True   \n",
      "3                False            False                   True   \n",
      "4                False            False                   True   \n",
      "...                ...              ...                    ...   \n",
      "12424            False            False                  False   \n",
      "12425            False            False                  False   \n",
      "12426            False            False                  False   \n",
      "12427             True            False                  False   \n",
      "12428            False             True                  False   \n",
      "\n",
      "       station_name_Dry Fork  station_name_Mill Creek Canyon  \\\n",
      "0                      False                           False   \n",
      "1                      False                           False   \n",
      "2                      False                           False   \n",
      "3                      False                           False   \n",
      "4                      False                           False   \n",
      "...                      ...                             ...   \n",
      "12424                  False                           False   \n",
      "12425                  False                           False   \n",
      "12426                  False                           False   \n",
      "12427                  False                           False   \n",
      "12428                  False                           False   \n",
      "\n",
      "       station_name_Mill-D North  station_name_Powder Mountain  \n",
      "0                          False                         False  \n",
      "1                          False                         False  \n",
      "2                          False                         False  \n",
      "3                          False                         False  \n",
      "4                          False                         False  \n",
      "...                          ...                           ...  \n",
      "12424                      False                          True  \n",
      "12425                      False                          True  \n",
      "12426                      False                          True  \n",
      "12427                      False                          True  \n",
      "12428                      False                          True  \n",
      "\n",
      "[7133 rows x 2204 columns]\n"
     ]
    }
   ],
   "source": [
    "#create dummy indicator features for categorical variables \n",
    "\n",
    "# Create dummy variables\n",
    "snow_dummies = pd.get_dummies(winter_data)\n",
    "print(snow_dummies)\n"
   ]
  },
  {
   "cell_type": "code",
   "execution_count": 26,
   "id": "b50e0288-328f-4e26-ac31-6c66b7052892",
   "metadata": {},
   "outputs": [
    {
     "name": "stdout",
     "output_type": "stream",
     "text": [
      "   elevation  latitude  longitude  snowdepth  precip_accumulation  \\\n",
      "0   0.626793 -0.365707    0.83746  -0.020057            -0.718354   \n",
      "1   0.626793 -0.365707    0.83746  -0.057865            -0.718354   \n",
      "2   0.626793 -0.365707    0.83746  -0.095673            -0.718354   \n",
      "3   0.626793 -0.365707    0.83746  -0.133481            -0.718354   \n",
      "4   0.626793 -0.365707    0.83746  -0.133481            -0.709497   \n",
      "\n",
      "   precip_increment  airtemp_avg  airtemp_max     month      year  \n",
      "0         -0.515991    -1.171698    -0.982759 -1.116039 -1.659943  \n",
      "1         -0.515991    -1.007385    -0.680811 -1.116039 -1.659943  \n",
      "2         -0.515991    -1.025642    -1.209220 -1.116039 -1.659943  \n",
      "3         -0.141150    -0.414031    -0.420800 -1.116039 -1.659943  \n",
      "4         -0.515991     0.334509    -0.076915 -1.116039 -1.659943  \n"
     ]
    }
   ],
   "source": [
    "#Standardize the magnitude of numeric features using scaler\n",
    "scaler = StandardScaler()\n",
    "\n",
    "snow_numeric = winter_data[['elevation', 'latitude', 'longitude', 'snowdepth', 'precip_accumulation', 'precip_increment', 'airtemp_avg', 'airtemp_max', 'month', 'year']]\n",
    "scaled_snow = scaler.fit_transform(snow_numeric)\n",
    "scaled_snow = pd.DataFrame(scaled_snow, columns=snow_numeric.columns)\n",
    "print(scaled_snow.head())"
   ]
  },
  {
   "cell_type": "code",
   "execution_count": 34,
   "id": "f12f32ca-d846-47fc-8f07-f51b9501a35c",
   "metadata": {},
   "outputs": [
    {
     "name": "stdout",
     "output_type": "stream",
     "text": [
      "date                 0\n",
      "station_name         0\n",
      "elevation            0\n",
      "latitude             0\n",
      "longitude            0\n",
      "                    ..\n",
      "30d_precip_max       0\n",
      "30d_snowdepth_max    0\n",
      "30d_soiltemp_max     0\n",
      "month                0\n",
      "year                 0\n",
      "Length: 77, dtype: int64\n"
     ]
    }
   ],
   "source": [
    "print(winter_data.isnull().sum())"
   ]
  },
  {
   "cell_type": "code",
   "execution_count": 36,
   "id": "b90b6e2d-731d-4bff-81c4-fa7e76444710",
   "metadata": {},
   "outputs": [],
   "source": [
    "#Split into testing and training datasets using dummy variables\n",
    "X = snow_dummies  # Features\n",
    "y = snow_numeric['snowdepth']  # Target variable (example)\n",
    "\n",
    "# Split the data\n",
    "X_train, X_test, y_train, y_test = train_test_split(X, y, test_size=0.2, random_state=42)\n"
   ]
  },
  {
   "cell_type": "code",
   "execution_count": 38,
   "id": "71fbed0b-8294-42f1-afa9-b7df62cb49f7",
   "metadata": {},
   "outputs": [
    {
     "data": {
      "text/plain": [
       "((5706, 2204), (1427, 2204))"
      ]
     },
     "execution_count": 38,
     "metadata": {},
     "output_type": "execute_result"
    }
   ],
   "source": [
    "X_train.shape, X_test.shape"
   ]
  },
  {
   "cell_type": "code",
   "execution_count": 40,
   "id": "a6960dde-5c39-4d26-8d79-d20813a87b05",
   "metadata": {},
   "outputs": [
    {
     "data": {
      "text/plain": [
       "((5706,), (1427,))"
      ]
     },
     "execution_count": 40,
     "metadata": {},
     "output_type": "execute_result"
    }
   ],
   "source": [
    "y_train.shape, y_test.shape"
   ]
  },
  {
   "cell_type": "code",
   "execution_count": 42,
   "id": "5f7aa416-9391-4b0b-bce4-4c0c7b1b06a5",
   "metadata": {},
   "outputs": [
    {
     "name": "stdout",
     "output_type": "stream",
     "text": [
      "date                  object\n",
      "station_name          object\n",
      "elevation              int64\n",
      "latitude             float64\n",
      "longitude            float64\n",
      "                      ...   \n",
      "30d_precip_max       float64\n",
      "30d_snowdepth_max    float64\n",
      "30d_soiltemp_max     float64\n",
      "month                  int64\n",
      "year                   int64\n",
      "Length: 77, dtype: object\n"
     ]
    }
   ],
   "source": [
    "#Overview questions:\n",
    "#Does my dataset have any categorical data? Yes: station_names\n",
    "#Do my features have data values that range from 0-100 or 0-1 or both and more? snow ranges from 0 - 155 ; most other features range from 0-100 ; no binary variables unless provided dummy values\n",
    "\n",
    "print(winter_data.dtypes)"
   ]
  },
  {
   "cell_type": "code",
   "execution_count": 44,
   "id": "c75edf92-12db-40af-bdb9-4ab30061c79c",
   "metadata": {},
   "outputs": [
    {
     "data": {
      "text/plain": [
       "34.745706274097444"
      ]
     },
     "execution_count": 44,
     "metadata": {},
     "output_type": "execute_result"
    }
   ],
   "source": [
    "train_mean = y_train.mean()\n",
    "train_mean"
   ]
  },
  {
   "cell_type": "code",
   "execution_count": 46,
   "id": "57bb1ffb-b83f-43a0-9e03-805beec727f7",
   "metadata": {},
   "outputs": [
    {
     "data": {
      "text/plain": [
       "array([[34.74570627]])"
      ]
     },
     "execution_count": 46,
     "metadata": {},
     "output_type": "execute_result"
    }
   ],
   "source": [
    "#Test the mean indicator \n",
    "\n",
    "dumb_reg = DummyRegressor(strategy='mean')\n",
    "dumb_reg.fit(X_train, y_train)\n",
    "dumb_reg.constant_"
   ]
  },
  {
   "cell_type": "code",
   "execution_count": 50,
   "id": "c0029ecd-c827-4a27-9fb2-dc6ff3aaf31d",
   "metadata": {},
   "outputs": [
    {
     "name": "stdout",
     "output_type": "stream",
     "text": [
      "Data saved successfully to 'C:/Users/aamal/Desktop/Springboard/Springboard_DataScience/Capstone-Snow-Prediction/Data\\snow_preprocessed_data.csv'\n"
     ]
    }
   ],
   "source": [
    "\n",
    "datapath = 'C:/Users/aamal/Desktop/Springboard/Springboard_DataScience/Capstone-Snow-Prediction/Data'\n",
    "filename = 'snow_preprocessed_data.csv'  # Define the filename\n",
    "\n",
    "filepath = os.path.join(datapath, filename)\n",
    "\n",
    "scaled_snow.to_csv(filepath, index=False)\n",
    "print(f\"Data saved successfully to '{filepath}'\")\n"
   ]
  }
 ],
 "metadata": {
  "kernelspec": {
   "display_name": "Python 3 (ipykernel)",
   "language": "python",
   "name": "python3"
  },
  "language_info": {
   "codemirror_mode": {
    "name": "ipython",
    "version": 3
   },
   "file_extension": ".py",
   "mimetype": "text/x-python",
   "name": "python",
   "nbconvert_exporter": "python",
   "pygments_lexer": "ipython3",
   "version": "3.12.7"
  }
 },
 "nbformat": 4,
 "nbformat_minor": 5
}
