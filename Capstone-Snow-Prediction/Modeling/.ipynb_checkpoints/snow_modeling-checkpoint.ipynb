{
 "cells": [
  {
   "cell_type": "markdown",
   "id": "89aa884b-2384-4c5c-b4fb-11db2ae6c9b3",
   "metadata": {},
   "source": [
    "## **Snow Prediction Capstone Modeling**"
   ]
  },
  {
   "cell_type": "markdown",
   "id": "e1d8a629-424d-445d-ad2b-cb72b158b0b9",
   "metadata": {},
   "source": [
    "## **Modeling**\n",
    "\n",
    "### **Overview**\n",
    "The objective of this step is to:\n",
    "- Build, evaluate, and select the best model for predicting **Snow Depth**.\n",
    "- This notebook:\n",
    "  - Explores two to three models.\n",
    "  - Applies hyperparameter tuning to optimize model performance.\n",
    "  - Evaluates models using key performance metrics to determine the most effective solution.\n"
   ]
  },
  {
   "cell_type": "code",
   "execution_count": 197,
   "id": "0fd37e66-56dc-4099-94d6-1a2008d528a2",
   "metadata": {},
   "outputs": [],
   "source": [
    "import pandas as pd\n",
    "import numpy as np\n",
    "import os\n",
    "import pickle\n",
    "import matplotlib.pyplot as plt\n",
    "import seaborn as sns\n",
    "\n",
    "from sklearn import __version__ as sklearn_version\n",
    "from sklearn.model_selection import cross_validate\n",
    "from sklearn.tree import DecisionTreeRegressor\n",
    "from sklearn.ensemble import RandomForestRegressor\n",
    "from sklearn.model_selection import train_test_split, GridSearchCV\n",
    "from sklearn.linear_model import LinearRegression\n",
    "from sklearn.svm import SVR\n",
    "from sklearn.metrics import mean_squared_error, r2_score, mean_absolute_error\n",
    "from sklearn.metrics import accuracy_score, precision_score, recall_score, f1_score\n",
    "import optuna"
   ]
  },
  {
   "cell_type": "code",
   "execution_count": 69,
   "id": "38ddf307-d6ac-46f7-8d5f-3e59dd3b6e51",
   "metadata": {},
   "outputs": [],
   "source": [
    "os.chdir('C:/Users/aamal/Desktop/Springboard/Springboard_DataScience/Capstone-Snow-Prediction/Data')\n",
    "file_path = 'C:/Users/aamal/Desktop/Springboard/Springboard_DataScience/Capstone-Snow-Prediction/Data/preprocessed_data.csv'\n",
    "snow_data = pd.read_csv(file_path)"
   ]
  },
  {
   "cell_type": "code",
   "execution_count": 71,
   "id": "d8b60bb5-f004-4231-ac39-d93859cefaf8",
   "metadata": {},
   "outputs": [
    {
     "name": "stdout",
     "output_type": "stream",
     "text": [
      "         date  elevation  latitude  longitude  snowdepth  precip_accumulation  \\\n",
      "0  2015-01-01       8790  40.59936 -111.58167       34.0                  9.2   \n",
      "1  2015-01-02       8790  40.59936 -111.58167       33.0                  9.2   \n",
      "2  2015-01-03       8790  40.59936 -111.58167       32.0                  9.2   \n",
      "3  2015-01-04       8790  40.59936 -111.58167       31.0                  9.2   \n",
      "4  2015-01-05       8790  40.59936 -111.58167       31.0                  9.3   \n",
      "\n",
      "   precip_increment  airtemp_avg  airtemp_max  airtemp_min  airtemp_obs  \\\n",
      "0               0.0         17.8         28.2         11.3         14.7   \n",
      "1               0.0         19.6         31.8         13.6         16.5   \n",
      "2               0.0         19.4         25.5         12.9         21.0   \n",
      "3               0.1         26.1         34.9         13.3         13.8   \n",
      "4               0.0         34.3         39.0         30.2         30.9   \n",
      "\n",
      "   soiltemp_obs  soilmoisture_avg  soilmoisture_max  soilmoisture_min  \\\n",
      "0          34.0            31.621              31.7              31.4   \n",
      "1          34.0            31.571              31.7              31.4   \n",
      "2          34.0            31.571              31.8              31.3   \n",
      "3          34.0            31.492              31.6              31.3   \n",
      "4          33.0            31.454              31.6              31.3   \n",
      "\n",
      "   soiltemp_avg  soiltemp_max  soiltemp_min  7d_airtemp_avg  7d_precip_avg  \\\n",
      "0          34.0          34.0          34.0       23.042857       9.242857   \n",
      "1          34.0          34.0          34.0       23.042857       9.242857   \n",
      "2          34.0          34.0          34.0       23.042857       9.242857   \n",
      "3          34.0          34.0          33.0       23.042857       9.242857   \n",
      "4          33.0          34.0          33.0       23.042857       9.242857   \n",
      "\n",
      "   7d_snowdepth_avg  7d_soiltemp_avg  30d_airtemp_avg  30d_precip_avg  \\\n",
      "0         31.571429        33.714286            25.72       10.303333   \n",
      "1         31.571429        33.714286            25.72       10.303333   \n",
      "2         31.571429        33.714286            25.72       10.303333   \n",
      "3         31.571429        33.714286            25.72       10.303333   \n",
      "4         31.571429        33.714286            25.72       10.303333   \n",
      "\n",
      "   30d_snowdepth_avg  30d_soiltemp_avg  7d_airtemp_std  7d_precip_std  \\\n",
      "0          34.633333         33.166667        8.558204       0.053452   \n",
      "1          34.633333         33.166667        8.558204       0.053452   \n",
      "2          34.633333         33.166667        8.558204       0.053452   \n",
      "3          34.633333         33.166667        8.558204       0.053452   \n",
      "4          34.633333         33.166667        8.558204       0.053452   \n",
      "\n",
      "   7d_snowdepth_std  7d_soiltemp_std  30d_airtemp_std  30d_precip_std  \\\n",
      "0          1.511858          0.48795         8.514061        0.846691   \n",
      "1          1.511858          0.48795         8.514061        0.846691   \n",
      "2          1.511858          0.48795         8.514061        0.846691   \n",
      "3          1.511858          0.48795         8.514061        0.846691   \n",
      "4          1.511858          0.48795         8.514061        0.846691   \n",
      "\n",
      "   30d_snowdepth_std  30d_soiltemp_std  7d_airtemp_var  7d_precip_var  \\\n",
      "0           4.164574          0.379049       73.242857       0.002857   \n",
      "1           4.164574          0.379049       73.242857       0.002857   \n",
      "2           4.164574          0.379049       73.242857       0.002857   \n",
      "3           4.164574          0.379049       73.242857       0.002857   \n",
      "4           4.164574          0.379049       73.242857       0.002857   \n",
      "\n",
      "   7d_snowdepth_var  7d_soiltemp_var  30d_airtemp_var  30d_precip_var  \\\n",
      "0          2.285714         0.238095        72.489241        0.716885   \n",
      "1          2.285714         0.238095        72.489241        0.716885   \n",
      "2          2.285714         0.238095        72.489241        0.716885   \n",
      "3          2.285714         0.238095        72.489241        0.716885   \n",
      "4          2.285714         0.238095        72.489241        0.716885   \n",
      "\n",
      "   30d_snowdepth_var  30d_soiltemp_var  7d_airtemp_sum  7d_precip_sum  \\\n",
      "0          17.343678          0.143678           161.3           64.7   \n",
      "1          17.343678          0.143678           161.3           64.7   \n",
      "2          17.343678          0.143678           161.3           64.7   \n",
      "3          17.343678          0.143678           161.3           64.7   \n",
      "4          17.343678          0.143678           161.3           64.7   \n",
      "\n",
      "   7d_snowdepth_sum  7d_soiltemp_sum  30d_airtemp_sum  30d_precip_sum  \\\n",
      "0             221.0            236.0            771.6           309.1   \n",
      "1             221.0            236.0            771.6           309.1   \n",
      "2             221.0            236.0            771.6           309.1   \n",
      "3             221.0            236.0            771.6           309.1   \n",
      "4             221.0            236.0            771.6           309.1   \n",
      "\n",
      "   30d_snowdepth_sum  30d_soiltemp_sum  7d_airtemp_median  7d_precip_median  \\\n",
      "0             1039.0             995.0               21.0               9.2   \n",
      "1             1039.0             995.0               21.0               9.2   \n",
      "2             1039.0             995.0               21.0               9.2   \n",
      "3             1039.0             995.0               21.0               9.2   \n",
      "4             1039.0             995.0               21.0               9.2   \n",
      "\n",
      "   7d_snowdepth_median  7d_soiltemp_median  30d_airtemp_median  \\\n",
      "0                 31.0                34.0                27.3   \n",
      "1                 31.0                34.0                27.3   \n",
      "2                 31.0                34.0                27.3   \n",
      "3                 31.0                34.0                27.3   \n",
      "4                 31.0                34.0                27.3   \n",
      "\n",
      "   30d_precip_median  30d_snowdepth_median  30d_soiltemp_median  \\\n",
      "0               10.8                  34.0                 33.0   \n",
      "1               10.8                  34.0                 33.0   \n",
      "2               10.8                  34.0                 33.0   \n",
      "3               10.8                  34.0                 33.0   \n",
      "4               10.8                  34.0                 33.0   \n",
      "\n",
      "   7d_airtemp_min  7d_precip_min  7d_snowdepth_min  7d_soiltemp_min  \\\n",
      "0            13.8            9.2              30.0             33.0   \n",
      "1            13.8            9.2              30.0             33.0   \n",
      "2            13.8            9.2              30.0             33.0   \n",
      "3            13.8            9.2              30.0             33.0   \n",
      "4            13.8            9.2              30.0             33.0   \n",
      "\n",
      "   30d_airtemp_min  30d_precip_min  30d_snowdepth_min  30d_soiltemp_min  \\\n",
      "0              7.2             9.2               29.0              33.0   \n",
      "1              7.2             9.2               29.0              33.0   \n",
      "2              7.2             9.2               29.0              33.0   \n",
      "3              7.2             9.2               29.0              33.0   \n",
      "4              7.2             9.2               29.0              33.0   \n",
      "\n",
      "   7d_airtemp_max  7d_precip_max  7d_snowdepth_max  7d_soiltemp_max  \\\n",
      "0            34.2            9.3              34.0             34.0   \n",
      "1            34.2            9.3              34.0             34.0   \n",
      "2            34.2            9.3              34.0             34.0   \n",
      "3            34.2            9.3              34.0             34.0   \n",
      "4            34.2            9.3              34.0             34.0   \n",
      "\n",
      "   30d_airtemp_max  30d_precip_max  30d_snowdepth_max  30d_soiltemp_max  \\\n",
      "0             42.3            11.2               46.0              34.0   \n",
      "1             42.3            11.2               46.0              34.0   \n",
      "2             42.3            11.2               46.0              34.0   \n",
      "3             42.3            11.2               46.0              34.0   \n",
      "4             42.3            11.2               46.0              34.0   \n",
      "\n",
      "   month  year  station_name_Brighton  station_name_Dry Fork  \\\n",
      "0      1  2015                      1                      0   \n",
      "1      1  2015                      1                      0   \n",
      "2      1  2015                      1                      0   \n",
      "3      1  2015                      1                      0   \n",
      "4      1  2015                      1                      0   \n",
      "\n",
      "   station_name_Mill-D North  \n",
      "0                          0  \n",
      "1                          0  \n",
      "2                          0  \n",
      "3                          0  \n",
      "4                          0  \n"
     ]
    }
   ],
   "source": [
    "pd.set_option('display.max_columns', None) \n",
    "pd.set_option('display.max_rows', None)\n",
    "print(snow_data.head())\n"
   ]
  },
  {
   "cell_type": "code",
   "execution_count": 73,
   "id": "0c510c2e-82d1-4dd8-902e-8fa60ab5b8a6",
   "metadata": {
    "scrolled": true
   },
   "outputs": [
    {
     "name": "stdout",
     "output_type": "stream",
     "text": [
      "date                          object\n",
      "elevation                      int64\n",
      "latitude                     float64\n",
      "longitude                    float64\n",
      "snowdepth                    float64\n",
      "precip_accumulation          float64\n",
      "precip_increment             float64\n",
      "airtemp_avg                  float64\n",
      "airtemp_max                  float64\n",
      "airtemp_min                  float64\n",
      "airtemp_obs                  float64\n",
      "soiltemp_obs                 float64\n",
      "soilmoisture_avg             float64\n",
      "soilmoisture_max             float64\n",
      "soilmoisture_min             float64\n",
      "soiltemp_avg                 float64\n",
      "soiltemp_max                 float64\n",
      "soiltemp_min                 float64\n",
      "7d_airtemp_avg               float64\n",
      "7d_precip_avg                float64\n",
      "7d_snowdepth_avg             float64\n",
      "7d_soiltemp_avg              float64\n",
      "30d_airtemp_avg              float64\n",
      "30d_precip_avg               float64\n",
      "30d_snowdepth_avg            float64\n",
      "30d_soiltemp_avg             float64\n",
      "7d_airtemp_std               float64\n",
      "7d_precip_std                float64\n",
      "7d_snowdepth_std             float64\n",
      "7d_soiltemp_std              float64\n",
      "30d_airtemp_std              float64\n",
      "30d_precip_std               float64\n",
      "30d_snowdepth_std            float64\n",
      "30d_soiltemp_std             float64\n",
      "7d_airtemp_var               float64\n",
      "7d_precip_var                float64\n",
      "7d_snowdepth_var             float64\n",
      "7d_soiltemp_var              float64\n",
      "30d_airtemp_var              float64\n",
      "30d_precip_var               float64\n",
      "30d_snowdepth_var            float64\n",
      "30d_soiltemp_var             float64\n",
      "7d_airtemp_sum               float64\n",
      "7d_precip_sum                float64\n",
      "7d_snowdepth_sum             float64\n",
      "7d_soiltemp_sum              float64\n",
      "30d_airtemp_sum              float64\n",
      "30d_precip_sum               float64\n",
      "30d_snowdepth_sum            float64\n",
      "30d_soiltemp_sum             float64\n",
      "7d_airtemp_median            float64\n",
      "7d_precip_median             float64\n",
      "7d_snowdepth_median          float64\n",
      "7d_soiltemp_median           float64\n",
      "30d_airtemp_median           float64\n",
      "30d_precip_median            float64\n",
      "30d_snowdepth_median         float64\n",
      "30d_soiltemp_median          float64\n",
      "7d_airtemp_min               float64\n",
      "7d_precip_min                float64\n",
      "7d_snowdepth_min             float64\n",
      "7d_soiltemp_min              float64\n",
      "30d_airtemp_min              float64\n",
      "30d_precip_min               float64\n",
      "30d_snowdepth_min            float64\n",
      "30d_soiltemp_min             float64\n",
      "7d_airtemp_max               float64\n",
      "7d_precip_max                float64\n",
      "7d_snowdepth_max             float64\n",
      "7d_soiltemp_max              float64\n",
      "30d_airtemp_max              float64\n",
      "30d_precip_max               float64\n",
      "30d_snowdepth_max            float64\n",
      "30d_soiltemp_max             float64\n",
      "month                          int64\n",
      "year                           int64\n",
      "station_name_Brighton          int64\n",
      "station_name_Dry Fork          int64\n",
      "station_name_Mill-D North      int64\n",
      "dtype: object\n"
     ]
    }
   ],
   "source": [
    "print(snow_data.dtypes)"
   ]
  },
  {
   "cell_type": "code",
   "execution_count": 75,
   "id": "9a8dca73-9d5a-458f-a158-fec95d195b81",
   "metadata": {},
   "outputs": [],
   "source": [
    "features = snow_data[['elevation', 'precip_accumulation', 'precip_increment', 'airtemp_obs', 'airtemp_avg', 'airtemp_max', 'airtemp_min', 'soiltemp_obs', 'soiltemp_avg', 'soiltemp_max', 'soiltemp_min', 'soilmoisture_avg', '7d_airtemp_avg', '7d_airtemp_std', '7d_airtemp_var', '7d_airtemp_sum', '7d_airtemp_median', '7d_airtemp_min', '7d_airtemp_max', '30d_airtemp_avg', '30d_airtemp_std', '30d_airtemp_var', '30d_airtemp_sum', '30d_airtemp_median', '30d_airtemp_min', '30d_airtemp_max', 'month', 'year', 'station_name_Brighton', 'station_name_Dry Fork', 'station_name_Mill-D North']]\n",
    "target = snow_data['snowdepth']"
   ]
  },
  {
   "cell_type": "code",
   "execution_count": 77,
   "id": "718b9230-f4a4-4b89-849c-cf08bb4c803e",
   "metadata": {},
   "outputs": [],
   "source": [
    "X = features\n",
    "y = target\n",
    "\n",
    "X_train, X_test, y_train, y_test = train_test_split(X, y, test_size=0.2, random_state=42)"
   ]
  },
  {
   "cell_type": "code",
   "execution_count": 143,
   "id": "ba6b2f84-576c-4aca-a3be-78bcb43bacda",
   "metadata": {},
   "outputs": [
    {
     "name": "stdout",
     "output_type": "stream",
     "text": [
      "Decision Tree MSE: 21.386970172684457\n",
      "RMSE: 4.624604866654497\n",
      "MAE: 2.6664050235478807\n",
      "R² Score: 0.9659067754344218\n"
     ]
    }
   ],
   "source": [
    "#Model 1: Decision Tree Regressor\n",
    "\n",
    "dt_model = DecisionTreeRegressor(random_state=42)\n",
    "dt_model.fit(X_train, y_train)\n",
    "y_pred_dt = dt_model.predict(X_test)\n",
    "\n",
    "print(f\"Decision Tree MSE: {mean_squared_error(y_test, y_pred_dt)}\")\n",
    "print(f\"RMSE: {np.sqrt(mean_squared_error(y_test, y_pred_dt))}\")\n",
    "print(f\"MAE: {mean_absolute_error(y_test, y_pred_dt)}\")\n",
    "print(f\"R² Score: {r2_score(y_test, y_pred_dt)}\")"
   ]
  },
  {
   "cell_type": "code",
   "execution_count": 160,
   "id": "6660076d-c967-453e-9e7b-c328a4a871d0",
   "metadata": {},
   "outputs": [
    {
     "name": "stdout",
     "output_type": "stream",
     "text": [
      "Random Forest MSE: 9.162316169544741\n",
      "RMSE: 3.026931807878192\n",
      "MAE: 2.005918367346939\n",
      "R² Score: 0.9853942423734203\n"
     ]
    }
   ],
   "source": [
    "# Model 2 : Random Forest\n",
    "rf_model = RandomForestRegressor(random_state = 42)\n",
    "rf_model.fit(X_train, y_train)\n",
    "y_pred_rf = rf_model.predict(X_test)\n",
    "\n",
    "print(f\"Random Forest MSE: {mean_squared_error(y_test, y_pred_rf)}\")\n",
    "print(f\"RMSE: {np.sqrt(mean_squared_error(y_test, y_pred_rf))}\")\n",
    "print(f\"MAE: {mean_absolute_error(y_test, y_pred_rf)}\")\n",
    "print(f\"R² Score: {r2_score(y_test, y_pred_rf)}\")"
   ]
  },
  {
   "cell_type": "code",
   "execution_count": 189,
   "id": "1c098432-e8fa-43f3-8226-90b3b0a097df",
   "metadata": {},
   "outputs": [
    {
     "name": "stdout",
     "output_type": "stream",
     "text": [
      "Feature: elevation, Importance: 0.0005717700820549393\n",
      "Feature: precip_accumulation, Importance: 0.31141631663944863\n",
      "Feature: precip_increment, Importance: 0.0006107318768430616\n",
      "Feature: airtemp_obs, Importance: 0.0022125593745962423\n",
      "Feature: airtemp_avg, Importance: 0.0023652214139476373\n",
      "Feature: airtemp_max, Importance: 0.001837669965058157\n",
      "Feature: airtemp_min, Importance: 0.0018937050088578993\n",
      "Feature: soiltemp_obs, Importance: 0.0034143241687504726\n",
      "Feature: soiltemp_avg, Importance: 0.0018138466975166241\n",
      "Feature: soiltemp_max, Importance: 0.046691998067411054\n",
      "Feature: soiltemp_min, Importance: 0.0012074002976088178\n",
      "Feature: soilmoisture_avg, Importance: 0.014384328090736634\n",
      "Feature: 7d_airtemp_avg, Importance: 0.00319954866721777\n",
      "Feature: 7d_airtemp_std, Importance: 0.0009670565945829076\n",
      "Feature: 7d_airtemp_var, Importance: 0.001027708389107936\n",
      "Feature: 7d_airtemp_sum, Importance: 0.003369415634823707\n",
      "Feature: 7d_airtemp_median, Importance: 0.0027493686547555296\n",
      "Feature: 7d_airtemp_min, Importance: 0.005039388630128779\n",
      "Feature: 7d_airtemp_max, Importance: 0.0025411372530513717\n",
      "Feature: 30d_airtemp_avg, Importance: 0.028862056474512104\n",
      "Feature: 30d_airtemp_std, Importance: 0.003592850865223072\n",
      "Feature: 30d_airtemp_var, Importance: 0.0031989257297128015\n",
      "Feature: 30d_airtemp_sum, Importance: 0.02716434161704158\n",
      "Feature: 30d_airtemp_median, Importance: 0.049912440776354046\n",
      "Feature: 30d_airtemp_min, Importance: 0.01100916856016572\n",
      "Feature: 30d_airtemp_max, Importance: 0.05010755881221503\n",
      "Feature: month, Importance: 0.4048398020606058\n",
      "Feature: year, Importance: 0.012947227810318264\n",
      "Feature: station_name_Brighton, Importance: 0.0003568412168584107\n",
      "Feature: station_name_Dry Fork, Importance: 0.00037628785326397407\n",
      "Feature: station_name_Mill-D North, Importance: 0.0003190027172309431\n"
     ]
    }
   ],
   "source": [
    "imps = rf_model.feature_importances_\n",
    "for i, v in enumerate(importance):\n",
    "    print(f\"Feature: {X_train.columns[i]}, Importance: {v}\")\n"
   ]
  },
  {
   "cell_type": "code",
   "execution_count": 187,
   "id": "07e1ba54-170b-4df8-a226-c6aeefd15593",
   "metadata": {},
   "outputs": [
    {
     "data": {
      "image/png": "[encoded data removed]",
      "text/plain": [
       "<Figure size 1000x600 with 1 Axes>"
      ]
     },
     "metadata": {},
     "output_type": "display_data"
    }
   ],
   "source": [
    "best_model = grid_search.best_estimator_\n",
    "feature_importances = best_model.feature_importances_\n",
    "feature_names = X_train.columns\n",
    "\n",
    "# Create a DataFrame for visualization\n",
    "importance_df = pd.DataFrame({'Feature': feature_names, 'Importance': feature_importances})\n",
    "importance_df = importance_df.sort_values(by='Importance', ascending=False)\n",
    "\n",
    "# Plot feature importances\n",
    "plt.figure(figsize=(10, 6))\n",
    "sns.barplot(x='Importance', y='Feature', data=importance_df, palette=\"viridis\", hue= 'Feature', legend=False)\n",
    "plt.title('Feature Importances from Best Random Forest Model')\n",
    "plt.xlabel('Importance')\n",
    "plt.ylabel('Features')\n",
    "plt.show()\n"
   ]
  },
  {
   "cell_type": "code",
   "execution_count": 111,
   "id": "dc4ca67c-dc32-47e4-978f-375083df4acd",
   "metadata": {},
   "outputs": [],
   "source": [
    "from sklearn.preprocessing import StandardScaler\n",
    "\n",
    "\n",
    "scaler = StandardScaler()\n",
    "X_train_scaled = scaler.fit_transform(X_train)\n",
    "X_test_scaled = scaler.transform(X_test)\n"
   ]
  },
  {
   "cell_type": "code",
   "execution_count": 147,
   "id": "2d7a88c7-88bb-40db-a6b1-d8c5a7935ec5",
   "metadata": {},
   "outputs": [
    {
     "name": "stdout",
     "output_type": "stream",
     "text": [
      "SVM MSE: 94.64615665135624\n",
      "RMSE: 9.728625630136882\n",
      "MAE: 6.4397923906857155\n",
      "R² Score: 0.8491234313729555\n"
     ]
    }
   ],
   "source": [
    "#Model 3: Support Vector Machine (SVM)\n",
    "svm_model = SVR()\n",
    "svm_model.fit(X_train_scaled, y_train)\n",
    "y_pred_svm = svm_model.predict(X_test_scaled)\n",
    "\n",
    "print(f\"SVM MSE: {mean_squared_error(y_test, y_pred_svm)}\")\n",
    "print(f\"RMSE: {np.sqrt(mean_squared_error(y_test, y_pred_svm))}\")\n",
    "print(f\"MAE: {mean_absolute_error(y_test, y_pred_svm)}\")\n",
    "print(f\"R² Score: {r2_score(y_test, y_pred_svm)}\")"
   ]
  },
  {
   "cell_type": "code",
   "execution_count": 164,
   "id": "18debeb4-cbd9-4b7a-ba68-ad2705531185",
   "metadata": {},
   "outputs": [
    {
     "name": "stdout",
     "output_type": "stream",
     "text": [
      "Random Forest Evaluation:\n",
      "Mean Squared Error (MSE): 9.16\n",
      "Root Mean Squared Error (RMSE): 3.03\n",
      "Mean Absolute Error (MAE): 2.01\n",
      "R² Score: 0.99\n",
      "\n",
      "Support Vector Machine Evaluation:\n",
      "Mean Squared Error (MSE): 94.65\n",
      "Root Mean Squared Error (RMSE): 9.73\n",
      "Mean Absolute Error (MAE): 6.44\n",
      "R² Score: 0.85\n",
      "\n",
      "Decision Tree Evaluation:\n",
      "Mean Squared Error (MSE): 21.39\n",
      "Root Mean Squared Error (RMSE): 4.62\n",
      "Mean Absolute Error (MAE): 2.67\n",
      "R² Score: 0.97\n"
     ]
    }
   ],
   "source": [
    "def evaluate_model(y_true, y_pred):\n",
    "    mse = mean_squared_error(y_true, y_pred)\n",
    "    rmse = np.sqrt(mse)\n",
    "    mae = mean_absolute_error(y_true, y_pred)\n",
    "    r2 = r2_score(y_true, y_pred)\n",
    "    \n",
    "    print(f\"Mean Squared Error (MSE): {mse:.2f}\")\n",
    "    print(f\"Root Mean Squared Error (RMSE): {rmse:.2f}\")\n",
    "    print(f\"Mean Absolute Error (MAE): {mae:.2f}\")\n",
    "    print(f\"R² Score: {r2:.2f}\")\n",
    "\n",
    "print(\"Random Forest Evaluation:\")\n",
    "evaluate_model(y_test, y_pred_rf)\n",
    "print()\n",
    "print(\"Support Vector Machine Evaluation:\")\n",
    "evaluate_model(y_test, y_pred_svm)\n",
    "print()\n",
    "print(\"Decision Tree Evaluation:\")\n",
    "evaluate_model(y_test, y_pred_dt)\n"
   ]
  },
  {
   "cell_type": "markdown",
   "id": "77bf1aec-9871-40f2-ad13-6d5475f4ae22",
   "metadata": {},
   "source": [
    "Random Forest: \n",
    "- Performed well with MSE of **9.16** and R-squared of **0.99**.\n",
    "- Strong generalization\n",
    "\n",
    "Support Vector Machine (SVM): \n",
    "- Struggled with higher MSE and lower R-squared. \n",
    "\n",
    "Decision Tree: \n",
    "- Less robust than Random Forest.\n",
    "- Could be due to overfitting. "
   ]
  },
  {
   "cell_type": "markdown",
   "id": "29ce442e-2b60-4af4-80bc-c40020804b64",
   "metadata": {},
   "source": [
    "### Fine-tune hyperparameters \n",
    "##### GridSearchCV"
   ]
  },
  {
   "cell_type": "code",
   "execution_count": 175,
   "id": "f4286b2f-aa29-4325-a83f-2b11133c2773",
   "metadata": {},
   "outputs": [
    {
     "name": "stdout",
     "output_type": "stream",
     "text": [
      "Fitting 5 folds for each of 243 candidates, totalling 1215 fits\n",
      "Best Parameters: {'max_depth': None, 'max_features': None, 'min_samples_leaf': 1, 'min_samples_split': 2, 'n_estimators': 200}\n",
      "Best Score: 10.7871\n"
     ]
    }
   ],
   "source": [
    "#Fine-tune hyperparameters\n",
    "#GridSearchCV\n",
    "\n",
    "param_grid_rf = {\n",
    "    'n_estimators': [50, 100, 200],\n",
    "    'max_depth': [10, 20, None],\n",
    "    'min_samples_split': [2, 5, 10],\n",
    "    'min_samples_leaf': [1, 2, 4],\n",
    "    'max_features': ['sqrt', 'log2', None]  # Fixed: Removed 'auto'\n",
    "}\n",
    "\n",
    "grid_search = GridSearchCV(estimator=RandomForestRegressor(random_state=42),\n",
    "                           param_grid=param_grid_rf,\n",
    "                           scoring='neg_mean_squared_error',\n",
    "                           cv=5,\n",
    "                           n_jobs=-1,\n",
    "                           verbose=3)\n",
    "\n",
    "grid_search.fit(X_train, y_train)\n",
    "print(f\"Best Parameters: {grid_search.best_params_}\")\n",
    "print(f\"Best Score: {-grid_search.best_score_:.4f}\")"
   ]
  },
  {
   "cell_type": "markdown",
   "id": "0a87254a-e246-488f-8bee-4ecda4e0b9c4",
   "metadata": {},
   "source": [
    "Having max_depth and max_features remain unrestricted improves the performance of the Random Forest. \n",
    "A higher estimator of 200 might improve the stability of predictions."
   ]
  },
  {
   "cell_type": "code",
   "execution_count": 220,
   "id": "7f66828d-37a5-46b9-ac80-6ede2bc482b5",
   "metadata": {},
   "outputs": [
    {
     "name": "stdout",
     "output_type": "stream",
     "text": [
      "Grid Search CV:\n",
      "Mean Squared Error (MSE): 8.98\n",
      "Root Mean Squared Error (RMSE): 3.00\n",
      "Mean Absolute Error (MAE): 1.99\n",
      "R² Score: 0.99\n"
     ]
    }
   ],
   "source": [
    "# Predict using the best model\n",
    "best_model = grid_search.best_estimator_  # Replace with random_search.best_estimator_ if using RandomizedSearchCV\n",
    "y_pred_GS = best_model.predict(X_test)\n",
    "\n",
    "# Evaluate performance\n",
    "print(\"Grid Search CV:\")\n",
    "evaluate_model(y_test, y_pred_GS)"
   ]
  },
  {
   "cell_type": "markdown",
   "id": "cdea73fa-97ec-44cc-b9e0-5b5e7970da2a",
   "metadata": {},
   "source": [
    "The slight reduction in MSE compared to the initial model highlights how systematic hyperparameter adjustments enhanced accuracy. Fine-tuning process is effective. "
   ]
  },
  {
   "cell_type": "markdown",
   "id": "f6f2c0b4-1492-4b95-a306-488498a1d40b",
   "metadata": {},
   "source": [
    "#### Randomized Search CV"
   ]
  },
  {
   "cell_type": "code",
   "execution_count": 170,
   "id": "9a259906-5f97-4bf5-abc8-4fb0fc6ad184",
   "metadata": {},
   "outputs": [
    {
     "name": "stdout",
     "output_type": "stream",
     "text": [
      "Best Parameters: {'n_estimators': 200, 'min_samples_split': 2, 'max_depth': 20}\n",
      "Best Score: 10.7930\n"
     ]
    }
   ],
   "source": [
    "\n",
    "from sklearn.model_selection import RandomizedSearchCV\n",
    "\n",
    "RANDOM_STATE = 42\n",
    "\n",
    "param_dist_rf = {\n",
    "    'n_estimators': [50, 100, 200],\n",
    "    'max_depth': [10, 20, None],\n",
    "    'min_samples_split': [2, 5, 10]\n",
    "}\n",
    "\n",
    "random_search = RandomizedSearchCV(estimator=RandomForestRegressor(random_state=RANDOM_STATE),\n",
    "                                   param_distributions=param_dist_rf,\n",
    "                                   n_iter=20,  \n",
    "                                   scoring='neg_mean_squared_error',  \n",
    "                                   cv=5,  \n",
    "                                   random_state=RANDOM_STATE,  \n",
    "                                   n_jobs=-1)  \n",
    "random_search.fit(X_train, y_train)\n",
    "\n",
    "# Output the best parameters and score\n",
    "print(f\"Best Parameters: {random_search.best_params_}\")\n",
    "print(f\"Best Score: {-random_search.best_score_:.4f}\")  # Convert negative MSE to positive for readability"
   ]
  },
  {
   "cell_type": "code",
   "execution_count": 213,
   "id": "b2e8b1d5-defa-47dc-9195-e94409e1ffd3",
   "metadata": {},
   "outputs": [
    {
     "name": "stdout",
     "output_type": "stream",
     "text": [
      "Randomized Search Evaluation:\n",
      "Mean Squared Error (MSE): 9.01\n",
      "Root Mean Squared Error (RMSE): 3.00\n",
      "Mean Absolute Error (MAE): 2.00\n",
      "R² Score: 0.99\n",
      "None\n"
     ]
    }
   ],
   "source": [
    "# Predict using the best model from Randomized Search\n",
    "RS_best_model = random_search.best_estimator_  \n",
    "RS_y_pred = RS_best_model.predict(X_test)\n",
    "\n",
    "print(\"Randomized Search Evaluation:\")\n",
    "print(evaluate_model(y_test, RS_y_pred))"
   ]
  },
  {
   "cell_type": "markdown",
   "id": "be302186-bf6e-42e9-ba9e-e011be5fc422",
   "metadata": {},
   "source": [
    "The performance is similar to the Grid Search CV, however, showing slightly worse error metrics (higher MSE and MAE). R-sqaured of **0.99** for both models with Randomized Search CV or Grid Search CV indicate the models are highly accurate. "
   ]
  },
  {
   "cell_type": "code",
   "execution_count": 199,
   "id": "a465cee2-2612-43ab-b6f4-833b358961aa",
   "metadata": {},
   "outputs": [
    {
     "name": "stderr",
     "output_type": "stream",
     "text": [
      "[I 2025-04-05 17:31:54,329] A new study created in memory with name: no-name-66efa4f6-9071-47b4-8db2-a5af5a63620c\n",
      "[I 2025-04-05 17:32:02,793] Trial 0 finished with value: 41.794099520586386 and parameters: {'n_estimators': 94, 'max_depth': 6, 'min_samples_split': 6}. Best is trial 0 with value: 41.794099520586386.\n",
      "[I 2025-04-05 17:32:25,818] Trial 1 finished with value: 10.5163594866683 and parameters: {'n_estimators': 175, 'max_depth': 18, 'min_samples_split': 10}. Best is trial 1 with value: 10.5163594866683.\n",
      "[I 2025-04-05 17:32:30,841] Trial 2 finished with value: 42.36805809054134 and parameters: {'n_estimators': 72, 'max_depth': 6, 'min_samples_split': 7}. Best is trial 1 with value: 10.5163594866683.\n",
      "[I 2025-04-05 17:32:47,059] Trial 3 finished with value: 22.276552945331648 and parameters: {'n_estimators': 155, 'max_depth': 8, 'min_samples_split': 10}. Best is trial 1 with value: 10.5163594866683.\n",
      "[I 2025-04-05 17:33:11,910] Trial 4 finished with value: 10.043904464516514 and parameters: {'n_estimators': 157, 'max_depth': 26, 'min_samples_split': 8}. Best is trial 4 with value: 10.043904464516514.\n",
      "[I 2025-04-05 17:33:32,637] Trial 5 finished with value: 16.433040614619873 and parameters: {'n_estimators': 160, 'max_depth': 9, 'min_samples_split': 2}. Best is trial 4 with value: 10.043904464516514.\n",
      "[I 2025-04-05 17:33:51,333] Trial 6 finished with value: 9.43106260134372 and parameters: {'n_estimators': 105, 'max_depth': 22, 'min_samples_split': 5}. Best is trial 6 with value: 9.43106260134372.\n",
      "[I 2025-04-05 17:34:22,096] Trial 7 finished with value: 9.97070782763779 and parameters: {'n_estimators': 188, 'max_depth': 16, 'min_samples_split': 8}. Best is trial 6 with value: 9.43106260134372.\n",
      "[I 2025-04-05 17:34:31,292] Trial 8 finished with value: 59.35391665249331 and parameters: {'n_estimators': 141, 'max_depth': 5, 'min_samples_split': 10}. Best is trial 6 with value: 9.43106260134372.\n",
      "[I 2025-04-05 17:34:41,635] Trial 9 finished with value: 10.519257509935297 and parameters: {'n_estimators': 59, 'max_depth': 12, 'min_samples_split': 2}. Best is trial 6 with value: 9.43106260134372.\n",
      "[I 2025-04-05 17:35:00,671] Trial 10 finished with value: 9.32159005394321 and parameters: {'n_estimators': 108, 'max_depth': 30, 'min_samples_split': 4}. Best is trial 10 with value: 9.32159005394321.\n",
      "[I 2025-04-05 17:35:20,007] Trial 11 finished with value: 9.340212107519026 and parameters: {'n_estimators': 110, 'max_depth': 30, 'min_samples_split': 4}. Best is trial 10 with value: 9.32159005394321.\n",
      "[I 2025-04-05 17:35:41,811] Trial 12 finished with value: 9.365520451473323 and parameters: {'n_estimators': 118, 'max_depth': 30, 'min_samples_split': 4}. Best is trial 10 with value: 9.32159005394321.\n",
      "[I 2025-04-05 17:35:57,613] Trial 13 finished with value: 9.257273685611851 and parameters: {'n_estimators': 87, 'max_depth': 29, 'min_samples_split': 4}. Best is trial 13 with value: 9.257273685611851.\n",
      "[I 2025-04-05 17:36:13,547] Trial 14 finished with value: 9.245127781677773 and parameters: {'n_estimators': 87, 'max_depth': 25, 'min_samples_split': 4}. Best is trial 14 with value: 9.245127781677773.\n",
      "[I 2025-04-05 17:36:28,734] Trial 15 finished with value: 9.221705121236798 and parameters: {'n_estimators': 81, 'max_depth': 25, 'min_samples_split': 3}. Best is trial 15 with value: 9.221705121236798.\n",
      "[I 2025-04-05 17:36:39,774] Trial 16 finished with value: 9.327472758034512 and parameters: {'n_estimators': 59, 'max_depth': 24, 'min_samples_split': 2}. Best is trial 15 with value: 9.221705121236798.\n",
      "[I 2025-04-05 17:36:54,639] Trial 17 finished with value: 9.34562624550903 and parameters: {'n_estimators': 80, 'max_depth': 20, 'min_samples_split': 3}. Best is trial 15 with value: 9.221705121236798.\n",
      "[I 2025-04-05 17:37:18,442] Trial 18 finished with value: 9.51997039062165 and parameters: {'n_estimators': 131, 'max_depth': 26, 'min_samples_split': 5}. Best is trial 15 with value: 9.221705121236798.\n",
      "[I 2025-04-05 17:37:31,158] Trial 19 finished with value: 9.33096477951507 and parameters: {'n_estimators': 71, 'max_depth': 16, 'min_samples_split': 3}. Best is trial 15 with value: 9.221705121236798.\n",
      "[I 2025-04-05 17:37:47,549] Trial 20 finished with value: 9.620451254918692 and parameters: {'n_estimators': 94, 'max_depth': 26, 'min_samples_split': 6}. Best is trial 15 with value: 9.221705121236798.\n",
      "[I 2025-04-05 17:38:03,821] Trial 21 finished with value: 9.186418716370072 and parameters: {'n_estimators': 87, 'max_depth': 27, 'min_samples_split': 3}. Best is trial 21 with value: 9.186418716370072.\n",
      "[I 2025-04-05 17:38:13,909] Trial 22 finished with value: 9.59557005602166 and parameters: {'n_estimators': 55, 'max_depth': 23, 'min_samples_split': 3}. Best is trial 21 with value: 9.186418716370072.\n",
      "[I 2025-04-05 17:38:27,912] Trial 23 finished with value: 9.673484047447229 and parameters: {'n_estimators': 75, 'max_depth': 27, 'min_samples_split': 5}. Best is trial 21 with value: 9.186418716370072.\n",
      "[I 2025-04-05 17:38:45,257] Trial 24 finished with value: 9.267405739396924 and parameters: {'n_estimators': 95, 'max_depth': 20, 'min_samples_split': 3}. Best is trial 21 with value: 9.186418716370072.\n",
      "[I 2025-04-05 17:39:09,778] Trial 25 finished with value: 9.192519885680355 and parameters: {'n_estimators': 133, 'max_depth': 24, 'min_samples_split': 3}. Best is trial 21 with value: 9.186418716370072.\n",
      "[I 2025-04-05 17:39:32,406] Trial 26 finished with value: 9.17545270200672 and parameters: {'n_estimators': 131, 'max_depth': 21, 'min_samples_split': 2}. Best is trial 26 with value: 9.17545270200672.\n",
      "[I 2025-04-05 17:39:58,773] Trial 27 finished with value: 9.161911454001611 and parameters: {'n_estimators': 139, 'max_depth': 21, 'min_samples_split': 2}. Best is trial 27 with value: 9.161911454001611.\n",
      "[I 2025-04-05 17:40:26,075] Trial 28 finished with value: 9.18609146984798 and parameters: {'n_estimators': 144, 'max_depth': 20, 'min_samples_split': 2}. Best is trial 27 with value: 9.161911454001611.\n",
      "[I 2025-04-05 17:40:53,635] Trial 29 finished with value: 9.12359931285975 and parameters: {'n_estimators': 143, 'max_depth': 21, 'min_samples_split': 2}. Best is trial 29 with value: 9.12359931285975.\n",
      "[I 2025-04-05 17:41:24,137] Trial 30 finished with value: 9.3523190200944 and parameters: {'n_estimators': 167, 'max_depth': 14, 'min_samples_split': 2}. Best is trial 29 with value: 9.12359931285975.\n",
      "[I 2025-04-05 17:41:51,717] Trial 31 finished with value: 9.107490549007593 and parameters: {'n_estimators': 146, 'max_depth': 21, 'min_samples_split': 2}. Best is trial 31 with value: 9.107490549007593.\n",
      "[I 2025-04-05 17:42:16,866] Trial 32 finished with value: 9.111088916944043 and parameters: {'n_estimators': 145, 'max_depth': 18, 'min_samples_split': 2}. Best is trial 31 with value: 9.107490549007593.\n",
      "[I 2025-04-05 17:42:39,517] Trial 33 finished with value: 9.111088916944043 and parameters: {'n_estimators': 145, 'max_depth': 18, 'min_samples_split': 2}. Best is trial 31 with value: 9.107490549007593.\n",
      "[I 2025-04-05 17:43:06,319] Trial 34 finished with value: 9.098481610807278 and parameters: {'n_estimators': 149, 'max_depth': 18, 'min_samples_split': 2}. Best is trial 34 with value: 9.098481610807278.\n",
      "[I 2025-04-05 17:43:39,152] Trial 35 finished with value: 9.076316771558353 and parameters: {'n_estimators': 177, 'max_depth': 17, 'min_samples_split': 3}. Best is trial 35 with value: 9.076316771558353.\n",
      "[I 2025-04-05 17:44:13,218] Trial 36 finished with value: 9.11334829212099 and parameters: {'n_estimators': 184, 'max_depth': 18, 'min_samples_split': 3}. Best is trial 35 with value: 9.076316771558353.\n",
      "[I 2025-04-05 17:44:44,335] Trial 37 finished with value: 10.194977972577878 and parameters: {'n_estimators': 196, 'max_depth': 13, 'min_samples_split': 7}. Best is trial 35 with value: 9.076316771558353.\n",
      "[I 2025-04-05 17:45:14,187] Trial 38 finished with value: 9.459331587194141 and parameters: {'n_estimators': 172, 'max_depth': 16, 'min_samples_split': 5}. Best is trial 35 with value: 9.076316771558353.\n",
      "[I 2025-04-05 17:45:39,734] Trial 39 finished with value: 10.282952797480739 and parameters: {'n_estimators': 154, 'max_depth': 17, 'min_samples_split': 9}. Best is trial 35 with value: 9.076316771558353.\n",
      "[I 2025-04-05 17:48:23,443] Trial 40 finished with value: 9.848589189545585 and parameters: {'n_estimators': 166, 'max_depth': 15, 'min_samples_split': 7}. Best is trial 35 with value: 9.076316771558353.\n",
      "[I 2025-04-05 17:48:48,492] Trial 41 finished with value: 9.095174328286845 and parameters: {'n_estimators': 151, 'max_depth': 18, 'min_samples_split': 2}. Best is trial 35 with value: 9.076316771558353.\n",
      "[I 2025-04-05 17:49:11,085] Trial 42 finished with value: 11.45194400845252 and parameters: {'n_estimators': 154, 'max_depth': 11, 'min_samples_split': 2}. Best is trial 35 with value: 9.076316771558353.\n",
      "[I 2025-04-05 17:49:43,900] Trial 43 finished with value: 9.074517610378512 and parameters: {'n_estimators': 177, 'max_depth': 17, 'min_samples_split': 2}. Best is trial 43 with value: 9.074517610378512.\n",
      "[I 2025-04-05 17:50:17,210] Trial 44 finished with value: 9.028517471696807 and parameters: {'n_estimators': 179, 'max_depth': 19, 'min_samples_split': 3}. Best is trial 44 with value: 9.028517471696807.\n",
      "[I 2025-04-05 17:50:50,451] Trial 45 finished with value: 9.23615652817452 and parameters: {'n_estimators': 184, 'max_depth': 19, 'min_samples_split': 4}. Best is trial 44 with value: 9.028517471696807.\n",
      "[I 2025-04-05 17:51:24,658] Trial 46 finished with value: 9.038571602842184 and parameters: {'n_estimators': 200, 'max_depth': 17, 'min_samples_split': 3}. Best is trial 44 with value: 9.028517471696807.\n",
      "[I 2025-04-05 17:51:59,294] Trial 47 finished with value: 9.450748658206626 and parameters: {'n_estimators': 200, 'max_depth': 14, 'min_samples_split': 4}. Best is trial 44 with value: 9.028517471696807.\n",
      "[I 2025-04-05 17:52:23,497] Trial 48 finished with value: 13.300333890910917 and parameters: {'n_estimators': 179, 'max_depth': 10, 'min_samples_split': 3}. Best is trial 44 with value: 9.028517471696807.\n",
      "[I 2025-04-05 17:52:58,493] Trial 49 finished with value: 9.15291718097263 and parameters: {'n_estimators': 193, 'max_depth': 17, 'min_samples_split': 4}. Best is trial 44 with value: 9.028517471696807.\n"
     ]
    },
    {
     "name": "stdout",
     "output_type": "stream",
     "text": [
      "Best Trial: FrozenTrial(number=44, state=1, values=[9.028517471696807], datetime_start=datetime.datetime(2025, 4, 5, 17, 49, 43, 900859), datetime_complete=datetime.datetime(2025, 4, 5, 17, 50, 17, 208631), params={'n_estimators': 179, 'max_depth': 19, 'min_samples_split': 3}, user_attrs={}, system_attrs={}, intermediate_values={}, distributions={'n_estimators': IntDistribution(high=200, log=False, low=50, step=1), 'max_depth': IntDistribution(high=30, log=False, low=5, step=1), 'min_samples_split': IntDistribution(high=10, log=False, low=2, step=1)}, trial_id=44, value=None)\n",
      "Best Hyperparameters: {'n_estimators': 179, 'max_depth': 19, 'min_samples_split': 3}\n"
     ]
    }
   ],
   "source": [
    "# Bayesian Optimization (Optuna)\n",
    "\n",
    "def objective(trial):\n",
    "    n_estimators = trial.suggest_int(\"n_estimators\", 50, 200)\n",
    "    max_depth = trial.suggest_int(\"max_depth\", 5, 30)\n",
    "    min_samples_split = trial.suggest_int(\"min_samples_split\", 2, 10)\n",
    "\n",
    "    model = RandomForestRegressor(\n",
    "        n_estimators=n_estimators,\n",
    "        max_depth=max_depth,\n",
    "        min_samples_split=min_samples_split,\n",
    "        random_state=RANDOM_STATE\n",
    "    )\n",
    "    model.fit(X_train, y_train)\n",
    "    y_pred = model.predict(X_test)\n",
    "    return mean_squared_error(y_test, y_pred)\n",
    "\n",
    "study = optuna.create_study(direction=\"minimize\")\n",
    "study.optimize(objective, n_trials=50)\n",
    "\n",
    "print(f\"Best Trial: {study.best_trial}\")\n",
    "print(f\"Best Hyperparameters: {study.best_trial.params}\")\n"
   ]
  },
  {
   "cell_type": "markdown",
   "id": "8d5fb658-926d-46cd-90e4-bd7d91b09c46",
   "metadata": {},
   "source": [
    "Bayesian Optimization best hyperparameters consists of n_estimators = 179, max_depth = 19, min_samples_split = 3. The objective value [9.0285] reflects the negative mean squared error (MSE) for the trial. This is very close to the other searches which indicates comparable performance. "
   ]
  },
  {
   "cell_type": "code",
   "execution_count": 233,
   "id": "333c0a15-ed4b-45b9-96ca-f634171bcb4c",
   "metadata": {},
   "outputs": [
    {
     "name": "stdout",
     "output_type": "stream",
     "text": [
      "Final Random Forest Regressor with Grid Search CV Parameters:\n",
      "Mean Squared Error (MSE): 8.98\n",
      "Root Mean Squared Error (RMSE): 3.00\n",
      "Mean Absolute Error (MAE): 1.99\n",
      "R² Score: 0.99\n"
     ]
    }
   ],
   "source": [
    "final_rf_model = RandomForestRegressor(\n",
    "    n_estimators=grid_search.best_params_['n_estimators'],\n",
    "    max_depth=grid_search.best_params_['max_depth'],\n",
    "    min_samples_split=grid_search.best_params_['min_samples_split'],\n",
    "    random_state=RANDOM_STATE\n",
    ")\n",
    "final_rf_model.fit(X_train, y_train)\n",
    "y_pred_final_rf = final_rf_model.predict(X_test)\n",
    "\n",
    "print(\"Final Random Forest Regressor with Grid Search CV Parameters:\")\n",
    "evaluate_model(y_test, y_pred_final_rf)"
   ]
  },
  {
   "cell_type": "code",
   "execution_count": 232,
   "id": "8e8dae67-cd98-4c09-959a-933b2204f8bf",
   "metadata": {},
   "outputs": [
    {
     "name": "stdout",
     "output_type": "stream",
     "text": [
      "Final Random Forest Regressor with Bayesian Optimization Parameters:\n",
      "Mean Squared Error (MSE): 8.98\n",
      "Root Mean Squared Error (RMSE): 3.00\n",
      "Mean Absolute Error (MAE): 1.99\n",
      "R² Score: 0.99\n"
     ]
    }
   ],
   "source": [
    "best_model_2 = RandomForestRegressor(n_estimators=179, max_depth=19, min_samples_split=3, random_state=42)\n",
    "best_model_2.fit(X_train, y_train)\n",
    "y_pred_2 = best_model.predict(X_test)\n",
    "\n",
    "print(\"Final Random Forest Regressor with Bayesian Optimization Parameters:\")\n",
    "evaluate_model(y_test, y_pred_2)"
   ]
  },
  {
   "cell_type": "markdown",
   "id": "a5d1bd5b-a8be-491a-97f1-a54985a2dd80",
   "metadata": {},
   "source": [
    "The final evaluation of models show identical performance metrics. Bayesian Optimization required fewer trials compared to the exhaustive approach of Grid Search CV, thus making it potentially more efficient. "
   ]
  },
  {
   "cell_type": "code",
   "execution_count": 251,
   "id": "bc7e7f65-523a-4d0e-b501-a79009acd735",
   "metadata": {},
   "outputs": [
    {
     "name": "stdout",
     "output_type": "stream",
     "text": [
      "Training Feature Names:\n",
      "Index(['elevation', 'precip_accumulation', 'precip_increment', 'airtemp_obs',\n",
      "       'airtemp_avg', 'airtemp_max', 'airtemp_min', 'soiltemp_obs',\n",
      "       'soiltemp_avg', 'soiltemp_max', 'soiltemp_min', 'soilmoisture_avg',\n",
      "       '7d_airtemp_avg', '7d_airtemp_std', '7d_airtemp_var', '7d_airtemp_sum',\n",
      "       '7d_airtemp_median', '7d_airtemp_min', '7d_airtemp_max',\n",
      "       '30d_airtemp_avg', '30d_airtemp_std', '30d_airtemp_var',\n",
      "       '30d_airtemp_sum', '30d_airtemp_median', '30d_airtemp_min',\n",
      "       '30d_airtemp_max', 'month', 'year', 'station_name_Brighton',\n",
      "       'station_name_Dry Fork', 'station_name_Mill-D North'],\n",
      "      dtype='object')\n"
     ]
    }
   ],
   "source": [
    "print(\"Training Feature Names:\")\n",
    "print(X_train.columns)"
   ]
  },
  {
   "cell_type": "markdown",
   "id": "bffeb5da-2009-490e-bb51-e3c671a6af7a",
   "metadata": {},
   "source": [
    "### Potential Scenarios to explore \n",
    "1. Seasonal Trends (Based on \"month\")\n",
    "2. Extreme Weather Events (Using \"precip_accumulation\")\n",
    "3. Long-term Air Temperature Effects (Using \"30d_airtemp_max\" and \"30d_airtemp_median\")\n",
    "4. Soil Temperature Influences (Using \"soiltemp_max\")"
   ]
  },
  {
   "cell_type": "code",
   "execution_count": 270,
   "id": "6c5a7527-1dcc-4606-8c9b-0070ad88ca52",
   "metadata": {},
   "outputs": [],
   "source": [
    "scenario_seasonal_trends = pd.DataFrame({\n",
    "    'elevation': [8750, 8750],                   # Same elevation\n",
    "    'precip_accumulation': [50, 5],             # Heavy snowfall in January, light in May\n",
    "    'precip_increment': [2, 0.5],               # Gradual vs minimal accumulation\n",
    "    'airtemp_obs': [10, 70],                    # Cold winter, warm summer (in °F)\n",
    "    'airtemp_avg': [10, 70],\n",
    "    'airtemp_max': [32, 90],\n",
    "    'airtemp_min': [-10, 60],\n",
    "    'soiltemp_obs': [0, 60],                    # Frozen in winter, warm soil in summer\n",
    "    'soiltemp_avg': [0, 55],\n",
    "    'soiltemp_max': [10, 65],\n",
    "    'soiltemp_min': [-10, 50],\n",
    "    'soilmoisture_avg': [0.7, 0.3],             # Moist soil in winter, dry in summer\n",
    "    '7d_airtemp_avg': [0, 70],\n",
    "    '7d_airtemp_std': [2, 5],\n",
    "    '7d_airtemp_var': [0.4, 1.0],\n",
    "    '7d_airtemp_sum': [-32, 490],\n",
    "    '7d_airtemp_median': [-8, 72],\n",
    "    '7d_airtemp_min': [-10, 65],\n",
    "    '7d_airtemp_max': [32, 90],\n",
    "    '30d_airtemp_avg': [-9, 68],\n",
    "    '30d_airtemp_std': [3, 6],\n",
    "    '30d_airtemp_var': [0.5, 1.5],\n",
    "    '30d_airtemp_sum': [-100, 2000],\n",
    "    '30d_airtemp_median': [-8, 70],\n",
    "    '30d_airtemp_min': [-11, 64],\n",
    "    '30d_airtemp_max': [0, 90],\n",
    "    'month': [1, 5],                            # January vs May\n",
    "    'year': [2024, 2024],\n",
    "    'station_name_Brighton': [1, 0],\n",
    "    'station_name_Dry Fork': [0, 1],\n",
    "    'station_name_Mill-D North': [0, 0]\n",
    "})"
   ]
  },
  {
   "cell_type": "code",
   "execution_count": 272,
   "id": "66a0ced7-92f0-4322-8373-45b74783af6f",
   "metadata": {},
   "outputs": [
    {
     "name": "stdout",
     "output_type": "stream",
     "text": [
      "   month  elevation  precip_accumulation  predicted_snow_depth\n",
      "0      1       8750                   50            131.555128\n",
      "1      5       8750                    5              1.840968\n"
     ]
    }
   ],
   "source": [
    "scenario_seasonal_trends['predicted_snow_depth'] = best_model_2.predict(scenario_seasonal_trends)\n",
    "\n",
    "# Display predictions\n",
    "print(scenario_seasonal_trends[['month', 'elevation', 'precip_accumulation', 'predicted_snow_depth']])"
   ]
  },
  {
   "cell_type": "code",
   "execution_count": 278,
   "id": "4271f7f9-0796-447f-a214-af9c3ace3e86",
   "metadata": {},
   "outputs": [],
   "source": [
    "scenario_extreme_weather = pd.DataFrame({\n",
    "    'elevation': [8750, 8750],                   # Same elevation\n",
    "    'precip_accumulation': [100, 1],            # Extreme snowfall vs minimal\n",
    "    'precip_increment': [5, 0.1],               # Rapid vs slow accumulation\n",
    "    'airtemp_obs': [15, 35],                    # Cold vs moderate temperature\n",
    "    'airtemp_avg': [15, 35],\n",
    "    'airtemp_max': [32, 50],\n",
    "    'airtemp_min': [-5, 25],\n",
    "    'soiltemp_obs': [0, 20],                    # Frozen vs thawed soil\n",
    "    'soiltemp_avg': [2, 22],\n",
    "    'soiltemp_max': [5, 25],\n",
    "    'soiltemp_min': [-2, 20],\n",
    "    'soilmoisture_avg': [0.8, 0.2],             # Saturated vs dry soil\n",
    "    '7d_airtemp_avg': [0, 34],\n",
    "    '7d_airtemp_std': [3, 2],\n",
    "    '7d_airtemp_var': [0.6, 0.4],\n",
    "    '7d_airtemp_sum': [-30, 238],\n",
    "    '7d_airtemp_median': [-6, 34],\n",
    "    '7d_airtemp_min': [-10, 28],\n",
    "    '7d_airtemp_max': [32, 50],\n",
    "    '30d_airtemp_avg': [-8, 30],\n",
    "    '30d_airtemp_std': [4, 3],\n",
    "    '30d_airtemp_var': [0.7, 0.5],\n",
    "    '30d_airtemp_sum': [-120, 900],\n",
    "    '30d_airtemp_median': [-8, 30],\n",
    "    '30d_airtemp_min': [-12, 25],\n",
    "    '30d_airtemp_max': [0, 50],\n",
    "    'month': [12, 4],                           # December (extreme snow) vs April (minimal)\n",
    "    'year': [2024, 2024],\n",
    "    'station_name_Brighton': [0, 1],\n",
    "    'station_name_Dry Fork': [1, 0],\n",
    "    'station_name_Mill-D North': [0, 0]\n",
    "})"
   ]
  },
  {
   "cell_type": "code",
   "execution_count": 280,
   "id": "ecbe3dc0-8561-48ea-9a25-66fe52a83cf2",
   "metadata": {},
   "outputs": [],
   "source": [
    "scenario_air_temp = pd.DataFrame({\n",
    "    'elevation': [8750, 8750],                   # Same elevation\n",
    "    'precip_accumulation': [30, 30],            # Same precipitation\n",
    "    'precip_increment': [2, 2],\n",
    "    'airtemp_obs': [0, 20],                     # Colder vs warmer air\n",
    "    'airtemp_avg': [0, 20],\n",
    "    'airtemp_max': [10, 40],\n",
    "    'airtemp_min': [-10, 15],\n",
    "    'soiltemp_obs': [-5, 15],\n",
    "    'soiltemp_avg': [-3, 17],\n",
    "    'soiltemp_max': [0, 20],\n",
    "    'soiltemp_min': [-10, 14],\n",
    "    'soilmoisture_avg': [0.6, 0.4],             # Slightly moist vs drying soil\n",
    "    '7d_airtemp_avg': [2, 22],\n",
    "    '7d_airtemp_std': [1.5, 2.5],\n",
    "    '7d_airtemp_var': [0.4, 0.6],\n",
    "    '7d_airtemp_sum': [-20, 210],\n",
    "    '7d_airtemp_median': [-4, 20],\n",
    "    '7d_airtemp_min': [-8, 18],\n",
    "    '7d_airtemp_max': [10, 42],\n",
    "    '30d_airtemp_avg': [-2, 25],\n",
    "    '30d_airtemp_std': [2, 5],\n",
    "    '30d_airtemp_var': [0.5, 1.5],\n",
    "    '30d_airtemp_sum': [-70, 750],\n",
    "    '30d_airtemp_median': [-3, 25],\n",
    "    '30d_airtemp_min': [-5, 22],\n",
    "    '30d_airtemp_max': [5, 45],\n",
    "    'month': [3, 5],                            # March vs May\n",
    "    'year': [2024, 2024],\n",
    "    'station_name_Brighton': [1, 0],\n",
    "    'station_name_Dry Fork': [0, 1],\n",
    "    'station_name_Mill-D North': [0, 0]\n",
    "})"
   ]
  },
  {
   "cell_type": "code",
   "execution_count": 274,
   "id": "9ed9fb84-e9f1-40d6-b7aa-11fe5ddb687c",
   "metadata": {},
   "outputs": [],
   "source": [
    "scenario_soil_temp = pd.DataFrame({\n",
    "    'elevation': [8750, 8750],                   # Same elevation\n",
    "    'precip_accumulation': [30, 30],            # Same precipitation\n",
    "    'precip_increment': [2, 2],                 # Same accumulation rate\n",
    "    'airtemp_obs': [10, 10],                    # Same air temperature\n",
    "    'airtemp_avg': [10, 10],\n",
    "    'airtemp_max': [32, 32],\n",
    "    'airtemp_min': [-10, -10],\n",
    "    'soiltemp_obs': [-10, 15],                  # Frozen soil vs warm soil\n",
    "    'soiltemp_avg': [-9, 16],\n",
    "    'soiltemp_max': [-5, 20],\n",
    "    'soiltemp_min': [-15, 10],                  # Minimum soil temperature differs by condition\n",
    "    'soilmoisture_avg': [0.9, 0.5],             # Saturated vs moderate soil moisture\n",
    "    '7d_airtemp_avg': [8, 8],                   \n",
    "    '7d_airtemp_std': [2, 2],                 \n",
    "    '7d_airtemp_var': [0.4, 0.4],              \n",
    "    '7d_airtemp_sum': [56, 56],                 \n",
    "    '7d_airtemp_median': [8, 8],                \n",
    "    '7d_airtemp_min': [5, 5],                   \n",
    "    '7d_airtemp_max': [10, 10],                 \n",
    "    '30d_airtemp_avg': [7, 7],                 \n",
    "    '30d_airtemp_std': [1.5, 1.5],              \n",
    "    '30d_airtemp_var': [0.3, 0.3],            \n",
    "    '30d_airtemp_sum': [210, 210],              \n",
    "    '30d_airtemp_median': [7, 7],               \n",
    "    '30d_airtemp_min': [6, 6],                  \n",
    "    '30d_airtemp_max': [8, 8],                  \n",
    "    'month': [1, 1],                            \n",
    "    'year': [2024, 2024],                       \n",
    "    'station_name_Brighton': [1, 0],           \n",
    "    'station_name_Dry Fork': [0, 1],            \n",
    "    'station_name_Mill-D North': [0, 0]        \n",
    "})"
   ]
  },
  {
   "cell_type": "code",
   "execution_count": 292,
   "id": "41715444-84ac-4bde-bdfb-22e9bbbd8b12",
   "metadata": {},
   "outputs": [
    {
     "name": "stdout",
     "output_type": "stream",
     "text": [
      "--- Seasonal Trends ---\n",
      "   elevation  precip_accumulation  predicted_snow_depth\n",
      "0       8750                   50            131.555128\n",
      "1       8750                    5              1.840968\n",
      "\n",
      "\n",
      "--- Extreme Weather Events ---\n",
      "   elevation  precip_accumulation  predicted_snow_depth\n",
      "0       8750                  100             63.335368\n",
      "1       8750                    1             14.357263\n",
      "\n",
      "\n",
      "--- Long-term Air Temperature Effects ---\n",
      "   elevation  precip_accumulation  predicted_snow_depth\n",
      "0       8750                   30             93.563687\n",
      "1       8750                   30             35.626638\n",
      "\n",
      "\n",
      "--- Soil Temperature Influences ---\n",
      "   elevation  precip_accumulation  predicted_snow_depth\n",
      "0       8750                   30             94.715084\n",
      "1       8750                   30             95.015164\n",
      "\n",
      "\n"
     ]
    }
   ],
   "source": [
    "\n",
    "scenarios = {\n",
    "    \"Seasonal Trends\": scenario_seasonal_trends,\n",
    "    \"Extreme Weather Events\": scenario_extreme_weather,\n",
    "    \"Long-term Air Temperature Effects\": scenario_air_temp,\n",
    "    \"Soil Temperature Influences\": scenario_soil_temp\n",
    "}\n",
    "\n",
    "for name, data in scenarios.items():\n",
    "    # Ensure input data matches training features\n",
    "    data = data.reindex(columns=X_train.columns, fill_value=0)\n",
    "\n",
    "    #predictions\n",
    "    data['predicted_snow_depth'] = best_model_2.predict(data)\n",
    "\n",
    "    print(f\"--- {name} ---\") # readiability\n",
    "    print(data[['elevation', 'precip_accumulation', 'predicted_snow_depth']])\n",
    "    print(\"\\n\")  # blank line in between"
   ]
  }
 ],
 "metadata": {
  "kernelspec": {
   "display_name": "Python 3 (ipykernel)",
   "language": "python",
   "name": "python3"
  },
  "language_info": {
   "codemirror_mode": {
    "name": "ipython",
    "version": 3
   },
   "file_extension": ".py",
   "mimetype": "text/x-python",
   "name": "python",
   "nbconvert_exporter": "python",
   "pygments_lexer": "ipython3",
   "version": "3.12.7"
  }
 },
 "nbformat": 4,
 "nbformat_minor": 5
}
