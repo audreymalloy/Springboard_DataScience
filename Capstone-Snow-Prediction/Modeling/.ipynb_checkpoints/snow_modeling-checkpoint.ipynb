{
 "cells": [
  {
   "cell_type": "markdown",
   "id": "89aa884b-2384-4c5c-b4fb-11db2ae6c9b3",
   "metadata": {},
   "source": [
    "Snow Prediction Capstone Modeling"
   ]
  },
  {
   "cell_type": "code",
   "execution_count": null,
   "id": "0fd37e66-56dc-4099-94d6-1a2008d528a2",
   "metadata": {},
   "outputs": [],
   "source": [
    "import pandas as pd\n",
    "import numpy as np\n",
    "import os\n",
    "import pickle\n",
    "import matplotlib.pyplot as plt\n",
    "import seaborn as sns\n",
    "from sklearn import __version__ as sklearn_version\n",
    "from sklearn.model_selection import cross_validate"
   ]
  },
  {
   "cell_type": "code",
   "execution_count": null,
   "id": "38ddf307-d6ac-46f7-8d5f-3e59dd3b6e51",
   "metadata": {},
   "outputs": [],
   "source": [
    "os.chdir('C:/Users/aamal/Desktop/Springboard/Springboard_DataScience/Capstone-Snow-Prediction/Data')\n",
    "file_path = 'C:/Users/aamal/Desktop/Springboard/Springboard_DataScience/Capstone-Snow-Prediction/Data/snow_data_cleaned.csv'\n",
    "snow_data = pd.read_csv(file_path)"
   ]
  },
  {
   "cell_type": "code",
   "execution_count": null,
   "id": "718b9230-f4a4-4b89-849c-cf08bb4c803e",
   "metadata": {},
   "outputs": [],
   "source": [
    "\n",
    "X = snow_data.drop('snowdepth', axis=1)\n",
    "y = snow_data['snowdepth']"
   ]
  },
  {
   "cell_type": "code",
   "execution_count": null,
   "id": "bcdae122-5aef-4168-9a07-a6cecc557157",
   "metadata": {},
   "outputs": [],
   "source": [
    "X_train, X_test, y_train, y_test = train_test_split(X, y, test_size=0.2, random_state=42)"
   ]
  },
  {
   "cell_type": "code",
   "execution_count": null,
   "id": "a49d39d5-cabc-4f4d-a9c3-361ddc454634",
   "metadata": {},
   "outputs": [],
   "source": [
    "# Model 1: Random Forest\n",
    "rf = RandomForestClassifier()\n",
    "rf_params = {'n_estimators': [100, 200], 'max_depth': [10, 20]}\n",
    "rf_grid = GridSearchCV(rf, rf_params, cv=5)\n",
    "rf_grid.fit(X_train, y_train)\n",
    "rf_pred = rf_grid.predict(X_test)"
   ]
  },
  {
   "cell_type": "code",
   "execution_count": null,
   "id": "2b675c5b-ea80-4bac-bbb9-1400bae755d2",
   "metadata": {},
   "outputs": [],
   "source": [
    "# Model 2: Logistic Regression\n",
    "lr = LogisticRegression()\n",
    "lr.fit(X_train, y_train)\n",
    "lr_pred = lr.predict(X_test)"
   ]
  },
  {
   "cell_type": "code",
   "execution_count": null,
   "id": "f4286b2f-aa29-4325-a83f-2b11133c2773",
   "metadata": {},
   "outputs": [],
   "source": [
    "# Model 3: Support Vector Machine\n",
    "svm = SVC()\n",
    "svm_params = {'C': [0.1, 1], 'kernel': ['linear', 'rbf']}\n",
    "svm_grid = GridSearchCV(svm, svm_params, cv=5)\n",
    "svm_grid.fit(X_train, y_train)\n",
    "svm_pred = svm_grid.predict(X_test)"
   ]
  },
  {
   "cell_type": "code",
   "execution_count": null,
   "id": "9e59aa45-9198-4f93-9cb4-42c80973160e",
   "metadata": {},
   "outputs": [],
   "source": [
    "# Evaluate models using standard metrics\n",
    "def evaluate_model(y_true, y_pred):\n",
    "    print(f'Accuracy: {accuracy_score(y_true, y_pred)}')\n",
    "    print(f'Precision: {precision_score(y_true, y_pred)}')\n",
    "    print(f'Recall: {recall_score(y_true, y_pred)}')\n",
    "    print(f'F1 Score: {f1_score(y_true, y_pred)}')\n",
    "\n",
    "print(\"Random Forest Evaluation:\")\n",
    "evaluate_model(y_test, rf_pred)\n",
    "\n",
    "print(\"\\nLogistic Regression Evaluation:\")\n",
    "evaluate_model(y_test, lr_pred)\n",
    "\n",
    "print(\"\\nSVM Evaluation:\")\n",
    "evaluate_model(y_test, svm_pred)"
   ]
  }
 ],
 "metadata": {
  "kernelspec": {
   "display_name": "Python 3 (ipykernel)",
   "language": "python",
   "name": "python3"
  },
  "language_info": {
   "codemirror_mode": {
    "name": "ipython",
    "version": 3
   },
   "file_extension": ".py",
   "mimetype": "text/x-python",
   "name": "python",
   "nbconvert_exporter": "python",
   "pygments_lexer": "ipython3",
   "version": "3.12.7"
  }
 },
 "nbformat": 4,
 "nbformat_minor": 5
}
